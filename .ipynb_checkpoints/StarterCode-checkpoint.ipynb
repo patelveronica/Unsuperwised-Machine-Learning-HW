{
 "cells": [
  {
   "cell_type": "code",
   "execution_count": 52,
   "metadata": {},
   "outputs": [],
   "source": [
    "from sklearn.preprocessing import normalize\n",
    "from scipy.cluster.hierarchy import dendrogram, linkage\n",
    "from sklearn.cluster import AgglomerativeClustering\n",
    "from sklearn.preprocessing import StandardScaler, MinMaxScaler\n",
    "from sklearn.decomposition import PCA\n",
    "from sklearn.manifold import TSNE\n",
    "from sklearn.cluster import KMeans\n",
    "import matplotlib.pyplot as plt\n",
    "from pathlib import Path\n",
    "# import hvplot.pandas"
   ]
  },
  {
   "cell_type": "code",
   "execution_count": 2,
   "metadata": {},
   "outputs": [],
   "source": [
    "import pandas as pd\n",
    "df = pd.read_csv(Path('Resources/crypto_data.csv'), index_col=0)"
   ]
  },
  {
   "cell_type": "code",
   "execution_count": 3,
   "metadata": {},
   "outputs": [
    {
     "name": "stdout",
     "output_type": "stream",
     "text": [
      "(1252, 6)\n"
     ]
    },
    {
     "data": {
      "text/html": [
       "<div>\n",
       "<style scoped>\n",
       "    .dataframe tbody tr th:only-of-type {\n",
       "        vertical-align: middle;\n",
       "    }\n",
       "\n",
       "    .dataframe tbody tr th {\n",
       "        vertical-align: top;\n",
       "    }\n",
       "\n",
       "    .dataframe thead th {\n",
       "        text-align: right;\n",
       "    }\n",
       "</style>\n",
       "<table border=\"1\" class=\"dataframe\">\n",
       "  <thead>\n",
       "    <tr style=\"text-align: right;\">\n",
       "      <th></th>\n",
       "      <th>CoinName</th>\n",
       "      <th>Algorithm</th>\n",
       "      <th>IsTrading</th>\n",
       "      <th>ProofType</th>\n",
       "      <th>TotalCoinsMined</th>\n",
       "      <th>TotalCoinSupply</th>\n",
       "    </tr>\n",
       "  </thead>\n",
       "  <tbody>\n",
       "    <tr>\n",
       "      <th>42</th>\n",
       "      <td>42 Coin</td>\n",
       "      <td>Scrypt</td>\n",
       "      <td>True</td>\n",
       "      <td>PoW/PoS</td>\n",
       "      <td>4.199995e+01</td>\n",
       "      <td>42</td>\n",
       "    </tr>\n",
       "    <tr>\n",
       "      <th>365</th>\n",
       "      <td>365Coin</td>\n",
       "      <td>X11</td>\n",
       "      <td>True</td>\n",
       "      <td>PoW/PoS</td>\n",
       "      <td>NaN</td>\n",
       "      <td>2300000000</td>\n",
       "    </tr>\n",
       "    <tr>\n",
       "      <th>404</th>\n",
       "      <td>404Coin</td>\n",
       "      <td>Scrypt</td>\n",
       "      <td>True</td>\n",
       "      <td>PoW/PoS</td>\n",
       "      <td>1.055185e+09</td>\n",
       "      <td>532000000</td>\n",
       "    </tr>\n",
       "    <tr>\n",
       "      <th>611</th>\n",
       "      <td>SixEleven</td>\n",
       "      <td>SHA-256</td>\n",
       "      <td>True</td>\n",
       "      <td>PoW</td>\n",
       "      <td>NaN</td>\n",
       "      <td>611000</td>\n",
       "    </tr>\n",
       "    <tr>\n",
       "      <th>808</th>\n",
       "      <td>808</td>\n",
       "      <td>SHA-256</td>\n",
       "      <td>True</td>\n",
       "      <td>PoW/PoS</td>\n",
       "      <td>0.000000e+00</td>\n",
       "      <td>0</td>\n",
       "    </tr>\n",
       "    <tr>\n",
       "      <th>1337</th>\n",
       "      <td>EliteCoin</td>\n",
       "      <td>X13</td>\n",
       "      <td>True</td>\n",
       "      <td>PoW/PoS</td>\n",
       "      <td>2.927942e+10</td>\n",
       "      <td>314159265359</td>\n",
       "    </tr>\n",
       "    <tr>\n",
       "      <th>2015</th>\n",
       "      <td>2015 coin</td>\n",
       "      <td>X11</td>\n",
       "      <td>True</td>\n",
       "      <td>PoW/PoS</td>\n",
       "      <td>NaN</td>\n",
       "      <td>0</td>\n",
       "    </tr>\n",
       "    <tr>\n",
       "      <th>BTC</th>\n",
       "      <td>Bitcoin</td>\n",
       "      <td>SHA-256</td>\n",
       "      <td>True</td>\n",
       "      <td>PoW</td>\n",
       "      <td>1.792718e+07</td>\n",
       "      <td>21000000</td>\n",
       "    </tr>\n",
       "    <tr>\n",
       "      <th>ETH</th>\n",
       "      <td>Ethereum</td>\n",
       "      <td>Ethash</td>\n",
       "      <td>True</td>\n",
       "      <td>PoW</td>\n",
       "      <td>1.076842e+08</td>\n",
       "      <td>0</td>\n",
       "    </tr>\n",
       "    <tr>\n",
       "      <th>LTC</th>\n",
       "      <td>Litecoin</td>\n",
       "      <td>Scrypt</td>\n",
       "      <td>True</td>\n",
       "      <td>PoW</td>\n",
       "      <td>6.303924e+07</td>\n",
       "      <td>84000000</td>\n",
       "    </tr>\n",
       "  </tbody>\n",
       "</table>\n",
       "</div>"
      ],
      "text/plain": [
       "       CoinName Algorithm  IsTrading ProofType  TotalCoinsMined  \\\n",
       "42      42 Coin    Scrypt       True   PoW/PoS     4.199995e+01   \n",
       "365     365Coin       X11       True   PoW/PoS              NaN   \n",
       "404     404Coin    Scrypt       True   PoW/PoS     1.055185e+09   \n",
       "611   SixEleven   SHA-256       True       PoW              NaN   \n",
       "808         808   SHA-256       True   PoW/PoS     0.000000e+00   \n",
       "1337  EliteCoin       X13       True   PoW/PoS     2.927942e+10   \n",
       "2015  2015 coin       X11       True   PoW/PoS              NaN   \n",
       "BTC     Bitcoin   SHA-256       True       PoW     1.792718e+07   \n",
       "ETH    Ethereum    Ethash       True       PoW     1.076842e+08   \n",
       "LTC    Litecoin    Scrypt       True       PoW     6.303924e+07   \n",
       "\n",
       "     TotalCoinSupply  \n",
       "42                42  \n",
       "365       2300000000  \n",
       "404        532000000  \n",
       "611           611000  \n",
       "808                0  \n",
       "1337    314159265359  \n",
       "2015               0  \n",
       "BTC         21000000  \n",
       "ETH                0  \n",
       "LTC         84000000  "
      ]
     },
     "execution_count": 3,
     "metadata": {},
     "output_type": "execute_result"
    }
   ],
   "source": [
    "print(df.shape)\n",
    "df.head(10)"
   ]
  },
  {
   "cell_type": "code",
   "execution_count": 4,
   "metadata": {},
   "outputs": [
    {
     "data": {
      "text/plain": [
       "CoinName            object\n",
       "Algorithm           object\n",
       "IsTrading             bool\n",
       "ProofType           object\n",
       "TotalCoinsMined    float64\n",
       "TotalCoinSupply     object\n",
       "dtype: object"
      ]
     },
     "execution_count": 4,
     "metadata": {},
     "output_type": "execute_result"
    }
   ],
   "source": [
    "# list data types\n",
    "df.dtypes"
   ]
  },
  {
   "cell_type": "code",
   "execution_count": 5,
   "metadata": {},
   "outputs": [
    {
     "name": "stdout",
     "output_type": "stream",
     "text": [
      "(1252, 6)\n"
     ]
    },
    {
     "data": {
      "text/html": [
       "<div>\n",
       "<style scoped>\n",
       "    .dataframe tbody tr th:only-of-type {\n",
       "        vertical-align: middle;\n",
       "    }\n",
       "\n",
       "    .dataframe tbody tr th {\n",
       "        vertical-align: top;\n",
       "    }\n",
       "\n",
       "    .dataframe thead th {\n",
       "        text-align: right;\n",
       "    }\n",
       "</style>\n",
       "<table border=\"1\" class=\"dataframe\">\n",
       "  <thead>\n",
       "    <tr style=\"text-align: right;\">\n",
       "      <th></th>\n",
       "      <th>CoinName</th>\n",
       "      <th>Algorithm</th>\n",
       "      <th>IsTrading</th>\n",
       "      <th>ProofType</th>\n",
       "      <th>TotalCoinsMined</th>\n",
       "      <th>TotalCoinSupply</th>\n",
       "    </tr>\n",
       "  </thead>\n",
       "  <tbody>\n",
       "    <tr>\n",
       "      <th>42</th>\n",
       "      <td>42 Coin</td>\n",
       "      <td>Scrypt</td>\n",
       "      <td>True</td>\n",
       "      <td>PoW/PoS</td>\n",
       "      <td>4.199995e+01</td>\n",
       "      <td>42</td>\n",
       "    </tr>\n",
       "    <tr>\n",
       "      <th>365</th>\n",
       "      <td>365Coin</td>\n",
       "      <td>X11</td>\n",
       "      <td>True</td>\n",
       "      <td>PoW/PoS</td>\n",
       "      <td>NaN</td>\n",
       "      <td>2300000000</td>\n",
       "    </tr>\n",
       "    <tr>\n",
       "      <th>404</th>\n",
       "      <td>404Coin</td>\n",
       "      <td>Scrypt</td>\n",
       "      <td>True</td>\n",
       "      <td>PoW/PoS</td>\n",
       "      <td>1.055185e+09</td>\n",
       "      <td>532000000</td>\n",
       "    </tr>\n",
       "    <tr>\n",
       "      <th>611</th>\n",
       "      <td>SixEleven</td>\n",
       "      <td>SHA-256</td>\n",
       "      <td>True</td>\n",
       "      <td>PoW</td>\n",
       "      <td>NaN</td>\n",
       "      <td>611000</td>\n",
       "    </tr>\n",
       "    <tr>\n",
       "      <th>808</th>\n",
       "      <td>808</td>\n",
       "      <td>SHA-256</td>\n",
       "      <td>True</td>\n",
       "      <td>PoW/PoS</td>\n",
       "      <td>0.000000e+00</td>\n",
       "      <td>0</td>\n",
       "    </tr>\n",
       "    <tr>\n",
       "      <th>1337</th>\n",
       "      <td>EliteCoin</td>\n",
       "      <td>X13</td>\n",
       "      <td>True</td>\n",
       "      <td>PoW/PoS</td>\n",
       "      <td>2.927942e+10</td>\n",
       "      <td>314159265359</td>\n",
       "    </tr>\n",
       "    <tr>\n",
       "      <th>2015</th>\n",
       "      <td>2015 coin</td>\n",
       "      <td>X11</td>\n",
       "      <td>True</td>\n",
       "      <td>PoW/PoS</td>\n",
       "      <td>NaN</td>\n",
       "      <td>0</td>\n",
       "    </tr>\n",
       "    <tr>\n",
       "      <th>BTC</th>\n",
       "      <td>Bitcoin</td>\n",
       "      <td>SHA-256</td>\n",
       "      <td>True</td>\n",
       "      <td>PoW</td>\n",
       "      <td>1.792718e+07</td>\n",
       "      <td>21000000</td>\n",
       "    </tr>\n",
       "    <tr>\n",
       "      <th>ETH</th>\n",
       "      <td>Ethereum</td>\n",
       "      <td>Ethash</td>\n",
       "      <td>True</td>\n",
       "      <td>PoW</td>\n",
       "      <td>1.076842e+08</td>\n",
       "      <td>0</td>\n",
       "    </tr>\n",
       "    <tr>\n",
       "      <th>LTC</th>\n",
       "      <td>Litecoin</td>\n",
       "      <td>Scrypt</td>\n",
       "      <td>True</td>\n",
       "      <td>PoW</td>\n",
       "      <td>6.303924e+07</td>\n",
       "      <td>84000000</td>\n",
       "    </tr>\n",
       "  </tbody>\n",
       "</table>\n",
       "</div>"
      ],
      "text/plain": [
       "       CoinName Algorithm  IsTrading ProofType  TotalCoinsMined  \\\n",
       "42      42 Coin    Scrypt       True   PoW/PoS     4.199995e+01   \n",
       "365     365Coin       X11       True   PoW/PoS              NaN   \n",
       "404     404Coin    Scrypt       True   PoW/PoS     1.055185e+09   \n",
       "611   SixEleven   SHA-256       True       PoW              NaN   \n",
       "808         808   SHA-256       True   PoW/PoS     0.000000e+00   \n",
       "1337  EliteCoin       X13       True   PoW/PoS     2.927942e+10   \n",
       "2015  2015 coin       X11       True   PoW/PoS              NaN   \n",
       "BTC     Bitcoin   SHA-256       True       PoW     1.792718e+07   \n",
       "ETH    Ethereum    Ethash       True       PoW     1.076842e+08   \n",
       "LTC    Litecoin    Scrypt       True       PoW     6.303924e+07   \n",
       "\n",
       "     TotalCoinSupply  \n",
       "42                42  \n",
       "365       2300000000  \n",
       "404        532000000  \n",
       "611           611000  \n",
       "808                0  \n",
       "1337    314159265359  \n",
       "2015               0  \n",
       "BTC         21000000  \n",
       "ETH                0  \n",
       "LTC         84000000  "
      ]
     },
     "execution_count": 5,
     "metadata": {},
     "output_type": "execute_result"
    }
   ],
   "source": [
    "# Keep only cryptocurrencies with a working algorithm\n",
    "crypto_df = df[df[\"Algorithm\"] != \"N/A\"]\n",
    "print(crypto_df.shape)\n",
    "crypto_df.head(10)"
   ]
  },
  {
   "cell_type": "code",
   "execution_count": 6,
   "metadata": {
    "scrolled": true
   },
   "outputs": [
    {
     "name": "stdout",
     "output_type": "stream",
     "text": [
      "(1144, 6)\n"
     ]
    },
    {
     "data": {
      "text/html": [
       "<div>\n",
       "<style scoped>\n",
       "    .dataframe tbody tr th:only-of-type {\n",
       "        vertical-align: middle;\n",
       "    }\n",
       "\n",
       "    .dataframe tbody tr th {\n",
       "        vertical-align: top;\n",
       "    }\n",
       "\n",
       "    .dataframe thead th {\n",
       "        text-align: right;\n",
       "    }\n",
       "</style>\n",
       "<table border=\"1\" class=\"dataframe\">\n",
       "  <thead>\n",
       "    <tr style=\"text-align: right;\">\n",
       "      <th></th>\n",
       "      <th>CoinName</th>\n",
       "      <th>Algorithm</th>\n",
       "      <th>IsTrading</th>\n",
       "      <th>ProofType</th>\n",
       "      <th>TotalCoinsMined</th>\n",
       "      <th>TotalCoinSupply</th>\n",
       "    </tr>\n",
       "  </thead>\n",
       "  <tbody>\n",
       "    <tr>\n",
       "      <th>SHA</th>\n",
       "      <td>Shacoin</td>\n",
       "      <td>SHA-256</td>\n",
       "      <td>True</td>\n",
       "      <td>PoS</td>\n",
       "      <td>NaN</td>\n",
       "      <td>350000000</td>\n",
       "    </tr>\n",
       "    <tr>\n",
       "      <th>FRN</th>\n",
       "      <td>Francs</td>\n",
       "      <td>Scrypt</td>\n",
       "      <td>True</td>\n",
       "      <td>PoW</td>\n",
       "      <td>6.570808e+06</td>\n",
       "      <td>20000000</td>\n",
       "    </tr>\n",
       "    <tr>\n",
       "      <th>STO</th>\n",
       "      <td>Save The Ocean</td>\n",
       "      <td>X11</td>\n",
       "      <td>True</td>\n",
       "      <td>PoW/PoS</td>\n",
       "      <td>NaN</td>\n",
       "      <td>150000000</td>\n",
       "    </tr>\n",
       "    <tr>\n",
       "      <th>SPK</th>\n",
       "      <td>SparksPay</td>\n",
       "      <td>NeoScrypt</td>\n",
       "      <td>True</td>\n",
       "      <td>PoW</td>\n",
       "      <td>7.847417e+06</td>\n",
       "      <td>21000000</td>\n",
       "    </tr>\n",
       "    <tr>\n",
       "      <th>ADK</th>\n",
       "      <td>Aidos Kuneen</td>\n",
       "      <td>IMesh</td>\n",
       "      <td>True</td>\n",
       "      <td>PoW</td>\n",
       "      <td>2.500000e+07</td>\n",
       "      <td>25000000</td>\n",
       "    </tr>\n",
       "    <tr>\n",
       "      <th>CIF</th>\n",
       "      <td>Crypto Improvement Fund</td>\n",
       "      <td>X11</td>\n",
       "      <td>True</td>\n",
       "      <td>PoW</td>\n",
       "      <td>2.112976e+08</td>\n",
       "      <td>500000000</td>\n",
       "    </tr>\n",
       "    <tr>\n",
       "      <th>BOAT</th>\n",
       "      <td>Doubloon</td>\n",
       "      <td>536</td>\n",
       "      <td>True</td>\n",
       "      <td>PoW/PoS</td>\n",
       "      <td>NaN</td>\n",
       "      <td>500000000</td>\n",
       "    </tr>\n",
       "    <tr>\n",
       "      <th>CSTL</th>\n",
       "      <td>Castle</td>\n",
       "      <td>Quark</td>\n",
       "      <td>True</td>\n",
       "      <td>DPoS</td>\n",
       "      <td>0.000000e+00</td>\n",
       "      <td>50000000</td>\n",
       "    </tr>\n",
       "    <tr>\n",
       "      <th>BTCC</th>\n",
       "      <td>Bitcoin Core</td>\n",
       "      <td>SHA-256</td>\n",
       "      <td>True</td>\n",
       "      <td>PoW</td>\n",
       "      <td>NaN</td>\n",
       "      <td>21000000</td>\n",
       "    </tr>\n",
       "    <tr>\n",
       "      <th>WCG</th>\n",
       "      <td>World Crypto Gold</td>\n",
       "      <td>SHA-256</td>\n",
       "      <td>True</td>\n",
       "      <td>Proof of Stake</td>\n",
       "      <td>NaN</td>\n",
       "      <td>900000000</td>\n",
       "    </tr>\n",
       "  </tbody>\n",
       "</table>\n",
       "</div>"
      ],
      "text/plain": [
       "                     CoinName  Algorithm  IsTrading       ProofType  \\\n",
       "SHA                   Shacoin    SHA-256       True             PoS   \n",
       "FRN                    Francs     Scrypt       True             PoW   \n",
       "STO            Save The Ocean        X11       True         PoW/PoS   \n",
       "SPK                 SparksPay  NeoScrypt       True             PoW   \n",
       "ADK              Aidos Kuneen      IMesh       True             PoW   \n",
       "CIF   Crypto Improvement Fund        X11       True             PoW   \n",
       "BOAT                 Doubloon        536       True         PoW/PoS   \n",
       "CSTL                   Castle      Quark       True            DPoS   \n",
       "BTCC             Bitcoin Core    SHA-256       True             PoW   \n",
       "WCG         World Crypto Gold    SHA-256       True  Proof of Stake   \n",
       "\n",
       "      TotalCoinsMined TotalCoinSupply  \n",
       "SHA               NaN       350000000  \n",
       "FRN      6.570808e+06        20000000  \n",
       "STO               NaN       150000000  \n",
       "SPK      7.847417e+06        21000000  \n",
       "ADK      2.500000e+07        25000000  \n",
       "CIF      2.112976e+08       500000000  \n",
       "BOAT              NaN       500000000  \n",
       "CSTL     0.000000e+00       50000000   \n",
       "BTCC              NaN        21000000  \n",
       "WCG               NaN       900000000  "
      ]
     },
     "execution_count": 6,
     "metadata": {},
     "output_type": "execute_result"
    }
   ],
   "source": [
    "# filter for currencies that are currently being traded\n",
    "crypto_df=df[df.IsTrading == True]\n",
    "print(crypto_df.shape)\n",
    "crypto_df.sample(10)"
   ]
  },
  {
   "cell_type": "code",
   "execution_count": 7,
   "metadata": {},
   "outputs": [
    {
     "name": "stdout",
     "output_type": "stream",
     "text": [
      "(1144, 5)\n"
     ]
    },
    {
     "data": {
      "text/html": [
       "<div>\n",
       "<style scoped>\n",
       "    .dataframe tbody tr th:only-of-type {\n",
       "        vertical-align: middle;\n",
       "    }\n",
       "\n",
       "    .dataframe tbody tr th {\n",
       "        vertical-align: top;\n",
       "    }\n",
       "\n",
       "    .dataframe thead th {\n",
       "        text-align: right;\n",
       "    }\n",
       "</style>\n",
       "<table border=\"1\" class=\"dataframe\">\n",
       "  <thead>\n",
       "    <tr style=\"text-align: right;\">\n",
       "      <th></th>\n",
       "      <th>CoinName</th>\n",
       "      <th>Algorithm</th>\n",
       "      <th>ProofType</th>\n",
       "      <th>TotalCoinsMined</th>\n",
       "      <th>TotalCoinSupply</th>\n",
       "    </tr>\n",
       "  </thead>\n",
       "  <tbody>\n",
       "    <tr>\n",
       "      <th>RIDE</th>\n",
       "      <td>Ride My Car</td>\n",
       "      <td>PoS</td>\n",
       "      <td>PoS</td>\n",
       "      <td>0.000000e+00</td>\n",
       "      <td>100000000</td>\n",
       "    </tr>\n",
       "    <tr>\n",
       "      <th>CINNI</th>\n",
       "      <td>CINNICOIN</td>\n",
       "      <td>Scrypt</td>\n",
       "      <td>PoW</td>\n",
       "      <td>NaN</td>\n",
       "      <td>15000000</td>\n",
       "    </tr>\n",
       "    <tr>\n",
       "      <th>CYC</th>\n",
       "      <td>ConSpiracy Coin</td>\n",
       "      <td>X11</td>\n",
       "      <td>PoW</td>\n",
       "      <td>0.000000e+00</td>\n",
       "      <td>33000000</td>\n",
       "    </tr>\n",
       "    <tr>\n",
       "      <th>EXP</th>\n",
       "      <td>Expanse</td>\n",
       "      <td>Ethash</td>\n",
       "      <td>PoW</td>\n",
       "      <td>1.049528e+07</td>\n",
       "      <td>16906397</td>\n",
       "    </tr>\n",
       "    <tr>\n",
       "      <th>WEBC</th>\n",
       "      <td>Webchain</td>\n",
       "      <td>CryptoNight-V7</td>\n",
       "      <td>PoW</td>\n",
       "      <td>1.558020e+07</td>\n",
       "      <td>1750000000</td>\n",
       "    </tr>\n",
       "    <tr>\n",
       "      <th>QSLV</th>\n",
       "      <td>Quicksilver coin</td>\n",
       "      <td>X11</td>\n",
       "      <td>PoW</td>\n",
       "      <td>0.000000e+00</td>\n",
       "      <td>33000000</td>\n",
       "    </tr>\n",
       "    <tr>\n",
       "      <th>KURT</th>\n",
       "      <td>Kurrent</td>\n",
       "      <td>X11</td>\n",
       "      <td>PoW</td>\n",
       "      <td>6.136481e+07</td>\n",
       "      <td>228000000</td>\n",
       "    </tr>\n",
       "    <tr>\n",
       "      <th>NXE</th>\n",
       "      <td>NXEcoin</td>\n",
       "      <td>NIST5</td>\n",
       "      <td>PoW/PoS</td>\n",
       "      <td>NaN</td>\n",
       "      <td>2200000</td>\n",
       "    </tr>\n",
       "    <tr>\n",
       "      <th>FRN</th>\n",
       "      <td>Francs</td>\n",
       "      <td>Scrypt</td>\n",
       "      <td>PoW</td>\n",
       "      <td>6.570808e+06</td>\n",
       "      <td>20000000</td>\n",
       "    </tr>\n",
       "    <tr>\n",
       "      <th>BS</th>\n",
       "      <td>BlackShadowCoin</td>\n",
       "      <td>X11</td>\n",
       "      <td>PoW/PoS</td>\n",
       "      <td>NaN</td>\n",
       "      <td>2100000000</td>\n",
       "    </tr>\n",
       "  </tbody>\n",
       "</table>\n",
       "</div>"
      ],
      "text/plain": [
       "               CoinName       Algorithm ProofType  TotalCoinsMined  \\\n",
       "RIDE        Ride My Car             PoS       PoS     0.000000e+00   \n",
       "CINNI         CINNICOIN          Scrypt       PoW              NaN   \n",
       "CYC    ConSpiracy Coin              X11       PoW     0.000000e+00   \n",
       "EXP             Expanse          Ethash       PoW     1.049528e+07   \n",
       "WEBC           Webchain  CryptoNight-V7       PoW     1.558020e+07   \n",
       "QSLV   Quicksilver coin             X11       PoW     0.000000e+00   \n",
       "KURT            Kurrent             X11       PoW     6.136481e+07   \n",
       "NXE             NXEcoin           NIST5   PoW/PoS              NaN   \n",
       "FRN              Francs          Scrypt       PoW     6.570808e+06   \n",
       "BS      BlackShadowCoin             X11   PoW/PoS              NaN   \n",
       "\n",
       "      TotalCoinSupply  \n",
       "RIDE        100000000  \n",
       "CINNI        15000000  \n",
       "CYC          33000000  \n",
       "EXP          16906397  \n",
       "WEBC       1750000000  \n",
       "QSLV         33000000  \n",
       "KURT        228000000  \n",
       "NXE           2200000  \n",
       "FRN          20000000  \n",
       "BS         2100000000  "
      ]
     },
     "execution_count": 7,
     "metadata": {},
     "output_type": "execute_result"
    }
   ],
   "source": [
    "# Drop the IsTrading Column from the DF\n",
    "new_crypto_df = crypto_df.drop(['IsTrading'], axis=1)\n",
    "print(new_crypto_df.shape)\n",
    "new_crypto_df.sample(10)"
   ]
  },
  {
   "cell_type": "code",
   "execution_count": 8,
   "metadata": {},
   "outputs": [
    {
     "name": "stdout",
     "output_type": "stream",
     "text": [
      "Column CoinName has 0 null values\n",
      "Column Algorithm has 0 null values\n",
      "Column ProofType has 0 null values\n",
      "Column TotalCoinsMined has 459 null values\n",
      "Column TotalCoinSupply has 0 null values\n"
     ]
    }
   ],
   "source": [
    "# Drop if rows with null values\n",
    "# Find null values\n",
    "for column in new_crypto_df.columns:\n",
    "    print(f\"Column {column} has {new_crypto_df[column].isnull().sum()} null values\")\n"
   ]
  },
  {
   "cell_type": "code",
   "execution_count": 9,
   "metadata": {},
   "outputs": [
    {
     "name": "stdout",
     "output_type": "stream",
     "text": [
      "Duplicate entries: 0\n"
     ]
    }
   ],
   "source": [
    "# Find duplicate entries\n",
    "print(f\"Duplicate entries: {new_crypto_df.duplicated().sum()}\")"
   ]
  },
  {
   "cell_type": "code",
   "execution_count": 10,
   "metadata": {
    "scrolled": true
   },
   "outputs": [
    {
     "name": "stdout",
     "output_type": "stream",
     "text": [
      "(532, 5)\n"
     ]
    },
    {
     "data": {
      "text/html": [
       "<div>\n",
       "<style scoped>\n",
       "    .dataframe tbody tr th:only-of-type {\n",
       "        vertical-align: middle;\n",
       "    }\n",
       "\n",
       "    .dataframe tbody tr th {\n",
       "        vertical-align: top;\n",
       "    }\n",
       "\n",
       "    .dataframe thead th {\n",
       "        text-align: right;\n",
       "    }\n",
       "</style>\n",
       "<table border=\"1\" class=\"dataframe\">\n",
       "  <thead>\n",
       "    <tr style=\"text-align: right;\">\n",
       "      <th></th>\n",
       "      <th>CoinName</th>\n",
       "      <th>Algorithm</th>\n",
       "      <th>ProofType</th>\n",
       "      <th>TotalCoinsMined</th>\n",
       "      <th>TotalCoinSupply</th>\n",
       "    </tr>\n",
       "  </thead>\n",
       "  <tbody>\n",
       "    <tr>\n",
       "      <th>42</th>\n",
       "      <td>42 Coin</td>\n",
       "      <td>Scrypt</td>\n",
       "      <td>PoW/PoS</td>\n",
       "      <td>4.199995e+01</td>\n",
       "      <td>42</td>\n",
       "    </tr>\n",
       "    <tr>\n",
       "      <th>404</th>\n",
       "      <td>404Coin</td>\n",
       "      <td>Scrypt</td>\n",
       "      <td>PoW/PoS</td>\n",
       "      <td>1.055185e+09</td>\n",
       "      <td>532000000</td>\n",
       "    </tr>\n",
       "    <tr>\n",
       "      <th>1337</th>\n",
       "      <td>EliteCoin</td>\n",
       "      <td>X13</td>\n",
       "      <td>PoW/PoS</td>\n",
       "      <td>2.927942e+10</td>\n",
       "      <td>314159265359</td>\n",
       "    </tr>\n",
       "    <tr>\n",
       "      <th>BTC</th>\n",
       "      <td>Bitcoin</td>\n",
       "      <td>SHA-256</td>\n",
       "      <td>PoW</td>\n",
       "      <td>1.792718e+07</td>\n",
       "      <td>21000000</td>\n",
       "    </tr>\n",
       "    <tr>\n",
       "      <th>ETH</th>\n",
       "      <td>Ethereum</td>\n",
       "      <td>Ethash</td>\n",
       "      <td>PoW</td>\n",
       "      <td>1.076842e+08</td>\n",
       "      <td>0</td>\n",
       "    </tr>\n",
       "    <tr>\n",
       "      <th>LTC</th>\n",
       "      <td>Litecoin</td>\n",
       "      <td>Scrypt</td>\n",
       "      <td>PoW</td>\n",
       "      <td>6.303924e+07</td>\n",
       "      <td>84000000</td>\n",
       "    </tr>\n",
       "    <tr>\n",
       "      <th>DASH</th>\n",
       "      <td>Dash</td>\n",
       "      <td>X11</td>\n",
       "      <td>PoW/PoS</td>\n",
       "      <td>9.031294e+06</td>\n",
       "      <td>22000000</td>\n",
       "    </tr>\n",
       "    <tr>\n",
       "      <th>XMR</th>\n",
       "      <td>Monero</td>\n",
       "      <td>CryptoNight-V7</td>\n",
       "      <td>PoW</td>\n",
       "      <td>1.720114e+07</td>\n",
       "      <td>0</td>\n",
       "    </tr>\n",
       "    <tr>\n",
       "      <th>ETC</th>\n",
       "      <td>Ethereum Classic</td>\n",
       "      <td>Ethash</td>\n",
       "      <td>PoW</td>\n",
       "      <td>1.133597e+08</td>\n",
       "      <td>210000000</td>\n",
       "    </tr>\n",
       "    <tr>\n",
       "      <th>ZEC</th>\n",
       "      <td>ZCash</td>\n",
       "      <td>Equihash</td>\n",
       "      <td>PoW</td>\n",
       "      <td>7.383056e+06</td>\n",
       "      <td>21000000</td>\n",
       "    </tr>\n",
       "  </tbody>\n",
       "</table>\n",
       "</div>"
      ],
      "text/plain": [
       "              CoinName       Algorithm ProofType  TotalCoinsMined  \\\n",
       "42             42 Coin          Scrypt   PoW/PoS     4.199995e+01   \n",
       "404            404Coin          Scrypt   PoW/PoS     1.055185e+09   \n",
       "1337         EliteCoin             X13   PoW/PoS     2.927942e+10   \n",
       "BTC            Bitcoin         SHA-256       PoW     1.792718e+07   \n",
       "ETH           Ethereum          Ethash       PoW     1.076842e+08   \n",
       "LTC           Litecoin          Scrypt       PoW     6.303924e+07   \n",
       "DASH              Dash             X11   PoW/PoS     9.031294e+06   \n",
       "XMR             Monero  CryptoNight-V7       PoW     1.720114e+07   \n",
       "ETC   Ethereum Classic          Ethash       PoW     1.133597e+08   \n",
       "ZEC              ZCash        Equihash       PoW     7.383056e+06   \n",
       "\n",
       "     TotalCoinSupply  \n",
       "42                42  \n",
       "404        532000000  \n",
       "1337    314159265359  \n",
       "BTC         21000000  \n",
       "ETH                0  \n",
       "LTC         84000000  \n",
       "DASH        22000000  \n",
       "XMR                0  \n",
       "ETC        210000000  \n",
       "ZEC         21000000  "
      ]
     },
     "execution_count": 10,
     "metadata": {},
     "output_type": "execute_result"
    }
   ],
   "source": [
    "# Filter for cryptocurrencies that have been mined\n",
    "clean_crypto_df = new_crypto_df[new_crypto_df.TotalCoinsMined > 0]\n",
    "print(clean_crypto_df.shape)\n",
    "clean_crypto_df.head(10)"
   ]
  },
  {
   "cell_type": "code",
   "execution_count": 11,
   "metadata": {},
   "outputs": [
    {
     "name": "stdout",
     "output_type": "stream",
     "text": [
      "(532, 1)\n"
     ]
    },
    {
     "data": {
      "text/html": [
       "<div>\n",
       "<style scoped>\n",
       "    .dataframe tbody tr th:only-of-type {\n",
       "        vertical-align: middle;\n",
       "    }\n",
       "\n",
       "    .dataframe tbody tr th {\n",
       "        vertical-align: top;\n",
       "    }\n",
       "\n",
       "    .dataframe thead th {\n",
       "        text-align: right;\n",
       "    }\n",
       "</style>\n",
       "<table border=\"1\" class=\"dataframe\">\n",
       "  <thead>\n",
       "    <tr style=\"text-align: right;\">\n",
       "      <th></th>\n",
       "      <th>CoinName</th>\n",
       "    </tr>\n",
       "  </thead>\n",
       "  <tbody>\n",
       "    <tr>\n",
       "      <th>42</th>\n",
       "      <td>42 Coin</td>\n",
       "    </tr>\n",
       "    <tr>\n",
       "      <th>404</th>\n",
       "      <td>404Coin</td>\n",
       "    </tr>\n",
       "    <tr>\n",
       "      <th>1337</th>\n",
       "      <td>EliteCoin</td>\n",
       "    </tr>\n",
       "    <tr>\n",
       "      <th>BTC</th>\n",
       "      <td>Bitcoin</td>\n",
       "    </tr>\n",
       "    <tr>\n",
       "      <th>ETH</th>\n",
       "      <td>Ethereum</td>\n",
       "    </tr>\n",
       "  </tbody>\n",
       "</table>\n",
       "</div>"
      ],
      "text/plain": [
       "       CoinName\n",
       "42      42 Coin\n",
       "404     404Coin\n",
       "1337  EliteCoin\n",
       "BTC     Bitcoin\n",
       "ETH    Ethereum"
      ]
     },
     "execution_count": 11,
     "metadata": {},
     "output_type": "execute_result"
    }
   ],
   "source": [
    "# before dropping CoinName, store it in another DF\n",
    "coins_name = pd.DataFrame(clean_crypto_df[\"CoinName\"], index=clean_crypto_df.index)\n",
    "print(coins_name.shape)\n",
    "coins_name.head()"
   ]
  },
  {
   "cell_type": "code",
   "execution_count": 12,
   "metadata": {},
   "outputs": [
    {
     "name": "stdout",
     "output_type": "stream",
     "text": [
      "(532, 4)\n"
     ]
    },
    {
     "data": {
      "text/html": [
       "<div>\n",
       "<style scoped>\n",
       "    .dataframe tbody tr th:only-of-type {\n",
       "        vertical-align: middle;\n",
       "    }\n",
       "\n",
       "    .dataframe tbody tr th {\n",
       "        vertical-align: top;\n",
       "    }\n",
       "\n",
       "    .dataframe thead th {\n",
       "        text-align: right;\n",
       "    }\n",
       "</style>\n",
       "<table border=\"1\" class=\"dataframe\">\n",
       "  <thead>\n",
       "    <tr style=\"text-align: right;\">\n",
       "      <th></th>\n",
       "      <th>Algorithm</th>\n",
       "      <th>ProofType</th>\n",
       "      <th>TotalCoinsMined</th>\n",
       "      <th>TotalCoinSupply</th>\n",
       "    </tr>\n",
       "  </thead>\n",
       "  <tbody>\n",
       "    <tr>\n",
       "      <th>42</th>\n",
       "      <td>Scrypt</td>\n",
       "      <td>PoW/PoS</td>\n",
       "      <td>4.199995e+01</td>\n",
       "      <td>42</td>\n",
       "    </tr>\n",
       "    <tr>\n",
       "      <th>404</th>\n",
       "      <td>Scrypt</td>\n",
       "      <td>PoW/PoS</td>\n",
       "      <td>1.055185e+09</td>\n",
       "      <td>532000000</td>\n",
       "    </tr>\n",
       "    <tr>\n",
       "      <th>1337</th>\n",
       "      <td>X13</td>\n",
       "      <td>PoW/PoS</td>\n",
       "      <td>2.927942e+10</td>\n",
       "      <td>314159265359</td>\n",
       "    </tr>\n",
       "    <tr>\n",
       "      <th>BTC</th>\n",
       "      <td>SHA-256</td>\n",
       "      <td>PoW</td>\n",
       "      <td>1.792718e+07</td>\n",
       "      <td>21000000</td>\n",
       "    </tr>\n",
       "    <tr>\n",
       "      <th>ETH</th>\n",
       "      <td>Ethash</td>\n",
       "      <td>PoW</td>\n",
       "      <td>1.076842e+08</td>\n",
       "      <td>0</td>\n",
       "    </tr>\n",
       "  </tbody>\n",
       "</table>\n",
       "</div>"
      ],
      "text/plain": [
       "     Algorithm ProofType  TotalCoinsMined TotalCoinSupply\n",
       "42      Scrypt   PoW/PoS     4.199995e+01              42\n",
       "404     Scrypt   PoW/PoS     1.055185e+09       532000000\n",
       "1337       X13   PoW/PoS     2.927942e+10    314159265359\n",
       "BTC    SHA-256       PoW     1.792718e+07        21000000\n",
       "ETH     Ethash       PoW     1.076842e+08               0"
      ]
     },
     "execution_count": 12,
     "metadata": {},
     "output_type": "execute_result"
    }
   ],
   "source": [
    "# Delete the CoinName form DF sinsce it's not relavent to the ML\n",
    "clean_crypto_df = clean_crypto_df.drop(['CoinName'], axis=1)\n",
    "print(clean_crypto_df.shape)\n",
    "clean_crypto_df.head()"
   ]
  },
  {
   "cell_type": "code",
   "execution_count": 13,
   "metadata": {},
   "outputs": [
    {
     "name": "stdout",
     "output_type": "stream",
     "text": [
      "(71,)\n"
     ]
    },
    {
     "data": {
      "text/plain": [
       "array(['Scrypt', 'X13', 'SHA-256', 'Ethash', 'X11', 'CryptoNight-V7',\n",
       "       'Equihash', 'SHA-512', 'Multiple', 'X15', 'Quark', 'Groestl',\n",
       "       'PoS', 'NeoScrypt', 'SHA3', 'HybridScryptHash256', 'PHI1612',\n",
       "       'Lyra2REv2', 'CryptoNight', 'Shabal256', 'Counterparty',\n",
       "       'Stanford Folding', 'QuBit', 'M7 POW', 'Lyra2RE', 'QUAIT',\n",
       "       'Blake2b', 'BLAKE256', '1GB AES Pattern Search', 'NIST5', 'Dagger',\n",
       "       'X11GOST', 'POS 3.0', 'SHA-256D', 'Lyra2Z', 'X14', 'DPoS',\n",
       "       'Dagger-Hashimoto', 'Blake2S', '536', 'Argon2d', 'Cloverhash',\n",
       "       'Skein', 'Time Travel', 'Keccak', 'SkunkHash v2 Raptor',\n",
       "       'VeChainThor Authority', 'Ouroboros', 'POS 2.0', 'C11',\n",
       "       'SkunkHash', 'Proof-of-BibleHash', 'SHA-256 + Hive',\n",
       "       'Proof-of-Authority', 'XEVAN', 'VBFT', 'IMesh', 'Green Protocol',\n",
       "       'Semux BFT consensus', 'X16R', 'Tribus', 'CryptoNight Heavy',\n",
       "       'Jump Consistent Hash', 'HMQ1725', 'Cryptonight-GPU', 'ECC 256K1',\n",
       "       'Blake', 'Exosis', 'Equihash+Scrypt', 'Leased POS', 'TRC10'],\n",
       "      dtype=object)"
      ]
     },
     "execution_count": 13,
     "metadata": {},
     "output_type": "execute_result"
    }
   ],
   "source": [
    "# Identify all the possible values in the Algorithm and ProofType column\n",
    "print(clean_crypto_df['Algorithm'].unique().shape)\n",
    "clean_crypto_df['Algorithm'].unique()"
   ]
  },
  {
   "cell_type": "code",
   "execution_count": 14,
   "metadata": {},
   "outputs": [
    {
     "name": "stdout",
     "output_type": "stream",
     "text": [
      "(25,)\n"
     ]
    },
    {
     "data": {
      "text/plain": [
       "array(['PoW/PoS', 'PoW', 'PoS', 'PoC', 'PoS/PoW/PoT', 'PoST', 'PoW/nPoS',\n",
       "       'PoS/PoW', 'dPoW/PoW', 'PoW/PoW', 'DPoS', 'TPoS', 'PoW/PoS ',\n",
       "       'Proof of Authority', 'PoW and PoS', 'POBh', 'PoW + Hive', 'PoA',\n",
       "       'HPoW', 'Zero-Knowledge Proof', 'DPOS', 'Pos', 'Proof of Trust',\n",
       "       'LPoS', 'PoS/LPoS'], dtype=object)"
      ]
     },
     "execution_count": 14,
     "metadata": {},
     "output_type": "execute_result"
    }
   ],
   "source": [
    "# Identify all the possible values in the Algorithm and ProofType column\n",
    "print(clean_crypto_df['ProofType'].unique().shape)\n",
    "clean_crypto_df['ProofType'].unique()"
   ]
  },
  {
   "cell_type": "code",
   "execution_count": 15,
   "metadata": {},
   "outputs": [
    {
     "name": "stdout",
     "output_type": "stream",
     "text": [
      "(532, 98)\n"
     ]
    },
    {
     "data": {
      "text/html": [
       "<div>\n",
       "<style scoped>\n",
       "    .dataframe tbody tr th:only-of-type {\n",
       "        vertical-align: middle;\n",
       "    }\n",
       "\n",
       "    .dataframe tbody tr th {\n",
       "        vertical-align: top;\n",
       "    }\n",
       "\n",
       "    .dataframe thead th {\n",
       "        text-align: right;\n",
       "    }\n",
       "</style>\n",
       "<table border=\"1\" class=\"dataframe\">\n",
       "  <thead>\n",
       "    <tr style=\"text-align: right;\">\n",
       "      <th></th>\n",
       "      <th>TotalCoinsMined</th>\n",
       "      <th>TotalCoinSupply</th>\n",
       "      <th>Algorithm_1GB AES Pattern Search</th>\n",
       "      <th>Algorithm_536</th>\n",
       "      <th>Algorithm_Argon2d</th>\n",
       "      <th>Algorithm_BLAKE256</th>\n",
       "      <th>Algorithm_Blake</th>\n",
       "      <th>Algorithm_Blake2S</th>\n",
       "      <th>Algorithm_Blake2b</th>\n",
       "      <th>Algorithm_C11</th>\n",
       "      <th>...</th>\n",
       "      <th>ProofType_PoW/PoS</th>\n",
       "      <th>ProofType_PoW/PoS</th>\n",
       "      <th>ProofType_PoW/PoW</th>\n",
       "      <th>ProofType_PoW/nPoS</th>\n",
       "      <th>ProofType_Pos</th>\n",
       "      <th>ProofType_Proof of Authority</th>\n",
       "      <th>ProofType_Proof of Trust</th>\n",
       "      <th>ProofType_TPoS</th>\n",
       "      <th>ProofType_Zero-Knowledge Proof</th>\n",
       "      <th>ProofType_dPoW/PoW</th>\n",
       "    </tr>\n",
       "  </thead>\n",
       "  <tbody>\n",
       "    <tr>\n",
       "      <th>42</th>\n",
       "      <td>4.199995e+01</td>\n",
       "      <td>42</td>\n",
       "      <td>0</td>\n",
       "      <td>0</td>\n",
       "      <td>0</td>\n",
       "      <td>0</td>\n",
       "      <td>0</td>\n",
       "      <td>0</td>\n",
       "      <td>0</td>\n",
       "      <td>0</td>\n",
       "      <td>...</td>\n",
       "      <td>1</td>\n",
       "      <td>0</td>\n",
       "      <td>0</td>\n",
       "      <td>0</td>\n",
       "      <td>0</td>\n",
       "      <td>0</td>\n",
       "      <td>0</td>\n",
       "      <td>0</td>\n",
       "      <td>0</td>\n",
       "      <td>0</td>\n",
       "    </tr>\n",
       "    <tr>\n",
       "      <th>404</th>\n",
       "      <td>1.055185e+09</td>\n",
       "      <td>532000000</td>\n",
       "      <td>0</td>\n",
       "      <td>0</td>\n",
       "      <td>0</td>\n",
       "      <td>0</td>\n",
       "      <td>0</td>\n",
       "      <td>0</td>\n",
       "      <td>0</td>\n",
       "      <td>0</td>\n",
       "      <td>...</td>\n",
       "      <td>1</td>\n",
       "      <td>0</td>\n",
       "      <td>0</td>\n",
       "      <td>0</td>\n",
       "      <td>0</td>\n",
       "      <td>0</td>\n",
       "      <td>0</td>\n",
       "      <td>0</td>\n",
       "      <td>0</td>\n",
       "      <td>0</td>\n",
       "    </tr>\n",
       "    <tr>\n",
       "      <th>1337</th>\n",
       "      <td>2.927942e+10</td>\n",
       "      <td>314159265359</td>\n",
       "      <td>0</td>\n",
       "      <td>0</td>\n",
       "      <td>0</td>\n",
       "      <td>0</td>\n",
       "      <td>0</td>\n",
       "      <td>0</td>\n",
       "      <td>0</td>\n",
       "      <td>0</td>\n",
       "      <td>...</td>\n",
       "      <td>1</td>\n",
       "      <td>0</td>\n",
       "      <td>0</td>\n",
       "      <td>0</td>\n",
       "      <td>0</td>\n",
       "      <td>0</td>\n",
       "      <td>0</td>\n",
       "      <td>0</td>\n",
       "      <td>0</td>\n",
       "      <td>0</td>\n",
       "    </tr>\n",
       "    <tr>\n",
       "      <th>BTC</th>\n",
       "      <td>1.792718e+07</td>\n",
       "      <td>21000000</td>\n",
       "      <td>0</td>\n",
       "      <td>0</td>\n",
       "      <td>0</td>\n",
       "      <td>0</td>\n",
       "      <td>0</td>\n",
       "      <td>0</td>\n",
       "      <td>0</td>\n",
       "      <td>0</td>\n",
       "      <td>...</td>\n",
       "      <td>0</td>\n",
       "      <td>0</td>\n",
       "      <td>0</td>\n",
       "      <td>0</td>\n",
       "      <td>0</td>\n",
       "      <td>0</td>\n",
       "      <td>0</td>\n",
       "      <td>0</td>\n",
       "      <td>0</td>\n",
       "      <td>0</td>\n",
       "    </tr>\n",
       "    <tr>\n",
       "      <th>ETH</th>\n",
       "      <td>1.076842e+08</td>\n",
       "      <td>0</td>\n",
       "      <td>0</td>\n",
       "      <td>0</td>\n",
       "      <td>0</td>\n",
       "      <td>0</td>\n",
       "      <td>0</td>\n",
       "      <td>0</td>\n",
       "      <td>0</td>\n",
       "      <td>0</td>\n",
       "      <td>...</td>\n",
       "      <td>0</td>\n",
       "      <td>0</td>\n",
       "      <td>0</td>\n",
       "      <td>0</td>\n",
       "      <td>0</td>\n",
       "      <td>0</td>\n",
       "      <td>0</td>\n",
       "      <td>0</td>\n",
       "      <td>0</td>\n",
       "      <td>0</td>\n",
       "    </tr>\n",
       "    <tr>\n",
       "      <th>LTC</th>\n",
       "      <td>6.303924e+07</td>\n",
       "      <td>84000000</td>\n",
       "      <td>0</td>\n",
       "      <td>0</td>\n",
       "      <td>0</td>\n",
       "      <td>0</td>\n",
       "      <td>0</td>\n",
       "      <td>0</td>\n",
       "      <td>0</td>\n",
       "      <td>0</td>\n",
       "      <td>...</td>\n",
       "      <td>0</td>\n",
       "      <td>0</td>\n",
       "      <td>0</td>\n",
       "      <td>0</td>\n",
       "      <td>0</td>\n",
       "      <td>0</td>\n",
       "      <td>0</td>\n",
       "      <td>0</td>\n",
       "      <td>0</td>\n",
       "      <td>0</td>\n",
       "    </tr>\n",
       "    <tr>\n",
       "      <th>DASH</th>\n",
       "      <td>9.031294e+06</td>\n",
       "      <td>22000000</td>\n",
       "      <td>0</td>\n",
       "      <td>0</td>\n",
       "      <td>0</td>\n",
       "      <td>0</td>\n",
       "      <td>0</td>\n",
       "      <td>0</td>\n",
       "      <td>0</td>\n",
       "      <td>0</td>\n",
       "      <td>...</td>\n",
       "      <td>1</td>\n",
       "      <td>0</td>\n",
       "      <td>0</td>\n",
       "      <td>0</td>\n",
       "      <td>0</td>\n",
       "      <td>0</td>\n",
       "      <td>0</td>\n",
       "      <td>0</td>\n",
       "      <td>0</td>\n",
       "      <td>0</td>\n",
       "    </tr>\n",
       "    <tr>\n",
       "      <th>XMR</th>\n",
       "      <td>1.720114e+07</td>\n",
       "      <td>0</td>\n",
       "      <td>0</td>\n",
       "      <td>0</td>\n",
       "      <td>0</td>\n",
       "      <td>0</td>\n",
       "      <td>0</td>\n",
       "      <td>0</td>\n",
       "      <td>0</td>\n",
       "      <td>0</td>\n",
       "      <td>...</td>\n",
       "      <td>0</td>\n",
       "      <td>0</td>\n",
       "      <td>0</td>\n",
       "      <td>0</td>\n",
       "      <td>0</td>\n",
       "      <td>0</td>\n",
       "      <td>0</td>\n",
       "      <td>0</td>\n",
       "      <td>0</td>\n",
       "      <td>0</td>\n",
       "    </tr>\n",
       "    <tr>\n",
       "      <th>ETC</th>\n",
       "      <td>1.133597e+08</td>\n",
       "      <td>210000000</td>\n",
       "      <td>0</td>\n",
       "      <td>0</td>\n",
       "      <td>0</td>\n",
       "      <td>0</td>\n",
       "      <td>0</td>\n",
       "      <td>0</td>\n",
       "      <td>0</td>\n",
       "      <td>0</td>\n",
       "      <td>...</td>\n",
       "      <td>0</td>\n",
       "      <td>0</td>\n",
       "      <td>0</td>\n",
       "      <td>0</td>\n",
       "      <td>0</td>\n",
       "      <td>0</td>\n",
       "      <td>0</td>\n",
       "      <td>0</td>\n",
       "      <td>0</td>\n",
       "      <td>0</td>\n",
       "    </tr>\n",
       "    <tr>\n",
       "      <th>ZEC</th>\n",
       "      <td>7.383056e+06</td>\n",
       "      <td>21000000</td>\n",
       "      <td>0</td>\n",
       "      <td>0</td>\n",
       "      <td>0</td>\n",
       "      <td>0</td>\n",
       "      <td>0</td>\n",
       "      <td>0</td>\n",
       "      <td>0</td>\n",
       "      <td>0</td>\n",
       "      <td>...</td>\n",
       "      <td>0</td>\n",
       "      <td>0</td>\n",
       "      <td>0</td>\n",
       "      <td>0</td>\n",
       "      <td>0</td>\n",
       "      <td>0</td>\n",
       "      <td>0</td>\n",
       "      <td>0</td>\n",
       "      <td>0</td>\n",
       "      <td>0</td>\n",
       "    </tr>\n",
       "  </tbody>\n",
       "</table>\n",
       "<p>10 rows × 98 columns</p>\n",
       "</div>"
      ],
      "text/plain": [
       "      TotalCoinsMined TotalCoinSupply  Algorithm_1GB AES Pattern Search  \\\n",
       "42       4.199995e+01              42                                 0   \n",
       "404      1.055185e+09       532000000                                 0   \n",
       "1337     2.927942e+10    314159265359                                 0   \n",
       "BTC      1.792718e+07        21000000                                 0   \n",
       "ETH      1.076842e+08               0                                 0   \n",
       "LTC      6.303924e+07        84000000                                 0   \n",
       "DASH     9.031294e+06        22000000                                 0   \n",
       "XMR      1.720114e+07               0                                 0   \n",
       "ETC      1.133597e+08       210000000                                 0   \n",
       "ZEC      7.383056e+06        21000000                                 0   \n",
       "\n",
       "      Algorithm_536  Algorithm_Argon2d  Algorithm_BLAKE256  Algorithm_Blake  \\\n",
       "42                0                  0                   0                0   \n",
       "404               0                  0                   0                0   \n",
       "1337              0                  0                   0                0   \n",
       "BTC               0                  0                   0                0   \n",
       "ETH               0                  0                   0                0   \n",
       "LTC               0                  0                   0                0   \n",
       "DASH              0                  0                   0                0   \n",
       "XMR               0                  0                   0                0   \n",
       "ETC               0                  0                   0                0   \n",
       "ZEC               0                  0                   0                0   \n",
       "\n",
       "      Algorithm_Blake2S  Algorithm_Blake2b  Algorithm_C11  ...  \\\n",
       "42                    0                  0              0  ...   \n",
       "404                   0                  0              0  ...   \n",
       "1337                  0                  0              0  ...   \n",
       "BTC                   0                  0              0  ...   \n",
       "ETH                   0                  0              0  ...   \n",
       "LTC                   0                  0              0  ...   \n",
       "DASH                  0                  0              0  ...   \n",
       "XMR                   0                  0              0  ...   \n",
       "ETC                   0                  0              0  ...   \n",
       "ZEC                   0                  0              0  ...   \n",
       "\n",
       "      ProofType_PoW/PoS  ProofType_PoW/PoS   ProofType_PoW/PoW  \\\n",
       "42                    1                   0                  0   \n",
       "404                   1                   0                  0   \n",
       "1337                  1                   0                  0   \n",
       "BTC                   0                   0                  0   \n",
       "ETH                   0                   0                  0   \n",
       "LTC                   0                   0                  0   \n",
       "DASH                  1                   0                  0   \n",
       "XMR                   0                   0                  0   \n",
       "ETC                   0                   0                  0   \n",
       "ZEC                   0                   0                  0   \n",
       "\n",
       "      ProofType_PoW/nPoS  ProofType_Pos  ProofType_Proof of Authority  \\\n",
       "42                     0              0                             0   \n",
       "404                    0              0                             0   \n",
       "1337                   0              0                             0   \n",
       "BTC                    0              0                             0   \n",
       "ETH                    0              0                             0   \n",
       "LTC                    0              0                             0   \n",
       "DASH                   0              0                             0   \n",
       "XMR                    0              0                             0   \n",
       "ETC                    0              0                             0   \n",
       "ZEC                    0              0                             0   \n",
       "\n",
       "      ProofType_Proof of Trust  ProofType_TPoS  \\\n",
       "42                           0               0   \n",
       "404                          0               0   \n",
       "1337                         0               0   \n",
       "BTC                          0               0   \n",
       "ETH                          0               0   \n",
       "LTC                          0               0   \n",
       "DASH                         0               0   \n",
       "XMR                          0               0   \n",
       "ETC                          0               0   \n",
       "ZEC                          0               0   \n",
       "\n",
       "      ProofType_Zero-Knowledge Proof  ProofType_dPoW/PoW  \n",
       "42                                 0                   0  \n",
       "404                                0                   0  \n",
       "1337                               0                   0  \n",
       "BTC                                0                   0  \n",
       "ETH                                0                   0  \n",
       "LTC                                0                   0  \n",
       "DASH                               0                   0  \n",
       "XMR                                0                   0  \n",
       "ETC                                0                   0  \n",
       "ZEC                                0                   0  \n",
       "\n",
       "[10 rows x 98 columns]"
      ]
     },
     "execution_count": 15,
     "metadata": {},
     "output_type": "execute_result"
    }
   ],
   "source": [
    "# Convert categorical data to numeric and separate target feature for training data\n",
    "# One-hot encoding the entire dataframe\n",
    "X = pd.get_dummies(data=clean_crypto_df, columns=[\"Algorithm\", \"ProofType\"])\n",
    "print(X.shape)\n",
    "X.head(10)"
   ]
  },
  {
   "cell_type": "code",
   "execution_count": 16,
   "metadata": {},
   "outputs": [
    {
     "name": "stdout",
     "output_type": "stream",
     "text": [
      "[[-0.11710817 -0.1528703  -0.0433963  -0.0433963  -0.0433963  -0.06142951\n",
      "  -0.07530656 -0.0433963  -0.06142951 -0.06142951 -0.0433963  -0.0433963\n",
      "  -0.19245009 -0.06142951 -0.09740465 -0.0433963  -0.11547005 -0.07530656\n",
      "  -0.0433963  -0.0433963  -0.15191091 -0.0433963  -0.13118084 -0.0433963\n",
      "  -0.0433963  -0.08703883 -0.0433963  -0.0433963  -0.0433963  -0.0433963\n",
      "  -0.06142951 -0.0433963  -0.08703883 -0.08703883 -0.08703883 -0.0433963\n",
      "  -0.13118084 -0.13840913 -0.13840913 -0.0433963  -0.06142951 -0.0433963\n",
      "  -0.07530656 -0.18168574 -0.0433963  -0.0433963  -0.0433963  -0.07530656\n",
      "  -0.15826614 -0.31491833 -0.0433963  -0.08703883 -0.07530656 -0.06142951\n",
      "   1.38675049 -0.0433963  -0.0433963  -0.06142951 -0.0433963  -0.0433963\n",
      "  -0.0433963  -0.0433963  -0.0433963  -0.0433963  -0.0433963  -0.0433963\n",
      "  -0.39879994 -0.0433963  -0.18168574 -0.0433963  -0.08703883 -0.08703883\n",
      "  -0.10680283 -0.0433963  -0.13118084 -0.0433963  -0.0433963  -0.0433963\n",
      "  -0.0433963  -0.07530656 -0.43911856 -0.0433963  -0.06142951 -0.0433963\n",
      "  -0.0433963  -0.89632016 -0.0433963  -0.0433963   1.42222617 -0.0433963\n",
      "  -0.0433963  -0.0433963  -0.0433963  -0.0433963  -0.0433963  -0.0433963\n",
      "  -0.0433963  -0.0433963 ]\n",
      " [-0.09396955 -0.145009   -0.0433963  -0.0433963  -0.0433963  -0.06142951\n",
      "  -0.07530656 -0.0433963  -0.06142951 -0.06142951 -0.0433963  -0.0433963\n",
      "  -0.19245009 -0.06142951 -0.09740465 -0.0433963  -0.11547005 -0.07530656\n",
      "  -0.0433963  -0.0433963  -0.15191091 -0.0433963  -0.13118084 -0.0433963\n",
      "  -0.0433963  -0.08703883 -0.0433963  -0.0433963  -0.0433963  -0.0433963\n",
      "  -0.06142951 -0.0433963  -0.08703883 -0.08703883 -0.08703883 -0.0433963\n",
      "  -0.13118084 -0.13840913 -0.13840913 -0.0433963  -0.06142951 -0.0433963\n",
      "  -0.07530656 -0.18168574 -0.0433963  -0.0433963  -0.0433963  -0.07530656\n",
      "  -0.15826614 -0.31491833 -0.0433963  -0.08703883 -0.07530656 -0.06142951\n",
      "   1.38675049 -0.0433963  -0.0433963  -0.06142951 -0.0433963  -0.0433963\n",
      "  -0.0433963  -0.0433963  -0.0433963  -0.0433963  -0.0433963  -0.0433963\n",
      "  -0.39879994 -0.0433963  -0.18168574 -0.0433963  -0.08703883 -0.08703883\n",
      "  -0.10680283 -0.0433963  -0.13118084 -0.0433963  -0.0433963  -0.0433963\n",
      "  -0.0433963  -0.07530656 -0.43911856 -0.0433963  -0.06142951 -0.0433963\n",
      "  -0.0433963  -0.89632016 -0.0433963  -0.0433963   1.42222617 -0.0433963\n",
      "  -0.0433963  -0.0433963  -0.0433963  -0.0433963  -0.0433963  -0.0433963\n",
      "  -0.0433963  -0.0433963 ]\n",
      " [ 0.52494561  4.48942416 -0.0433963  -0.0433963  -0.0433963  -0.06142951\n",
      "  -0.07530656 -0.0433963  -0.06142951 -0.06142951 -0.0433963  -0.0433963\n",
      "  -0.19245009 -0.06142951 -0.09740465 -0.0433963  -0.11547005 -0.07530656\n",
      "  -0.0433963  -0.0433963  -0.15191091 -0.0433963  -0.13118084 -0.0433963\n",
      "  -0.0433963  -0.08703883 -0.0433963  -0.0433963  -0.0433963  -0.0433963\n",
      "  -0.06142951 -0.0433963  -0.08703883 -0.08703883 -0.08703883 -0.0433963\n",
      "  -0.13118084 -0.13840913 -0.13840913 -0.0433963  -0.06142951 -0.0433963\n",
      "  -0.07530656 -0.18168574 -0.0433963  -0.0433963  -0.0433963  -0.07530656\n",
      "  -0.15826614 -0.31491833 -0.0433963  -0.08703883 -0.07530656 -0.06142951\n",
      "  -0.72111026 -0.0433963  -0.0433963  -0.06142951 -0.0433963  -0.0433963\n",
      "  -0.0433963  -0.0433963  -0.0433963  -0.0433963  -0.0433963  -0.0433963\n",
      "  -0.39879994 -0.0433963   5.50400923 -0.0433963  -0.08703883 -0.08703883\n",
      "  -0.10680283 -0.0433963  -0.13118084 -0.0433963  -0.0433963  -0.0433963\n",
      "  -0.0433963  -0.07530656 -0.43911856 -0.0433963  -0.06142951 -0.0433963\n",
      "  -0.0433963  -0.89632016 -0.0433963  -0.0433963   1.42222617 -0.0433963\n",
      "  -0.0433963  -0.0433963  -0.0433963  -0.0433963  -0.0433963  -0.0433963\n",
      "  -0.0433963  -0.0433963 ]\n",
      " [-0.11671506 -0.15255998 -0.0433963  -0.0433963  -0.0433963  -0.06142951\n",
      "  -0.07530656 -0.0433963  -0.06142951 -0.06142951 -0.0433963  -0.0433963\n",
      "  -0.19245009 -0.06142951 -0.09740465 -0.0433963  -0.11547005 -0.07530656\n",
      "  -0.0433963  -0.0433963  -0.15191091 -0.0433963  -0.13118084 -0.0433963\n",
      "  -0.0433963  -0.08703883 -0.0433963  -0.0433963  -0.0433963  -0.0433963\n",
      "  -0.06142951 -0.0433963  -0.08703883 -0.08703883 -0.08703883 -0.0433963\n",
      "  -0.13118084 -0.13840913 -0.13840913 -0.0433963  -0.06142951 -0.0433963\n",
      "  -0.07530656 -0.18168574 -0.0433963  -0.0433963  -0.0433963  -0.07530656\n",
      "  -0.15826614  3.17542648 -0.0433963  -0.08703883 -0.07530656 -0.06142951\n",
      "  -0.72111026 -0.0433963  -0.0433963  -0.06142951 -0.0433963  -0.0433963\n",
      "  -0.0433963  -0.0433963  -0.0433963  -0.0433963  -0.0433963  -0.0433963\n",
      "  -0.39879994 -0.0433963  -0.18168574 -0.0433963  -0.08703883 -0.08703883\n",
      "  -0.10680283 -0.0433963  -0.13118084 -0.0433963  -0.0433963  -0.0433963\n",
      "  -0.0433963  -0.07530656 -0.43911856 -0.0433963  -0.06142951 -0.0433963\n",
      "  -0.0433963   1.11567277 -0.0433963  -0.0433963  -0.70312305 -0.0433963\n",
      "  -0.0433963  -0.0433963  -0.0433963  -0.0433963  -0.0433963  -0.0433963\n",
      "  -0.0433963  -0.0433963 ]\n",
      " [-0.11474682 -0.1528703  -0.0433963  -0.0433963  -0.0433963  -0.06142951\n",
      "  -0.07530656 -0.0433963  -0.06142951 -0.06142951 -0.0433963  -0.0433963\n",
      "  -0.19245009 -0.06142951 -0.09740465 -0.0433963  -0.11547005 -0.07530656\n",
      "  -0.0433963  -0.0433963  -0.15191091 -0.0433963   7.62306442 -0.0433963\n",
      "  -0.0433963  -0.08703883 -0.0433963  -0.0433963  -0.0433963  -0.0433963\n",
      "  -0.06142951 -0.0433963  -0.08703883 -0.08703883 -0.08703883 -0.0433963\n",
      "  -0.13118084 -0.13840913 -0.13840913 -0.0433963  -0.06142951 -0.0433963\n",
      "  -0.07530656 -0.18168574 -0.0433963  -0.0433963  -0.0433963  -0.07530656\n",
      "  -0.15826614 -0.31491833 -0.0433963  -0.08703883 -0.07530656 -0.06142951\n",
      "  -0.72111026 -0.0433963  -0.0433963  -0.06142951 -0.0433963  -0.0433963\n",
      "  -0.0433963  -0.0433963  -0.0433963  -0.0433963  -0.0433963  -0.0433963\n",
      "  -0.39879994 -0.0433963  -0.18168574 -0.0433963  -0.08703883 -0.08703883\n",
      "  -0.10680283 -0.0433963  -0.13118084 -0.0433963  -0.0433963  -0.0433963\n",
      "  -0.0433963  -0.07530656 -0.43911856 -0.0433963  -0.06142951 -0.0433963\n",
      "  -0.0433963   1.11567277 -0.0433963  -0.0433963  -0.70312305 -0.0433963\n",
      "  -0.0433963  -0.0433963  -0.0433963  -0.0433963  -0.0433963  -0.0433963\n",
      "  -0.0433963  -0.0433963 ]]\n"
     ]
    }
   ],
   "source": [
    "# Standarize data with StandarScaler\n",
    "X_scaled = StandardScaler().fit_transform(X)\n",
    "print(X_scaled[0:5])"
   ]
  },
  {
   "cell_type": "markdown",
   "metadata": {},
   "source": [
    "### Dimensionality Reduction"
   ]
  },
  {
   "cell_type": "code",
   "execution_count": 26,
   "metadata": {},
   "outputs": [],
   "source": [
    "# Applying PCA to reduce dimensions to 3\n",
    "# Initialize PCA model\n",
    "n_comp = 3\n",
    "pca = PCA(n_components=n_comp)\n",
    "# fit the scaled data\n",
    "crypto_pca = pca.fit_transform(X_scaled)"
   ]
  },
  {
   "cell_type": "code",
   "execution_count": 27,
   "metadata": {},
   "outputs": [
    {
     "name": "stdout",
     "output_type": "stream",
     "text": [
      "(532, 3)\n"
     ]
    },
    {
     "data": {
      "text/html": [
       "<div>\n",
       "<style scoped>\n",
       "    .dataframe tbody tr th:only-of-type {\n",
       "        vertical-align: middle;\n",
       "    }\n",
       "\n",
       "    .dataframe tbody tr th {\n",
       "        vertical-align: top;\n",
       "    }\n",
       "\n",
       "    .dataframe thead th {\n",
       "        text-align: right;\n",
       "    }\n",
       "</style>\n",
       "<table border=\"1\" class=\"dataframe\">\n",
       "  <thead>\n",
       "    <tr style=\"text-align: right;\">\n",
       "      <th></th>\n",
       "      <th>PC 1</th>\n",
       "      <th>PC 2</th>\n",
       "      <th>PC 3</th>\n",
       "    </tr>\n",
       "  </thead>\n",
       "  <tbody>\n",
       "    <tr>\n",
       "      <th>42</th>\n",
       "      <td>-0.332078</td>\n",
       "      <td>1.024717</td>\n",
       "      <td>-0.540895</td>\n",
       "    </tr>\n",
       "    <tr>\n",
       "      <th>404</th>\n",
       "      <td>-0.315430</td>\n",
       "      <td>1.025056</td>\n",
       "      <td>-0.541298</td>\n",
       "    </tr>\n",
       "    <tr>\n",
       "      <th>1337</th>\n",
       "      <td>2.316444</td>\n",
       "      <td>1.686486</td>\n",
       "      <td>-0.656853</td>\n",
       "    </tr>\n",
       "    <tr>\n",
       "      <th>BTC</th>\n",
       "      <td>-0.151803</td>\n",
       "      <td>-1.301727</td>\n",
       "      <td>0.172210</td>\n",
       "    </tr>\n",
       "    <tr>\n",
       "      <th>ETH</th>\n",
       "      <td>-0.155932</td>\n",
       "      <td>-2.055249</td>\n",
       "      <td>0.315150</td>\n",
       "    </tr>\n",
       "    <tr>\n",
       "      <th>LTC</th>\n",
       "      <td>-0.175273</td>\n",
       "      <td>-1.100798</td>\n",
       "      <td>-0.020947</td>\n",
       "    </tr>\n",
       "    <tr>\n",
       "      <th>DASH</th>\n",
       "      <td>-0.379989</td>\n",
       "      <td>1.203085</td>\n",
       "      <td>-0.507536</td>\n",
       "    </tr>\n",
       "    <tr>\n",
       "      <th>XMR</th>\n",
       "      <td>-0.151969</td>\n",
       "      <td>-2.249667</td>\n",
       "      <td>0.328000</td>\n",
       "    </tr>\n",
       "    <tr>\n",
       "      <th>ETC</th>\n",
       "      <td>-0.154375</td>\n",
       "      <td>-2.055327</td>\n",
       "      <td>0.315123</td>\n",
       "    </tr>\n",
       "    <tr>\n",
       "      <th>ZEC</th>\n",
       "      <td>-0.165370</td>\n",
       "      <td>-2.079138</td>\n",
       "      <td>0.420971</td>\n",
       "    </tr>\n",
       "  </tbody>\n",
       "</table>\n",
       "</div>"
      ],
      "text/plain": [
       "          PC 1      PC 2      PC 3\n",
       "42   -0.332078  1.024717 -0.540895\n",
       "404  -0.315430  1.025056 -0.541298\n",
       "1337  2.316444  1.686486 -0.656853\n",
       "BTC  -0.151803 -1.301727  0.172210\n",
       "ETH  -0.155932 -2.055249  0.315150\n",
       "LTC  -0.175273 -1.100798 -0.020947\n",
       "DASH -0.379989  1.203085 -0.507536\n",
       "XMR  -0.151969 -2.249667  0.328000\n",
       "ETC  -0.154375 -2.055327  0.315123\n",
       "ZEC  -0.165370 -2.079138  0.420971"
      ]
     },
     "execution_count": 27,
     "metadata": {},
     "output_type": "execute_result"
    }
   ],
   "source": [
    "# Transform PCA data to a DataFrame\n",
    "df_crypto_pca = pd.DataFrame(\n",
    "    data=crypto_pca, columns=[\"PC 1\", \"PC 2\", \"PC 3\"], index=clean_crypto_df.index)\n",
    "print(df_crypto_pca.shape)\n",
    "df_crypto_pca.head(10)"
   ]
  },
  {
   "cell_type": "code",
   "execution_count": 28,
   "metadata": {},
   "outputs": [
    {
     "data": {
      "text/plain": [
       "array([0.02792739, 0.02133954, 0.02049898])"
      ]
     },
     "execution_count": 28,
     "metadata": {},
     "output_type": "execute_result"
    }
   ],
   "source": [
    "# Fetch the explained variance\n",
    "pca.explained_variance_ratio_"
   ]
  },
  {
   "cell_type": "code",
   "execution_count": 29,
   "metadata": {},
   "outputs": [],
   "source": [
    "tsne = TSNE(learning_rate=100)\n",
    "transformed_features = tsne.fit_transform(crypto_pca)"
   ]
  },
  {
   "cell_type": "markdown",
   "metadata": {},
   "source": [
    "### Cluster Analysis with k-Means"
   ]
  },
  {
   "cell_type": "code",
   "execution_count": 30,
   "metadata": {},
   "outputs": [
    {
     "name": "stderr",
     "output_type": "stream",
     "text": [
      "C:\\Users\\patel\\anaconda3\\lib\\site-packages\\sklearn\\cluster\\_kmeans.py:881: UserWarning: KMeans is known to have a memory leak on Windows with MKL, when there are less chunks than available threads. You can avoid it by setting the environment variable OMP_NUM_THREADS=3.\n",
      "  warnings.warn(\n"
     ]
    },
    {
     "data": {
      "text/html": [
       "<div>\n",
       "<style scoped>\n",
       "    .dataframe tbody tr th:only-of-type {\n",
       "        vertical-align: middle;\n",
       "    }\n",
       "\n",
       "    .dataframe tbody tr th {\n",
       "        vertical-align: top;\n",
       "    }\n",
       "\n",
       "    .dataframe thead th {\n",
       "        text-align: right;\n",
       "    }\n",
       "</style>\n",
       "<table border=\"1\" class=\"dataframe\">\n",
       "  <thead>\n",
       "    <tr style=\"text-align: right;\">\n",
       "      <th></th>\n",
       "      <th>k</th>\n",
       "      <th>inertia</th>\n",
       "    </tr>\n",
       "  </thead>\n",
       "  <tbody>\n",
       "    <tr>\n",
       "      <th>0</th>\n",
       "      <td>1</td>\n",
       "      <td>3637.315578</td>\n",
       "    </tr>\n",
       "    <tr>\n",
       "      <th>1</th>\n",
       "      <td>2</td>\n",
       "      <td>2471.804631</td>\n",
       "    </tr>\n",
       "    <tr>\n",
       "      <th>2</th>\n",
       "      <td>3</td>\n",
       "      <td>1485.484669</td>\n",
       "    </tr>\n",
       "    <tr>\n",
       "      <th>3</th>\n",
       "      <td>4</td>\n",
       "      <td>532.419880</td>\n",
       "    </tr>\n",
       "    <tr>\n",
       "      <th>4</th>\n",
       "      <td>5</td>\n",
       "      <td>330.709114</td>\n",
       "    </tr>\n",
       "  </tbody>\n",
       "</table>\n",
       "</div>"
      ],
      "text/plain": [
       "   k      inertia\n",
       "0  1  3637.315578\n",
       "1  2  2471.804631\n",
       "2  3  1485.484669\n",
       "3  4   532.419880\n",
       "4  5   330.709114"
      ]
     },
     "execution_count": 30,
     "metadata": {},
     "output_type": "execute_result"
    }
   ],
   "source": [
    "# Create an elbow plot to identify the best value of clusters\n",
    "inertia = []\n",
    "k = list(range(1, 11))\n",
    "\n",
    "# Calculate the inertia for the range of k values\n",
    "for i in k:\n",
    "    km = KMeans(n_clusters=i, random_state=0)\n",
    "    km.fit(crypto_pca)\n",
    "    inertia.append(km.inertia_)\n",
    "\n",
    "# Create the Elbow Curve using hvPlot\n",
    "elbow_data = {\"k\": k, \"inertia\": inertia}\n",
    "df_elbow = pd.DataFrame(elbow_data)\n",
    "df_elbow.head()"
   ]
  },
  {
   "cell_type": "code",
   "execution_count": 31,
   "metadata": {},
   "outputs": [
    {
     "data": {
      "image/png": "[encoded data removed]",
      "text/plain": [
       "<Figure size 432x288 with 1 Axes>"
      ]
     },
     "metadata": {
      "needs_background": "light"
     },
     "output_type": "display_data"
    }
   ],
   "source": [
    "# Plot the elbow curve to find the best candidate(s) for k\n",
    "plt.plot(df_elbow['k'], df_elbow['inertia'])\n",
    "plt.xticks(range(1,11))\n",
    "plt.xlabel('Number of clusters')\n",
    "plt.ylabel('Inertia')\n",
    "plt.title('Elbow curve for Cryptocurrencies')\n",
    "plt.show()"
   ]
  },
  {
   "cell_type": "markdown",
   "metadata": {},
   "source": [
    "### Recommendation"
   ]
  },
  {
   "cell_type": "code",
   "execution_count": 32,
   "metadata": {},
   "outputs": [
    {
     "name": "stdout",
     "output_type": "stream",
     "text": [
      "(532, 9)\n"
     ]
    },
    {
     "data": {
      "text/html": [
       "<div>\n",
       "<style scoped>\n",
       "    .dataframe tbody tr th:only-of-type {\n",
       "        vertical-align: middle;\n",
       "    }\n",
       "\n",
       "    .dataframe tbody tr th {\n",
       "        vertical-align: top;\n",
       "    }\n",
       "\n",
       "    .dataframe thead th {\n",
       "        text-align: right;\n",
       "    }\n",
       "</style>\n",
       "<table border=\"1\" class=\"dataframe\">\n",
       "  <thead>\n",
       "    <tr style=\"text-align: right;\">\n",
       "      <th></th>\n",
       "      <th>Algorithm</th>\n",
       "      <th>ProofType</th>\n",
       "      <th>TotalCoinsMined</th>\n",
       "      <th>TotalCoinSupply</th>\n",
       "      <th>PC 1</th>\n",
       "      <th>PC 2</th>\n",
       "      <th>PC 3</th>\n",
       "      <th>CoinName</th>\n",
       "      <th>Class</th>\n",
       "    </tr>\n",
       "  </thead>\n",
       "  <tbody>\n",
       "    <tr>\n",
       "      <th>42</th>\n",
       "      <td>Scrypt</td>\n",
       "      <td>PoW/PoS</td>\n",
       "      <td>4.199995e+01</td>\n",
       "      <td>42</td>\n",
       "      <td>-0.332078</td>\n",
       "      <td>1.024717</td>\n",
       "      <td>-0.540895</td>\n",
       "      <td>42 Coin</td>\n",
       "      <td>0</td>\n",
       "    </tr>\n",
       "    <tr>\n",
       "      <th>404</th>\n",
       "      <td>Scrypt</td>\n",
       "      <td>PoW/PoS</td>\n",
       "      <td>1.055185e+09</td>\n",
       "      <td>532000000</td>\n",
       "      <td>-0.315430</td>\n",
       "      <td>1.025056</td>\n",
       "      <td>-0.541298</td>\n",
       "      <td>404Coin</td>\n",
       "      <td>0</td>\n",
       "    </tr>\n",
       "    <tr>\n",
       "      <th>1337</th>\n",
       "      <td>X13</td>\n",
       "      <td>PoW/PoS</td>\n",
       "      <td>2.927942e+10</td>\n",
       "      <td>314159265359</td>\n",
       "      <td>2.316444</td>\n",
       "      <td>1.686486</td>\n",
       "      <td>-0.656853</td>\n",
       "      <td>EliteCoin</td>\n",
       "      <td>0</td>\n",
       "    </tr>\n",
       "    <tr>\n",
       "      <th>BTC</th>\n",
       "      <td>SHA-256</td>\n",
       "      <td>PoW</td>\n",
       "      <td>1.792718e+07</td>\n",
       "      <td>21000000</td>\n",
       "      <td>-0.151803</td>\n",
       "      <td>-1.301727</td>\n",
       "      <td>0.172210</td>\n",
       "      <td>Bitcoin</td>\n",
       "      <td>3</td>\n",
       "    </tr>\n",
       "    <tr>\n",
       "      <th>ETH</th>\n",
       "      <td>Ethash</td>\n",
       "      <td>PoW</td>\n",
       "      <td>1.076842e+08</td>\n",
       "      <td>0</td>\n",
       "      <td>-0.155932</td>\n",
       "      <td>-2.055249</td>\n",
       "      <td>0.315150</td>\n",
       "      <td>Ethereum</td>\n",
       "      <td>3</td>\n",
       "    </tr>\n",
       "    <tr>\n",
       "      <th>LTC</th>\n",
       "      <td>Scrypt</td>\n",
       "      <td>PoW</td>\n",
       "      <td>6.303924e+07</td>\n",
       "      <td>84000000</td>\n",
       "      <td>-0.175273</td>\n",
       "      <td>-1.100798</td>\n",
       "      <td>-0.020947</td>\n",
       "      <td>Litecoin</td>\n",
       "      <td>3</td>\n",
       "    </tr>\n",
       "    <tr>\n",
       "      <th>DASH</th>\n",
       "      <td>X11</td>\n",
       "      <td>PoW/PoS</td>\n",
       "      <td>9.031294e+06</td>\n",
       "      <td>22000000</td>\n",
       "      <td>-0.379989</td>\n",
       "      <td>1.203085</td>\n",
       "      <td>-0.507536</td>\n",
       "      <td>Dash</td>\n",
       "      <td>0</td>\n",
       "    </tr>\n",
       "    <tr>\n",
       "      <th>XMR</th>\n",
       "      <td>CryptoNight-V7</td>\n",
       "      <td>PoW</td>\n",
       "      <td>1.720114e+07</td>\n",
       "      <td>0</td>\n",
       "      <td>-0.151969</td>\n",
       "      <td>-2.249667</td>\n",
       "      <td>0.328000</td>\n",
       "      <td>Monero</td>\n",
       "      <td>3</td>\n",
       "    </tr>\n",
       "    <tr>\n",
       "      <th>ETC</th>\n",
       "      <td>Ethash</td>\n",
       "      <td>PoW</td>\n",
       "      <td>1.133597e+08</td>\n",
       "      <td>210000000</td>\n",
       "      <td>-0.154375</td>\n",
       "      <td>-2.055327</td>\n",
       "      <td>0.315123</td>\n",
       "      <td>Ethereum Classic</td>\n",
       "      <td>3</td>\n",
       "    </tr>\n",
       "    <tr>\n",
       "      <th>ZEC</th>\n",
       "      <td>Equihash</td>\n",
       "      <td>PoW</td>\n",
       "      <td>7.383056e+06</td>\n",
       "      <td>21000000</td>\n",
       "      <td>-0.165370</td>\n",
       "      <td>-2.079138</td>\n",
       "      <td>0.420971</td>\n",
       "      <td>ZCash</td>\n",
       "      <td>3</td>\n",
       "    </tr>\n",
       "  </tbody>\n",
       "</table>\n",
       "</div>"
      ],
      "text/plain": [
       "           Algorithm ProofType  TotalCoinsMined TotalCoinSupply      PC 1  \\\n",
       "42            Scrypt   PoW/PoS     4.199995e+01              42 -0.332078   \n",
       "404           Scrypt   PoW/PoS     1.055185e+09       532000000 -0.315430   \n",
       "1337             X13   PoW/PoS     2.927942e+10    314159265359  2.316444   \n",
       "BTC          SHA-256       PoW     1.792718e+07        21000000 -0.151803   \n",
       "ETH           Ethash       PoW     1.076842e+08               0 -0.155932   \n",
       "LTC           Scrypt       PoW     6.303924e+07        84000000 -0.175273   \n",
       "DASH             X11   PoW/PoS     9.031294e+06        22000000 -0.379989   \n",
       "XMR   CryptoNight-V7       PoW     1.720114e+07               0 -0.151969   \n",
       "ETC           Ethash       PoW     1.133597e+08       210000000 -0.154375   \n",
       "ZEC         Equihash       PoW     7.383056e+06        21000000 -0.165370   \n",
       "\n",
       "          PC 2      PC 3          CoinName  Class  \n",
       "42    1.024717 -0.540895           42 Coin      0  \n",
       "404   1.025056 -0.541298           404Coin      0  \n",
       "1337  1.686486 -0.656853         EliteCoin      0  \n",
       "BTC  -1.301727  0.172210           Bitcoin      3  \n",
       "ETH  -2.055249  0.315150          Ethereum      3  \n",
       "LTC  -1.100798 -0.020947          Litecoin      3  \n",
       "DASH  1.203085 -0.507536              Dash      0  \n",
       "XMR  -2.249667  0.328000            Monero      3  \n",
       "ETC  -2.055327  0.315123  Ethereum Classic      3  \n",
       "ZEC  -2.079138  0.420971             ZCash      3  "
      ]
     },
     "execution_count": 32,
     "metadata": {},
     "output_type": "execute_result"
    }
   ],
   "source": [
    "# Running K-Means with K=4\n",
    "# Initialize the K-Means model\n",
    "model = KMeans(n_clusters=4, random_state=0)\n",
    "\n",
    "# Train the model\n",
    "model.fit(df_crypto_pca)\n",
    "\n",
    "# Predict clusters\n",
    "predictions = model.predict(df_crypto_pca)\n",
    "\n",
    "# Create return DataFrame with predicted clusters\n",
    "\n",
    "clustered_df = pd.concat([clean_crypto_df, df_crypto_pca], axis=1, sort=False)\n",
    "clustered_df[\"CoinName\"] = coins_name[\"CoinName\"]\n",
    "clustered_df[\"Class\"] = model.labels_\n",
    "print(clustered_df.shape)\n",
    "clustered_df.head(10)\n",
    "\n"
   ]
  },
  {
   "cell_type": "code",
   "execution_count": 35,
   "metadata": {},
   "outputs": [
    {
     "data": {
      "application/vnd.plotly.v1+json": {
       "config": {
        "plotlyServerURL": "https://plot.ly"
       },
       "data": [
        {
         "customdata": [
          [
           "Scrypt"
          ],
          [
           "Scrypt"
          ],
          [
           "X13"
          ],
          [
           "X11"
          ],
          [
           "SHA-512"
          ],
          [
           "SHA-256"
          ],
          [
           "SHA-256"
          ],
          [
           "X15"
          ],
          [
           "Scrypt"
          ],
          [
           "Scrypt"
          ],
          [
           "Scrypt"
          ],
          [
           "Scrypt"
          ],
          [
           "Scrypt"
          ],
          [
           "Scrypt"
          ],
          [
           "Groestl"
          ],
          [
           "PoS"
          ],
          [
           "Scrypt"
          ],
          [
           "Scrypt"
          ],
          [
           "X11"
          ],
          [
           "X11"
          ],
          [
           "SHA3"
          ],
          [
           "Scrypt"
          ],
          [
           "SHA-256"
          ],
          [
           "Scrypt"
          ],
          [
           "X13"
          ],
          [
           "X13"
          ],
          [
           "NeoScrypt"
          ],
          [
           "Scrypt"
          ],
          [
           "Scrypt"
          ],
          [
           "Scrypt"
          ],
          [
           "X11"
          ],
          [
           "X11"
          ],
          [
           "Multiple"
          ],
          [
           "PHI1612"
          ],
          [
           "X11"
          ],
          [
           "Scrypt"
          ],
          [
           "Scrypt"
          ],
          [
           "Scrypt"
          ],
          [
           "X11"
          ],
          [
           "Multiple"
          ],
          [
           "X13"
          ],
          [
           "Scrypt"
          ],
          [
           "Shabal256"
          ],
          [
           "Counterparty"
          ],
          [
           "SHA-256"
          ],
          [
           "Groestl"
          ],
          [
           "Scrypt"
          ],
          [
           "X13"
          ],
          [
           "Scrypt"
          ],
          [
           "Scrypt"
          ],
          [
           "X13"
          ],
          [
           "X11"
          ],
          [
           "Scrypt"
          ],
          [
           "X11"
          ],
          [
           "QUAIT"
          ],
          [
           "X11"
          ],
          [
           "Scrypt"
          ],
          [
           "X13"
          ],
          [
           "SHA-256"
          ],
          [
           "X15"
          ],
          [
           "BLAKE256"
          ],
          [
           "SHA-256"
          ],
          [
           "X11"
          ],
          [
           "SHA-256"
          ],
          [
           "NIST5"
          ],
          [
           "Scrypt"
          ],
          [
           "Scrypt"
          ],
          [
           "X11"
          ],
          [
           "Scrypt"
          ],
          [
           "SHA-256"
          ],
          [
           "Scrypt"
          ],
          [
           "PoS"
          ],
          [
           "X11"
          ],
          [
           "SHA-256"
          ],
          [
           "SHA-256"
          ],
          [
           "NIST5"
          ],
          [
           "X11"
          ],
          [
           "POS 3.0"
          ],
          [
           "Scrypt"
          ],
          [
           "Scrypt"
          ],
          [
           "Scrypt"
          ],
          [
           "X13"
          ],
          [
           "X11"
          ],
          [
           "X11"
          ],
          [
           "Scrypt"
          ],
          [
           "SHA-256"
          ],
          [
           "X11"
          ],
          [
           "Scrypt"
          ],
          [
           "Scrypt"
          ],
          [
           "Scrypt"
          ],
          [
           "Scrypt"
          ],
          [
           "SHA-256D"
          ],
          [
           "PoS"
          ],
          [
           "Scrypt"
          ],
          [
           "X11"
          ],
          [
           "PoS"
          ],
          [
           "X13"
          ],
          [
           "X14"
          ],
          [
           "PoS"
          ],
          [
           "SHA-256D"
          ],
          [
           "DPoS"
          ],
          [
           "X11"
          ],
          [
           "X13"
          ],
          [
           "X11"
          ],
          [
           "PoS"
          ],
          [
           "Scrypt"
          ],
          [
           "Scrypt"
          ],
          [
           "PoS"
          ],
          [
           "X11"
          ],
          [
           "SHA-256"
          ],
          [
           "Scrypt"
          ],
          [
           "X11"
          ],
          [
           "Scrypt"
          ],
          [
           "Scrypt"
          ],
          [
           "X11"
          ],
          [
           "Scrypt"
          ],
          [
           "Scrypt"
          ],
          [
           "Scrypt"
          ],
          [
           "Scrypt"
          ],
          [
           "Quark"
          ],
          [
           "QuBit"
          ],
          [
           "Scrypt"
          ],
          [
           "SHA-256"
          ],
          [
           "X11"
          ],
          [
           "Scrypt"
          ],
          [
           "Scrypt"
          ],
          [
           "Scrypt"
          ],
          [
           "Scrypt"
          ],
          [
           "X13"
          ],
          [
           "Scrypt"
          ],
          [
           "Scrypt"
          ],
          [
           "X11"
          ],
          [
           "Blake2S"
          ],
          [
           "X11"
          ],
          [
           "PoS"
          ],
          [
           "X11"
          ],
          [
           "PoS"
          ],
          [
           "X11"
          ],
          [
           "Scrypt"
          ],
          [
           "Scrypt"
          ],
          [
           "Scrypt"
          ],
          [
           "SHA-256"
          ],
          [
           "X11"
          ],
          [
           "Scrypt"
          ],
          [
           "PoS"
          ],
          [
           "Scrypt"
          ],
          [
           "X15"
          ],
          [
           "SHA-256"
          ],
          [
           "POS 3.0"
          ],
          [
           "536"
          ],
          [
           "NIST5"
          ],
          [
           "NIST5"
          ],
          [
           "Skein"
          ],
          [
           "X13"
          ],
          [
           "Scrypt"
          ],
          [
           "X13"
          ],
          [
           "SkunkHash v2 Raptor"
          ],
          [
           "Skein"
          ],
          [
           "X11"
          ],
          [
           "Scrypt"
          ],
          [
           "VeChainThor Authority"
          ],
          [
           "PoS"
          ],
          [
           "Scrypt"
          ],
          [
           "Scrypt"
          ],
          [
           "SHA-512"
          ],
          [
           "Ouroboros"
          ],
          [
           "X11"
          ],
          [
           "NeoScrypt"
          ],
          [
           "Scrypt"
          ],
          [
           "Lyra2REv2"
          ],
          [
           "Scrypt"
          ],
          [
           "SHA-256"
          ],
          [
           "NIST5"
          ],
          [
           "PHI1612"
          ],
          [
           "Scrypt"
          ],
          [
           "Quark"
          ],
          [
           "POS 2.0"
          ],
          [
           "Scrypt"
          ],
          [
           "SHA-256"
          ],
          [
           "X11"
          ],
          [
           "DPoS"
          ],
          [
           "NIST5"
          ],
          [
           "X13"
          ],
          [
           "Scrypt"
          ],
          [
           "NIST5"
          ],
          [
           "Quark"
          ],
          [
           "Scrypt"
          ],
          [
           "Scrypt"
          ],
          [
           "X11"
          ],
          [
           "Quark"
          ],
          [
           "Scrypt"
          ],
          [
           "Scrypt"
          ],
          [
           "X11"
          ],
          [
           "POS 3.0"
          ],
          [
           "Ethash"
          ],
          [
           "Scrypt"
          ],
          [
           "Scrypt"
          ],
          [
           "X13"
          ],
          [
           "C11"
          ],
          [
           "X11"
          ],
          [
           "XEVAN"
          ],
          [
           "Scrypt"
          ],
          [
           "VBFT"
          ],
          [
           "NIST5"
          ],
          [
           "Scrypt"
          ],
          [
           "Scrypt"
          ],
          [
           "Scrypt"
          ],
          [
           "Green Protocol"
          ],
          [
           "PoS"
          ],
          [
           "Scrypt"
          ],
          [
           "Semux BFT consensus"
          ],
          [
           "Quark"
          ],
          [
           "PoS"
          ],
          [
           "X16R"
          ],
          [
           "Scrypt"
          ],
          [
           "XEVAN"
          ],
          [
           "Scrypt"
          ],
          [
           "Scrypt"
          ],
          [
           "Scrypt"
          ],
          [
           "SHA-256D"
          ],
          [
           "Scrypt"
          ],
          [
           "X15"
          ],
          [
           "Scrypt"
          ],
          [
           "Quark"
          ],
          [
           "SHA-256"
          ],
          [
           "DPoS"
          ],
          [
           "X16R"
          ],
          [
           "Quark"
          ],
          [
           "Quark"
          ],
          [
           "Scrypt"
          ],
          [
           "Lyra2REv2"
          ],
          [
           "Quark"
          ],
          [
           "Scrypt"
          ],
          [
           "X11"
          ],
          [
           "X11"
          ],
          [
           "Scrypt"
          ],
          [
           "PoS"
          ],
          [
           "Keccak"
          ],
          [
           "X11"
          ],
          [
           "Scrypt"
          ],
          [
           "SHA-512"
          ],
          [
           "XEVAN"
          ],
          [
           "XEVAN"
          ],
          [
           "X11"
          ],
          [
           "Quark"
          ],
          [
           "Equihash"
          ],
          [
           "Scrypt"
          ],
          [
           "Quark"
          ],
          [
           "Quark"
          ],
          [
           "Scrypt"
          ],
          [
           "X11"
          ],
          [
           "Scrypt"
          ],
          [
           "XEVAN"
          ],
          [
           "SHA-256D"
          ],
          [
           "X11"
          ],
          [
           "X11"
          ],
          [
           "DPoS"
          ],
          [
           "Scrypt"
          ],
          [
           "X11"
          ],
          [
           "Scrypt"
          ],
          [
           "Scrypt"
          ],
          [
           "SHA-256"
          ],
          [
           "Scrypt"
          ],
          [
           "X11"
          ],
          [
           "Scrypt"
          ],
          [
           "SHA-256"
          ],
          [
           "X11"
          ],
          [
           "Scrypt"
          ],
          [
           "Scrypt"
          ],
          [
           "X11"
          ],
          [
           "Scrypt"
          ],
          [
           "PoS"
          ],
          [
           "X11"
          ],
          [
           "SHA-256"
          ],
          [
           "DPoS"
          ],
          [
           "Scrypt"
          ],
          [
           "Scrypt"
          ],
          [
           "NeoScrypt"
          ],
          [
           "X13"
          ],
          [
           "DPoS"
          ],
          [
           "DPoS"
          ],
          [
           "SHA-256"
          ],
          [
           "PoS"
          ],
          [
           "PoS"
          ],
          [
           "SHA-256"
          ],
          [
           "Scrypt"
          ],
          [
           "Scrypt"
          ]
         ],
         "hovertemplate": "<b>%{hovertext}</b><br><br>Class=%{marker.color}<br>PC 1=%{x}<br>PC 2=%{y}<br>PC 3=%{z}<br>Algorithm=%{customdata[0]}<extra></extra>",
         "hovertext": [
          "42 Coin",
          "404Coin",
          "EliteCoin",
          "Dash",
          "Bitshares",
          "BitcoinDark",
          "PayCoin",
          "KoboCoin",
          "Aurora Coin",
          "BlueCoin",
          "EnergyCoin",
          "BitBar",
          "CryptoBullion",
          "CasinoCoin",
          "Diamond",
          "Exclusive Coin",
          "FlutterCoin",
          "HoboNickels",
          "HyperStake",
          "IOCoin",
          "MaxCoin",
          "MintCoin",
          "MazaCoin",
          "Nautilus Coin",
          "NavCoin",
          "OpalCoin",
          "Orbitcoin",
          "PotCoin",
          "PhoenixCoin",
          "Reddcoin",
          "SuperCoin",
          "SyncCoin",
          "TeslaCoin",
          "TittieCoin",
          "TorCoin",
          "UnitaryStatus Dollar",
          "UltraCoin",
          "VeriCoin",
          "X11 Coin",
          "Crypti",
          "StealthCoin",
          "ZCC Coin",
          "BurstCoin",
          "StorjCoin",
          "Neutron",
          "FairCoin",
          "RubyCoin",
          "Kore",
          "Dnotes",
          "8BIT Coin",
          "Sativa Coin",
          "Ucoin",
          "Vtorrent",
          "IslaCoin",
          "Droidz",
          "Squall Coin",
          "Diggits",
          "Paycon",
          "Emercoin",
          "EverGreenCoin",
          "Decred",
          "EDRCoin",
          "Hitcoin",
          "DubaiCoin",
          "PWR Coin",
          "BillaryCoin",
          "GPU Coin",
          "EuropeCoin",
          "ZeitCoin",
          "SwingCoin",
          "SafeExchangeCoin",
          "Nebuchadnezzar",
          "Ratecoin",
          "Revenu",
          "Clockcoin",
          "VIP Tokens",
          "BitSend",
          "Let it Ride",
          "PutinCoin",
          "iBankCoin",
          "Frankywillcoin",
          "MudraCoin",
          "Lutetium Coin",
          "GoldBlocks",
          "CarterCoin",
          "BitTokens",
          "MustangCoin",
          "ZoneCoin",
          "RootCoin",
          "BitCurrency",
          "Swiscoin",
          "BuzzCoin",
          "Opair",
          "PesoBit",
          "Halloween Coin",
          "CoffeeCoin",
          "RoyalCoin",
          "GanjaCoin V2",
          "TeamUP",
          "LanaCoin",
          "ARK",
          "InsaneCoin",
          "EmberCoin",
          "XenixCoin",
          "FreeCoin",
          "PLNCoin",
          "AquariusCoin",
          "Creatio",
          "Eternity",
          "Eurocoin",
          "BitcoinFast",
          "Stakenet",
          "BitConnect Coin",
          "MoneyCoin",
          "Enigma",
          "Russiacoin",
          "PandaCoin",
          "GameUnits",
          "GAKHcoin",
          "Allsafe",
          "LiteCreed",
          "Klingon Empire Darsek",
          "Internet of People",
          "KushCoin",
          "Printerium",
          "Impeach",
          "Zilbercoin",
          "FirstCoin",
          "FindCoin",
          "OpenChat",
          "RenosCoin",
          "VirtacoinPlus",
          "TajCoin",
          "Impact",
          "Atmos",
          "HappyCoin",
          "MacronCoin",
          "Condensate",
          "Independent Money System",
          "ArgusCoin",
          "LomoCoin",
          "ProCurrency",
          "GoldReserve",
          "GrowthCoin",
          "Phreak",
          "Degas Coin",
          "HTML5 Coin",
          "Ultimate Secure Cash",
          "QTUM",
          "Espers",
          "Denarius",
          "Virta Unique Coin",
          "Bitcoin Planet",
          "BritCoin",
          "Linda",
          "DeepOnion",
          "Signatum",
          "Cream",
          "Monoeci",
          "Draftcoin",
          "Vechain",
          "Stakecoin",
          "CoinonatX",
          "Ethereum Dark",
          "Obsidian",
          "Cardano",
          "Regalcoin",
          "TrezarCoin",
          "TerraNovaCoin",
          "Rupee",
          "WomenCoin",
          "Theresa May Coin",
          "NamoCoin",
          "LUXCoin",
          "Xios",
          "Bitcloud 2.0",
          "KekCoin",
          "BlackholeCoin",
          "Infinity Economics",
          "Magnet",
          "Lamden Tau",
          "Electra",
          "Bitcoin Diamond",
          "Cash & Back Coin",
          "Bulwark",
          "Kalkulus",
          "GermanCoin",
          "LiteCoin Ultra",
          "PhantomX",
          "Digiwage",
          "Trollcoin",
          "Litecoin Plus",
          "Monkey Project",
          "TokenPay",
          "1717 Masonic Commemorative Token",
          "My Big Coin",
          "Unified Society USDEX",
          "Tokyo Coin",
          "Stipend",
          "Pushi",
          "Ellerium",
          "Velox",
          "Ontology",
          "Bitspace",
          "Briacoin",
          "Ignition",
          "MedicCoin",
          "Bitcoin Green",
          "Deviant Coin",
          "Abjcoin",
          "Semux",
          "Carebit",
          "Zealium",
          "Proton",
          "iDealCash",
          "Bitcoin Incognito",
          "HollyWoodCoin",
          "Swisscoin",
          "Xt3ch",
          "TheVig",
          "EmaratCoin",
          "Dekado",
          "Lynx",
          "Poseidon Quark",
          "BitcoinWSpectrum",
          "Muse",
          "Trivechain",
          "Dystem",
          "Giant",
          "Peony Coin",
          "Absolute Coin",
          "Vitae",
          "TPCash",
          "ARENON",
          "EUNO",
          "MMOCoin",
          "Ketan",
          "XDNA",
          "PAXEX",
          "ThunderStake",
          "Kcash",
          "Bettex coin",
          "BitMoney",
          "Junson Ming Chan Coin",
          "HerbCoin",
          "PirateCash",
          "Oduwa",
          "Galilel",
          "Crypto Sports",
          "Credit",
          "Dash Platinum",
          "Nasdacoin",
          "Beetle Coin",
          "Titan Coin",
          "Award",
          "Insane Coin",
          "ALAX",
          "LiteDoge",
          "TruckCoin",
          "OrangeCoin",
          "BitstarCoin",
          "NeosCoin",
          "HyperCoin",
          "PinkCoin",
          "AudioCoin",
          "IncaKoin",
          "Piggy Coin",
          "Genstake",
          "XiaoMiCoin",
          "CapriCoin",
          " ClubCoin",
          "Radium",
          "Creditbit ",
          "OKCash",
          "Lisk",
          "HiCoin",
          "WhiteCoin",
          "FriendshipCoin",
          "Triangles Coin",
          "EOS",
          "Oxycoin",
          "TigerCash",
          "Particl",
          "Nxt",
          "ZEPHYR",
          "Gapcoin",
          "BitcoinPlus"
         ],
         "legendgroup": "0",
         "marker": {
          "color": [
           0,
           0,
           0,
           0,
           0,
           0,
           0,
           0,
           0,
           0,
           0,
           0,
           0,
           0,
           0,
           0,
           0,
           0,
           0,
           0,
           0,
           0,
           0,
           0,
           0,
           0,
           0,
           0,
           0,
           0,
           0,
           0,
           0,
           0,
           0,
           0,
           0,
           0,
           0,
           0,
           0,
           0,
           0,
           0,
           0,
           0,
           0,
           0,
           0,
           0,
           0,
           0,
           0,
           0,
           0,
           0,
           0,
           0,
           0,
           0,
           0,
           0,
           0,
           0,
           0,
           0,
           0,
           0,
           0,
           0,
           0,
           0,
           0,
           0,
           0,
           0,
           0,
           0,
           0,
           0,
           0,
           0,
           0,
           0,
           0,
           0,
           0,
           0,
           0,
           0,
           0,
           0,
           0,
           0,
           0,
           0,
           0,
           0,
           0,
           0,
           0,
           0,
           0,
           0,
           0,
           0,
           0,
           0,
           0,
           0,
           0,
           0,
           0,
           0,
           0,
           0,
           0,
           0,
           0,
           0,
           0,
           0,
           0,
           0,
           0,
           0,
           0,
           0,
           0,
           0,
           0,
           0,
           0,
           0,
           0,
           0,
           0,
           0,
           0,
           0,
           0,
           0,
           0,
           0,
           0,
           0,
           0,
           0,
           0,
           0,
           0,
           0,
           0,
           0,
           0,
           0,
           0,
           0,
           0,
           0,
           0,
           0,
           0,
           0,
           0,
           0,
           0,
           0,
           0,
           0,
           0,
           0,
           0,
           0,
           0,
           0,
           0,
           0,
           0,
           0,
           0,
           0,
           0,
           0,
           0,
           0,
           0,
           0,
           0,
           0,
           0,
           0,
           0,
           0,
           0,
           0,
           0,
           0,
           0,
           0,
           0,
           0,
           0,
           0,
           0,
           0,
           0,
           0,
           0,
           0,
           0,
           0,
           0,
           0,
           0,
           0,
           0,
           0,
           0,
           0,
           0,
           0,
           0,
           0,
           0,
           0,
           0,
           0,
           0,
           0,
           0,
           0,
           0,
           0,
           0,
           0,
           0,
           0,
           0,
           0,
           0,
           0,
           0,
           0,
           0,
           0,
           0,
           0,
           0,
           0,
           0,
           0,
           0,
           0,
           0,
           0,
           0,
           0,
           0,
           0,
           0,
           0,
           0,
           0,
           0,
           0,
           0,
           0,
           0,
           0,
           0,
           0,
           0,
           0,
           0,
           0,
           0,
           0,
           0,
           0,
           0,
           0,
           0,
           0,
           0,
           0,
           0
          ],
          "coloraxis": "coloraxis",
          "symbol": "circle"
         },
         "mode": "markers",
         "name": "0",
         "scene": "scene",
         "showlegend": true,
         "type": "scatter3d",
         "x": [
          -0.33207784917804595,
          -0.3154301271262345,
          2.3164441746401843,
          -0.37998936417838447,
          -0.23444185473967982,
          -0.30743952648871525,
          -0.28349714605027443,
          -0.22599573329882186,
          -0.33173771504772165,
          -0.3243221457404119,
          -0.3305757996412415,
          -0.33207378836389645,
          -0.332058083152114,
          0.6040711268673196,
          -0.3572429259717214,
          -0.38171624223317724,
          -0.2946487130907698,
          -0.33013823680338333,
          -0.33588916526707935,
          -0.37988415689811605,
          -0.1685938322301008,
          -0.04829457662839666,
          -0.27077611369025345,
          -0.3078867491822205,
          -0.2655736443945468,
          -0.2661952824751442,
          -0.3306847515192385,
          -0.326384738760629,
          -0.33048091973775734,
          0.025735050690436766,
          -0.3557575267976463,
          -0.3802554191201005,
          -0.25755132077970355,
          -0.32786548378845926,
          -0.3801671256680459,
          -0.30733038121108364,
          -0.3307563175354111,
          -0.31724629318710096,
          -0.38013164068948113,
          -0.25801877228634273,
          -0.2659763469463807,
          -0.32318771040711347,
          -0.13755557457139683,
          -0.3846329689267954,
          -0.3066518991526918,
          -0.3566650258233155,
          -0.3078670496846554,
          -0.2662705830358302,
          -0.3025252800982188,
          -0.33205993416746865,
          -0.2662228151933064,
          -0.3562019348035992,
          -0.33179453114443513,
          -0.3802369649655745,
          -0.4052709585602106,
          -0.3218880409021325,
          -0.30626991205439563,
          -0.2657448347113057,
          -0.3000016973519852,
          -0.22843539808060356,
          -0.05493359999899866,
          -0.3074104671282762,
          -0.05796338157755259,
          -0.3074741193978899,
          -0.22047920463356446,
          -0.331670494183123,
          -0.3061389060798668,
          -0.37740822102574656,
          0.8443555274380394,
          -0.3072743239938345,
          -0.12608099743105755,
          -0.38139977830146493,
          -0.3780818345296295,
          -0.3060187627541138,
          -0.30368870926146746,
          -0.3417263602827547,
          -0.37897312155352386,
          -0.37159548875081655,
          -0.3079859311953925,
          -0.3317085536143645,
          -0.33014891044175815,
          -0.24102348101350912,
          -0.343703309362416,
          -0.3797112829952596,
          -0.33091344567491376,
          -0.30745507406240663,
          -0.380226162242548,
          -0.33189757504531175,
          -0.33205417255749664,
          -0.3061288055944915,
          -0.24458465768222545,
          0.07154954303965938,
          -0.3803577383155393,
          -0.3316686835404078,
          -0.366399138007918,
          -0.37968704154349464,
          -0.2424530501145594,
          -0.4117877029695137,
          -0.379435844612843,
          -0.24270535060096984,
          3.739951305076432,
          -0.37981904119600446,
          0.8649059735189363,
          -0.3801811122258234,
          -0.3808210964375335,
          -0.33159625082146416,
          -0.331750430416581,
          -0.38139977830146493,
          -0.37975632898981765,
          -0.30731787445324926,
          -0.3315969937668801,
          -0.36585188258132895,
          -0.33174425616568093,
          -0.32733546591311113,
          -0.38021007787488303,
          -0.3309555209880474,
          0.33483982495813164,
          -0.3319433704204398,
          -0.33201389042289914,
          -0.3737979466997609,
          -0.33620445021231987,
          -0.32824342125355416,
          -0.3074315094052759,
          -0.38012010592380713,
          -0.3317918824647805,
          -0.3319187163589252,
          -0.3077735684865016,
          -0.3243777148915306,
          -0.24222110039079403,
          -0.3127884545238112,
          -0.3075149655923841,
          -0.37938639826020143,
          -0.38934314403121945,
          -0.37812591283235225,
          -0.3796478146599566,
          -0.3792843772006646,
          -0.374052459030456,
          -0.37522852769558984,
          -0.3318620559599009,
          -0.33186123634394415,
          -0.3249879112890687,
          0.24878280725581026,
          -0.37976250080763435,
          -0.2904288862535927,
          -0.3814340270518118,
          -0.3310733515508542,
          0.9050244855849215,
          -0.28218849664900664,
          -0.3703748679151783,
          0.5824926986980142,
          -0.34326071196779023,
          -0.34176416082374717,
          -0.39835066359413657,
          -0.26590817034157227,
          0.13251238918801658,
          -0.26597889325333296,
          -0.3790281392702992,
          -0.39785600350618155,
          -0.3800346777397559,
          -0.3078477551364643,
          4.502843663367425,
          -0.38130037992787486,
          -0.3314975491325967,
          -0.33199683452724627,
          -0.2924575779868546,
          0.6071197299486311,
          -0.37997553531948586,
          -0.32568802877027114,
          -0.33195247433080816,
          -0.3347061818992416,
          0.4364930245537233,
          -0.3057791870483242,
          -0.32803987351467984,
          -0.3873123005807997,
          -0.331902851289003,
          -0.3961199590847851,
          -0.379726004284635,
          -0.3317733782503384,
          -0.11012754471605087,
          -0.37876913297370723,
          3.7448033831429397,
          0.21576013209429007,
          -0.2626525333700719,
          -0.3292357083406503,
          -0.31914544030688996,
          -0.3736839482234694,
          0.08206155497330213,
          -0.33091251108393105,
          -0.37934987221371885,
          -0.37284931135987726,
          -0.31848863431759555,
          -0.33201894598873727,
          -0.3561738886514949,
          -0.37187715838322516,
          -0.2887761415998438,
          -0.3053255308826956,
          -0.32756796997397425,
          -0.23402328001737696,
          -0.3628366702157064,
          -0.3800518851291436,
          -0.2808176398459987,
          -0.3070083596289501,
          -0.34621349011846986,
          -0.3428599841017447,
          -0.33204627699775285,
          -0.3320280019636644,
          -0.3013944159366759,
          -0.37427935257271844,
          -0.38089517266637285,
          -0.33174473785058245,
          3.940765813480847,
          -0.39478921077753076,
          -0.3810836796638959,
          -0.33793549974751896,
          -0.278656259622344,
          -0.2226025441637647,
          -0.3075422335991888,
          -0.1353260162514647,
          -0.3077940344008658,
          -0.30797094927457463,
          -0.33121917574446136,
          -0.2039006576274875,
          2.2208729532735303,
          -0.36939493265879486,
          -0.2823162471492577,
          1.0155469060442872,
          -0.3611516079319715,
          -0.3737973744253964,
          -0.397802838403701,
          -0.1886109829370766,
          -0.3585134923298089,
          -0.3725179714115251,
          -0.3249280576357077,
          -0.3557516360559766,
          -0.37952566996354353,
          -0.30504173595512984,
          -0.3801841178075956,
          -0.3162278028011428,
          -0.3556130769510384,
          -0.1916314707960549,
          -0.17134853922804155,
          -0.2569317532303634,
          0.5915693351549345,
          -0.14631969335100578,
          -0.3970980458019574,
          -0.29626220783150603,
          -0.33174872117483134,
          -0.39755379535150037,
          -0.37391425453725924,
          0.5740381157027913,
          -0.35622815559096793,
          -0.33123202589750894,
          -0.2752777181652934,
          -0.26272525429044985,
          -0.3770920168928873,
          -0.37975272659286424,
          3.75703455407174,
          0.10283199562016432,
          -0.3772946878844882,
          -0.33061790990938095,
          -0.3314423604570234,
          -0.2835297332495935,
          -0.33196029580319103,
          -0.371387582463796,
          -0.24572718355475204,
          -0.08730079107386342,
          -0.3671391207717374,
          -0.33123925887670475,
          -0.32430940680314785,
          -0.37632423840999274,
          -0.32967967326137515,
          -0.3816751712450446,
          -0.37059649588215904,
          -0.30595583623197314,
          3.7403428096343365,
          -0.11523932034015667,
          -0.326876830292959,
          -0.3303108708117781,
          -0.26637770605090655,
          3.7502014755520663,
          3.7514444623993137,
          -0.26444270830907907,
          -0.3816110974914851,
          -0.3913686042691996,
          2.4773951075826712,
          -0.33012464923544754,
          -0.30819020146211973
         ],
         "y": [
          1.024716886252845,
          1.0250557423732705,
          1.6864862708206807,
          1.2030851342737094,
          1.402459083443666,
          0.8237793537074923,
          0.7275737751808774,
          1.8154766924059507,
          1.0247197483233457,
          1.0250453757542621,
          1.0247805049417498,
          1.0247167140549274,
          1.0247170350215382,
          0.5619968295924862,
          0.9028727559639529,
          1.8126776250546055,
          0.3694752917435676,
          1.0247164247211158,
          1.1077419369718378,
          1.2030895902826715,
          0.7551327167988114,
          0.9395102164226301,
          0.8236818842566235,
          0.9285041629814227,
          1.7934063637248503,
          1.793380034512184,
          0.4449455250337441,
          1.0246688699965223,
          1.0247170562510326,
          1.0398718972590872,
          1.106900421092427,
          1.2030890106607512,
          0.1887285260827312,
          1.6947711868044868,
          1.2030858665631041,
          1.0246635478646369,
          1.024704015012717,
          0.37024732023808204,
          1.2030904675017782,
          0.1887775715473922,
          1.7933893074320342,
          1.0244049825581047,
          1.0445719468246957,
          1.9143503790425642,
          0.8237810450045493,
          0.9029002480500867,
          0.9285161363320938,
          1.7933685838888458,
          0.9283981638203543,
          1.0247176450642965,
          1.793371983958635,
          1.1068678295487935,
          1.024715117260512,
          1.203089792966945,
          1.9141788824243013,
          0.8217972648831239,
          0.928514938235738,
          1.7933646909470935,
          0.8234210837536937,
          1.8155962114169273,
          0.8277765258585287,
          0.8237805845041648,
          1.1984614239917244,
          0.8237858056194761,
          1.515390433803174,
          1.0247052250747521,
          0.9284371492556578,
          1.2029452415772786,
          0.9091622965972946,
          0.8237739588370051,
          0.5571308027114282,
          1.812677259913575,
          1.2031294394579792,
          0.8237013420791294,
          0.8235919317699314,
          1.5101931030895448,
          1.2030476291109011,
          1.7583629415782798,
          1.0243604056418463,
          1.0247020067201922,
          1.0247297414780718,
          1.697082299043178,
          1.1069586660636115,
          1.2030776359142061,
          1.0247042443353211,
          0.8237793836384327,
          1.203088185186472,
          1.0247100644388387,
          1.0247178890948014,
          0.9285897589104788,
          0.31564146968985896,
          1.7870375698805845,
          1.8126842192149182,
          1.0247342163157809,
          1.2026432255839175,
          1.8127360333758291,
          1.6971577174141463,
          1.9141513755962405,
          1.812566989355549,
          1.7823288302512856,
          1.6074026044895924,
          1.2030868406964148,
          1.8407021646806676,
          1.203089505794741,
          1.8126811164827643,
          1.0247107516286336,
          1.0247018394100766,
          1.812677259913575,
          1.2030688435933918,
          0.8237858831103924,
          1.0247145341286032,
          0.7457323120060296,
          1.0247117391018217,
          1.0244698065071625,
          1.2030874895494932,
          1.0246652864009689,
          0.9333530835204876,
          1.0247136323292074,
          1.0247173124997637,
          1.5977320753196875,
          0.5275461619686569,
          1.0245350709643422,
          0.8237803817093174,
          1.2030883027974304,
          1.0247152294441957,
          1.0247085264622517,
          0.9284822313935694,
          0.45590091796028775,
          1.6971592632205965,
          1.0248454385537533,
          0.9285073481161996,
          1.2030569741812114,
          1.9356755423048977,
          1.2031034770804556,
          1.8126893041545202,
          1.2030612952391662,
          1.8127268445991525,
          1.2029577023087752,
          1.0247114228014294,
          1.0247063713918196,
          1.024328735826538,
          0.698493739806119,
          1.2030823510230153,
          0.9278778387892543,
          1.8126689249053813,
          1.0246871449652175,
          1.801661765973797,
          0.7275000616731941,
          1.7583688590730144,
          1.8716804374101659,
          1.5101831916232147,
          1.5101708488124872,
          1.856135502999023,
          1.7933715417712566,
          1.0099723195971746,
          1.7933761892836015,
          1.6066133958484252,
          1.8561564541136018,
          1.2030918155531534,
          0.9285049706027668,
          1.0999183045672518,
          1.8126528307375425,
          1.0247082459501382,
          1.0247174261671272,
          1.4024177194886933,
          1.7520527710388825,
          1.2030822777804882,
          0.4448843778088768,
          1.0247113649965534,
          0.8269757041888006,
          1.0400583311198932,
          0.8237959782142676,
          1.5100086180270154,
          1.791021639887848,
          1.024709840965814,
          1.693885462314999,
          1.7690490958745222,
          1.02471960115043,
          0.7287293999209828,
          1.2030528267506027,
          1.6073499465192271,
          1.5132139112169318,
          1.7933855133616405,
          1.024692691170346,
          1.4139661991167023,
          1.597733461467384,
          1.007835496283592,
          1.0246629774166078,
          1.2030929433119095,
          1.5976999679800756,
          1.0246728540697396,
          1.0247166273340595,
          1.1068683289897487,
          1.7583568633371185,
          -0.026004096493420337,
          0.25715239855611466,
          1.0247481817915014,
          1.6969657245066623,
          0.888459990625153,
          1.2030804209006754,
          1.4554424717290722,
          0.9284671390061944,
          1.6613982665841294,
          1.5101726266104596,
          1.0247161581826818,
          1.0247155553304346,
          0.9284460610839476,
          1.759205801661679,
          1.8126518182308797,
          1.0247103418168353,
          1.6358353254434734,
          1.6939418255853345,
          1.8126493416320606,
          0.7763725457108446,
          1.023453369772909,
          1.0741711246288044,
          0.9285119942926404,
          1.0260281197718324,
          0.9284889374274643,
          1.784663133324322,
          1.0246954259204395,
          1.7193653267326945,
          0.5051768523403457,
          1.5974814025903428,
          0.7275633724813316,
          1.6237967264289328,
          0.8725895767607652,
          1.59772796890783,
          1.6939483268673732,
          0.9219462794276919,
          0.9231739231547276,
          1.597727770574919,
          1.024331270902199,
          1.1068628062979133,
          1.2030854974740721,
          0.9284568064300331,
          1.8125979447633498,
          0.7715958408742967,
          1.1068376950318308,
          1.018273481161977,
          0.9740138287014684,
          1.3592348446518268,
          1.182010262083167,
          1.1157710701554413,
          1.693944548364556,
          -0.04986709542792801,
          1.0247163690802925,
          1.6939493159658603,
          1.5977282713114127,
          1.011599596688259,
          1.1068669255111738,
          1.024694881657752,
          1.455374198366694,
          1.783206130807389,
          1.2029338503651361,
          1.2030896494228163,
          1.6075237716285606,
          1.019041845062563,
          1.2032144118431194,
          1.0246410330364757,
          1.0247064499566951,
          0.7275665432095321,
          1.0247218652042218,
          1.2031203838866964,
          1.0211455934543507,
          0.8329875766477693,
          1.2029561047908537,
          1.0247420777863872,
          1.0247705386203774,
          1.203112318935102,
          1.0247083093134595,
          1.8126731686231496,
          0.6235333548285875,
          0.8237850541057422,
          1.6073951472130203,
          0.9297843007178317,
          1.0247306406778307,
          0.44492253375410123,
          1.7933722254273425,
          1.6079228012515288,
          1.6079754474230938,
          0.7277009814756488,
          1.81267613431262,
          2.192290219398922,
          0.7114304096145345,
          1.0246275027937177,
          0.9285017609362843
         ],
         "z": [
          -0.5408949903252562,
          -0.541297710327321,
          -0.6568533543227024,
          -0.5075361256413777,
          0.009562188416359496,
          -0.3477634297563826,
          -0.005393104232244012,
          -0.6738458928378721,
          -0.5409028168128482,
          -0.5410994786883624,
          -0.5409345936534942,
          -0.5408950633577597,
          -0.5408954434058205,
          -0.1976884562146768,
          -0.40145438779036813,
          -0.017158196561597002,
          -0.22498148469738802,
          -0.5409379612653049,
          -0.16569813597854832,
          -0.5075388995566534,
          -0.9414327631491665,
          -0.20537503273182509,
          -0.34856690985338085,
          -0.19852947437111343,
          -0.610162434729782,
          -0.6101460445012501,
          -0.33701906649972224,
          -0.5410165035784622,
          -0.540930423718018,
          -0.5503291536839001,
          -0.16517428295826836,
          -0.5075306084143265,
          0.09556688501398136,
          -0.20988725902144378,
          -0.5075322556733091,
          -0.5414385634197277,
          -0.540923026372783,
          -0.2568569854235773,
          -0.5075334976240535,
          0.09557240221842712,
          -0.6101518169972769,
          -0.5410613123134771,
          0.08845803922126673,
          -0.009196228903648759,
          -0.3477810649421336,
          -0.4014699229939729,
          -0.19853109525953633,
          -0.6101432421868979,
          -0.1986378988212262,
          -0.5408954626787092,
          -0.6101446377971984,
          -0.16516120406950555,
          -0.5409010988033003,
          -0.5075310950481713,
          -0.6981559468553855,
          -0.2028164114552288,
          -0.1985663979843896,
          -0.6101545172374543,
          -0.3478929575646559,
          -0.6738036048675196,
          -0.46314002114041647,
          -0.3477641959410378,
          -0.5142207746150688,
          -0.34776330055993215,
          -0.5293671289883918,
          -0.5409028714890415,
          -0.1985616111991589,
          -0.507579536640211,
          -0.22217118183785173,
          -0.3477665601289108,
          -0.1810140157170713,
          -0.017165178967872893,
          -0.5075828118459111,
          -0.3477872251060741,
          -0.34782808173253116,
          -0.5261641763516992,
          -0.5075549550664783,
          0.023914208099323802,
          -0.5413940482179112,
          -0.5409017091602216,
          -0.5409390413843912,
          -0.2677938719716029,
          -0.16544738009693338,
          -0.5075415514238529,
          -0.5409195642733419,
          -0.34776308790319455,
          -0.5075311756434913,
          -0.5408983138509871,
          -0.54089561459042,
          -0.1985769261356867,
          -0.35131961507333914,
          -0.7622811997726789,
          -0.017188977429300898,
          -0.5409057784675757,
          -0.5077938301696642,
          -0.017208975777490306,
          -0.2677696249008011,
          -0.6658597362967532,
          -0.017197830750147403,
          -0.7548460506009157,
          0.027807275137574056,
          -0.5075400717927988,
          -0.6399110110125207,
          -0.5075323053488247,
          -0.017178394291164016,
          -0.5409050645505291,
          -0.540900763875021,
          -0.017165178967872893,
          -0.5075396829614061,
          -0.3477667734114452,
          -0.5409054221090993,
          -0.3265494548892699,
          -0.5409018797460953,
          -0.5409757338688023,
          -0.5075314635727777,
          -0.5409147787434401,
          -0.21326330594517157,
          -0.5408976510182784,
          -0.5408964509475401,
          -0.09053151050240767,
          -0.30808059132141036,
          -0.54096205103124,
          -0.3477637092134517,
          -0.5075335393826949,
          -0.5409011686388949,
          -0.5408976928964523,
          -0.1985298157614243,
          -0.22959545236907541,
          -0.26777492192284036,
          -0.5413355010831322,
          -0.19853803472453702,
          -0.5075467135412245,
          -0.7586934819296783,
          -0.5075792669699658,
          -0.017205224891684776,
          -0.5075494034479934,
          -0.017333030489804974,
          -0.5076291099062498,
          -0.5408992359134012,
          -0.5408987545780723,
          -0.541013847872704,
          -0.01432236671298515,
          -0.5075408817763545,
          -0.1988547189841819,
          -0.01716359518763199,
          -0.5409143270077243,
          -0.6975634749981631,
          -0.0054148381417172264,
          0.023886552104978434,
          -0.5439780462248277,
          -0.5261291675108097,
          -0.5261611373819898,
          -0.6600902251844961,
          -0.6101515722412628,
          -0.5497406097205779,
          -0.6101504633267901,
          -0.0031258202421545612,
          -0.6601032674869876,
          -0.5075357813642879,
          -0.1985304190404475,
          4.777054279934025,
          -0.017164967718848123,
          -0.5409070057732066,
          -0.5408968404520144,
          0.010852947119642952,
          0.08164513759116153,
          -0.5075361498701487,
          -0.33712383685260444,
          -0.5408972249054144,
          0.03566884443603328,
          -0.5594573491407132,
          -0.347801896568755,
          -0.5264494712832135,
          -0.5514746072534775,
          -0.5408981747365367,
          -0.4329326114270824,
          0.02143100364600034,
          -0.5409020113236807,
          -0.00935235724008847,
          -0.5075599930828208,
          0.027704873236928555,
          -0.5388267853629248,
          -0.6102251571078546,
          -0.5409556305631298,
          -0.18376154767474284,
          -0.09053417582246849,
          -0.5484104133760853,
          -0.5409155042881149,
          -0.5075510804496453,
          -0.09054937430626625,
          -0.5411920167638185,
          -0.5408962710724141,
          -0.16516187546260247,
          0.023921055999258225,
          0.13757783860800718,
          -0.25502384756047924,
          -0.5409981047753839,
          -0.2679375943416574,
          -0.39675842371015196,
          -0.5075342729706918,
          -0.45601797902880953,
          -0.19854529408366567,
          0.07958957314168899,
          -0.5261370100938176,
          -0.5408956185349165,
          -0.5408959642237334,
          -0.19866771540200648,
          -0.05399560513829797,
          -0.017173854252819473,
          -0.5409017308916713,
          -0.02557270243355574,
          -0.43296769819148007,
          -0.01716942865817856,
          0.017800519866322338,
          -0.5419548265197307,
          -0.15130242189861282,
          -0.19853788941761208,
          -0.5453882002258167,
          -0.19853002500146444,
          -0.7536294244483913,
          -0.5409119117985355,
          -0.33144391423993824,
          -0.32737833562913066,
          -0.09060437224546065,
          -0.005418265440912807,
          0.015857369832522707,
          -0.32458704536184607,
          -0.09053111712841973,
          -0.4329015050666397,
          -0.2005262818431649,
          -0.30670374890460395,
          -0.09055947202099619,
          -0.5410154259855768,
          -0.16517069403342746,
          -0.507546445332549,
          -0.19858788797211446,
          -0.01718429665333554,
          -0.5689291347729768,
          -0.16517128383916627,
          -0.5433726383537794,
          0.08770823315891965,
          -0.1136461980162908,
          -0.1798427959064882,
          -0.1706963609335001,
          -0.4329167622642458,
          0.24335307156374839,
          -0.540902238560607,
          -0.4329071261327301,
          -0.09052855487341406,
          -0.559693649051433,
          -0.16516053315034457,
          -0.5409115729889425,
          -0.45613409173334896,
          -0.7544888032384298,
          -0.5075854229627587,
          -0.507541820256309,
          0.027416422401729406,
          -0.5499792074948275,
          -0.507608671688452,
          -0.5409198679433374,
          -0.5409080521452899,
          -0.0053916663764461805,
          -0.5408980897628796,
          -0.507730381002878,
          -0.5424569187984226,
          -0.3535562128045099,
          -0.5078083581995104,
          -0.5409160796036859,
          -0.5410725837200732,
          -0.5076200987052284,
          -0.5409473287548071,
          -0.017158666753101022,
          -0.2638469053677424,
          -0.3477968986170224,
          0.02779932979741216,
          -0.20292858217163098,
          -0.5410116982526635,
          -0.33702508488702726,
          -0.6101412265171061,
          0.027528507543059067,
          0.02749573471410253,
          -0.0058282710322768525,
          -0.017160381040635758,
          -0.03743677787355952,
          0.0057227799012126174,
          -0.5409294694929179,
          -0.19852250690084977
         ]
        },
        {
         "customdata": [
          [
           "SHA-256"
          ],
          [
           "Ethash"
          ],
          [
           "Scrypt"
          ],
          [
           "CryptoNight-V7"
          ],
          [
           "Ethash"
          ],
          [
           "Equihash"
          ],
          [
           "Multiple"
          ],
          [
           "Scrypt"
          ],
          [
           "X11"
          ],
          [
           "Scrypt"
          ],
          [
           "Multiple"
          ],
          [
           "Scrypt"
          ],
          [
           "SHA-256"
          ],
          [
           "Scrypt"
          ],
          [
           "Scrypt"
          ],
          [
           "Quark"
          ],
          [
           "Groestl"
          ],
          [
           "Scrypt"
          ],
          [
           "Scrypt"
          ],
          [
           "Scrypt"
          ],
          [
           "X11"
          ],
          [
           "Multiple"
          ],
          [
           "SHA-256"
          ],
          [
           "Scrypt"
          ],
          [
           "Scrypt"
          ],
          [
           "Scrypt"
          ],
          [
           "Scrypt"
          ],
          [
           "Scrypt"
          ],
          [
           "NeoScrypt"
          ],
          [
           "Scrypt"
          ],
          [
           "Scrypt"
          ],
          [
           "Scrypt"
          ],
          [
           "Scrypt"
          ],
          [
           "SHA-256"
          ],
          [
           "Scrypt"
          ],
          [
           "Scrypt"
          ],
          [
           "Scrypt"
          ],
          [
           "Scrypt"
          ],
          [
           "HybridScryptHash256"
          ],
          [
           "Scrypt"
          ],
          [
           "Scrypt"
          ],
          [
           "SHA-256"
          ],
          [
           "Scrypt"
          ],
          [
           "Scrypt"
          ],
          [
           "Scrypt"
          ],
          [
           "Scrypt"
          ],
          [
           "SHA-256"
          ],
          [
           "SHA-256"
          ],
          [
           "SHA-256"
          ],
          [
           "SHA-256"
          ],
          [
           "SHA-256"
          ],
          [
           "X11"
          ],
          [
           "Scrypt"
          ],
          [
           "Lyra2REv2"
          ],
          [
           "Scrypt"
          ],
          [
           "SHA-256"
          ],
          [
           "CryptoNight"
          ],
          [
           "CryptoNight"
          ],
          [
           "Scrypt"
          ],
          [
           "Scrypt"
          ],
          [
           "Scrypt"
          ],
          [
           "Scrypt"
          ],
          [
           "Scrypt"
          ],
          [
           "Scrypt"
          ],
          [
           "Stanford Folding"
          ],
          [
           "Multiple"
          ],
          [
           "QuBit"
          ],
          [
           "Scrypt"
          ],
          [
           "Scrypt"
          ],
          [
           "M7 POW"
          ],
          [
           "Scrypt"
          ],
          [
           "SHA-256"
          ],
          [
           "Scrypt"
          ],
          [
           "SHA3"
          ],
          [
           "X11"
          ],
          [
           "Lyra2RE"
          ],
          [
           "SHA-256"
          ],
          [
           "X11"
          ],
          [
           "Scrypt"
          ],
          [
           "Scrypt"
          ],
          [
           "Ethash"
          ],
          [
           "Blake2b"
          ],
          [
           "X11"
          ],
          [
           "SHA-256"
          ],
          [
           "Scrypt"
          ],
          [
           "1GB AES Pattern Search"
          ],
          [
           "Scrypt"
          ],
          [
           "SHA-256"
          ],
          [
           "X11"
          ],
          [
           "Dagger"
          ],
          [
           "Scrypt"
          ],
          [
           "X11GOST"
          ],
          [
           "Scrypt"
          ],
          [
           "X11"
          ],
          [
           "Scrypt"
          ],
          [
           "X11"
          ],
          [
           "Equihash"
          ],
          [
           "CryptoNight"
          ],
          [
           "SHA-256"
          ],
          [
           "Multiple"
          ],
          [
           "Scrypt"
          ],
          [
           "SHA-256"
          ],
          [
           "Scrypt"
          ],
          [
           "Lyra2Z"
          ],
          [
           "Ethash"
          ],
          [
           "Equihash"
          ],
          [
           "Scrypt"
          ],
          [
           "X11"
          ],
          [
           "X11"
          ],
          [
           "CryptoNight"
          ],
          [
           "Scrypt"
          ],
          [
           "CryptoNight"
          ],
          [
           "Lyra2RE"
          ],
          [
           "X11"
          ],
          [
           "CryptoNight-V7"
          ],
          [
           "Scrypt"
          ],
          [
           "X11"
          ],
          [
           "Equihash"
          ],
          [
           "Scrypt"
          ],
          [
           "Lyra2RE"
          ],
          [
           "Dagger-Hashimoto"
          ],
          [
           "Scrypt"
          ],
          [
           "NIST5"
          ],
          [
           "Scrypt"
          ],
          [
           "SHA-256"
          ],
          [
           "Scrypt"
          ],
          [
           "CryptoNight-V7"
          ],
          [
           "Argon2d"
          ],
          [
           "Blake2b"
          ],
          [
           "Cloverhash"
          ],
          [
           "CryptoNight"
          ],
          [
           "X11"
          ],
          [
           "Scrypt"
          ],
          [
           "Scrypt"
          ],
          [
           "X11"
          ],
          [
           "X11"
          ],
          [
           "CryptoNight"
          ],
          [
           "Time Travel"
          ],
          [
           "Scrypt"
          ],
          [
           "Keccak"
          ],
          [
           "X11"
          ],
          [
           "SHA-256"
          ],
          [
           "Scrypt"
          ],
          [
           "Scrypt"
          ],
          [
           "Scrypt"
          ],
          [
           "Scrypt"
          ],
          [
           "Scrypt"
          ],
          [
           "Scrypt"
          ],
          [
           "CryptoNight"
          ],
          [
           "Equihash"
          ],
          [
           "X11"
          ],
          [
           "NeoScrypt"
          ],
          [
           "Equihash"
          ],
          [
           "Dagger"
          ],
          [
           "Scrypt"
          ],
          [
           "X11"
          ],
          [
           "NeoScrypt"
          ],
          [
           "Ethash"
          ],
          [
           "NeoScrypt"
          ],
          [
           "Multiple"
          ],
          [
           "CryptoNight"
          ],
          [
           "CryptoNight"
          ],
          [
           "Ethash"
          ],
          [
           "X11"
          ],
          [
           "CryptoNight-V7"
          ],
          [
           "Scrypt"
          ],
          [
           "BLAKE256"
          ],
          [
           "X11"
          ],
          [
           "NeoScrypt"
          ],
          [
           "NeoScrypt"
          ],
          [
           "Scrypt"
          ],
          [
           "X11"
          ],
          [
           "SHA-256"
          ],
          [
           "C11"
          ],
          [
           "CryptoNight"
          ],
          [
           "SkunkHash"
          ],
          [
           "CryptoNight"
          ],
          [
           "Scrypt"
          ],
          [
           "Dagger"
          ],
          [
           "Lyra2REv2"
          ],
          [
           "SHA-256 + Hive"
          ],
          [
           "Scrypt"
          ],
          [
           "Scrypt"
          ],
          [
           "X11"
          ],
          [
           "Ethash"
          ],
          [
           "CryptoNight"
          ],
          [
           "Scrypt"
          ],
          [
           "IMesh"
          ],
          [
           "Equihash"
          ],
          [
           "Lyra2Z"
          ],
          [
           "X11"
          ],
          [
           "CryptoNight"
          ],
          [
           "NIST5"
          ],
          [
           "Lyra2RE"
          ],
          [
           "Tribus"
          ],
          [
           "Lyra2Z"
          ],
          [
           "CryptoNight"
          ],
          [
           "CryptoNight Heavy"
          ],
          [
           "CryptoNight"
          ],
          [
           "Jump Consistent Hash"
          ],
          [
           "CryptoNight"
          ],
          [
           "X16R"
          ],
          [
           "HMQ1725"
          ],
          [
           "X11"
          ],
          [
           "Scrypt"
          ],
          [
           "CryptoNight-V7"
          ],
          [
           "Cryptonight-GPU"
          ],
          [
           "XEVAN"
          ],
          [
           "CryptoNight Heavy"
          ],
          [
           "SHA-256"
          ],
          [
           "X11"
          ],
          [
           "X16R"
          ],
          [
           "Equihash"
          ],
          [
           "Lyra2Z"
          ],
          [
           "SHA-256"
          ],
          [
           "CryptoNight"
          ],
          [
           "Blake"
          ],
          [
           "Blake"
          ],
          [
           "Exosis"
          ],
          [
           "Scrypt"
          ],
          [
           "Equihash"
          ],
          [
           "Equihash"
          ],
          [
           "QuBit"
          ],
          [
           "SHA-256"
          ],
          [
           "X13"
          ],
          [
           "SHA-256"
          ],
          [
           "Scrypt"
          ],
          [
           "NeoScrypt"
          ],
          [
           "Blake"
          ],
          [
           "Scrypt"
          ],
          [
           "SHA-256"
          ],
          [
           "Scrypt"
          ],
          [
           "Groestl"
          ],
          [
           "Scrypt"
          ],
          [
           "Scrypt"
          ],
          [
           "Multiple"
          ],
          [
           "Equihash+Scrypt"
          ],
          [
           "Ethash"
          ],
          [
           "CryptoNight"
          ],
          [
           "Equihash"
          ]
         ],
         "hovertemplate": "<b>%{hovertext}</b><br><br>Class=%{marker.color}<br>PC 1=%{x}<br>PC 2=%{y}<br>PC 3=%{z}<br>Algorithm=%{customdata[0]}<extra></extra>",
         "hovertext": [
          "Bitcoin",
          "Ethereum",
          "Litecoin",
          "Monero",
          "Ethereum Classic",
          "ZCash",
          "DigiByte",
          "ProsperCoin",
          "Spreadcoin",
          "Argentum",
          "MyriadCoin",
          "MoonCoin",
          "ZetaCoin",
          "SexCoin",
          "Quatloo",
          "QuarkCoin",
          "Riecoin",
          "Digitalcoin ",
          "Catcoin",
          "CannaCoin",
          "CryptCoin",
          "Verge",
          "DevCoin",
          "EarthCoin",
          "E-Gulden",
          "Einsteinium",
          "Emerald",
          "Franko",
          "FeatherCoin",
          "GrandCoin",
          "GlobalCoin",
          "GoldCoin",
          "Infinite Coin",
          "IXcoin",
          "KrugerCoin",
          "LuckyCoin",
          "Litebar ",
          "MegaCoin",
          "MediterraneanCoin",
          "MinCoin",
          "NobleCoin",
          "Namecoin",
          "NyanCoin",
          "RonPaulCoin",
          "StableCoin",
          "SmartCoin",
          "SysCoin",
          "TigerCoin",
          "TerraCoin",
          "UnbreakableCoin",
          "Unobtanium",
          "UroCoin",
          "ViaCoin",
          "Vertcoin",
          "WorldCoin",
          "JouleCoin",
          "ByteCoin",
          "DigitalNote ",
          "MonaCoin",
          "Gulden",
          "PesetaCoin",
          "Wild Beast Coin",
          "Flo",
          "ArtByte",
          "Folding Coin",
          "Unitus",
          "CypherPunkCoin",
          "OmniCron",
          "GreenCoin",
          "Cryptonite",
          "MasterCoin",
          "SoonCoin",
          "1Credit",
          "Nexus",
          "MarsCoin ",
          "Crypto",
          "Anarchists Prime",
          "BowsCoin",
          "Song Coin",
          "BitZeny",
          "Expanse",
          "Siacoin",
          "MindCoin",
          "I0coin",
          "Revolution VR",
          "HOdlcoin",
          "Gamecredits",
          "CarpeDiemCoin",
          "Adzcoin",
          "SoilCoin",
          "YoCoin",
          "SibCoin",
          "Francs",
          "BolivarCoin",
          "Omni",
          "PizzaCoin",
          "Komodo",
          "Karbo",
          "ZayedCoin",
          "Circuits of Value",
          "DopeCoin",
          "DollarCoin",
          "Shilling",
          "ZCoin",
          "Elementrem",
          "ZClassic",
          "KiloCoin",
          "ArtexCoin",
          "Kurrent",
          "Cannabis Industry Coin",
          "OsmiumCoin",
          "Bikercoins",
          "HexxCoin",
          "PacCoin",
          "Citadel",
          "BeaverCoin",
          "VaultCoin",
          "Zero",
          "Canada eCoin",
          "Zoin",
          "DubaiCoin",
          "EB3coin",
          "Coinonat",
          "BenjiRolls",
          "ILCoin",
          "EquiTrader",
          "Quantum Resistant Ledger",
          "Dynamic",
          "Nano",
          "ChanCoin",
          "Dinastycoin",
          "DigitalPrice",
          "Unify",
          "SocialCoin",
          "ArcticCoin",
          "DAS",
          "LeviarCoin",
          "Bitcore",
          "gCn Coin",
          "SmartCash",
          "Onix",
          "Bitcoin Cash",
          "Sojourn Coin",
          "NewYorkCoin",
          "FrazCoin",
          "Kronecoin",
          "AdCoin",
          "Linx",
          "Sumokoin",
          "BitcoinZ",
          "Elements",
          "VIVO Coin",
          "Bitcoin Gold",
          "Pirl",
          "eBoost",
          "Pura",
          "Innova",
          "Ellaism",
          "GoByte",
          "SHIELD",
          "UltraNote",
          "BitCoal",
          "DaxxCoin",
          "AC3",
          "Lethean",
          "PopularCoin",
          "Photon",
          "Sucre",
          "SparksPay",
          "GunCoin",
          "IrishCoin",
          "Pioneer Coin",
          "UnitedBitcoin",
          "Interzone",
          "TurtleCoin",
          "MUNcoin",
          "Niobio Cash",
          "ShareChain",
          "Travelflex",
          "KREDS",
          "LitecoinCash",
          "BitFlip",
          "LottoCoin",
          "Crypto Improvement Fund",
          "Callisto Network",
          "BitTube",
          "Poseidon",
          "Aidos Kuneen",
          "Bitrolium",
          "Alpenschillling",
          "FuturoCoin",
          "Monero Classic",
          "Jumpcoin",
          "Infinex",
          "KEYCO",
          "GINcoin",
          "PlatinCoin",
          "Loki",
          "Newton Coin",
          "MassGrid",
          "PluraCoin",
          "Motion",
          "PlusOneCoin",
          "Axe",
          "HexCoin",
          "Webchain",
          "Ryo",
          "Urals Coin",
          "Qwertycoin",
          "Project Pai",
          "Azart",
          "Xchange",
          "CrypticCoin",
          "Actinium",
          "Bitcoin SV",
          "FREDEnergy",
          "Universal Molecule",
          "Lithium",
          "Exosis",
          "Block-Logic",
          "Beam",
          "Bithereum",
          "SLICE",
          "BLAST",
          "Bitcoin Rhodium",
          "GlobalToken",
          "SolarCoin",
          "UFO Coin",
          "BlakeCoin",
          "Crypto Escudo",
          "Crown Coin",
          "SmileyCoin",
          "Groestlcoin",
          "Bata",
          "Pakcoin",
          "JoinCoin",
          "Vollar",
          "Reality Clash",
          "Beldex",
          "Horizen"
         ],
         "legendgroup": "3",
         "marker": {
          "color": [
           3,
           3,
           3,
           3,
           3,
           3,
           3,
           3,
           3,
           3,
           3,
           3,
           3,
           3,
           3,
           3,
           3,
           3,
           3,
           3,
           3,
           3,
           3,
           3,
           3,
           3,
           3,
           3,
           3,
           3,
           3,
           3,
           3,
           3,
           3,
           3,
           3,
           3,
           3,
           3,
           3,
           3,
           3,
           3,
           3,
           3,
           3,
           3,
           3,
           3,
           3,
           3,
           3,
           3,
           3,
           3,
           3,
           3,
           3,
           3,
           3,
           3,
           3,
           3,
           3,
           3,
           3,
           3,
           3,
           3,
           3,
           3,
           3,
           3,
           3,
           3,
           3,
           3,
           3,
           3,
           3,
           3,
           3,
           3,
           3,
           3,
           3,
           3,
           3,
           3,
           3,
           3,
           3,
           3,
           3,
           3,
           3,
           3,
           3,
           3,
           3,
           3,
           3,
           3,
           3,
           3,
           3,
           3,
           3,
           3,
           3,
           3,
           3,
           3,
           3,
           3,
           3,
           3,
           3,
           3,
           3,
           3,
           3,
           3,
           3,
           3,
           3,
           3,
           3,
           3,
           3,
           3,
           3,
           3,
           3,
           3,
           3,
           3,
           3,
           3,
           3,
           3,
           3,
           3,
           3,
           3,
           3,
           3,
           3,
           3,
           3,
           3,
           3,
           3,
           3,
           3,
           3,
           3,
           3,
           3,
           3,
           3,
           3,
           3,
           3,
           3,
           3,
           3,
           3,
           3,
           3,
           3,
           3,
           3,
           3,
           3,
           3,
           3,
           3,
           3,
           3,
           3,
           3,
           3,
           3,
           3,
           3,
           3,
           3,
           3,
           3,
           3,
           3,
           3,
           3,
           3,
           3,
           3,
           3,
           3,
           3,
           3,
           3,
           3,
           3,
           3,
           3,
           3,
           3,
           3,
           3,
           3,
           3,
           3,
           3,
           3,
           3,
           3,
           3,
           3,
           3,
           3,
           3,
           3,
           3,
           3,
           3,
           3,
           3,
           3,
           3,
           3,
           3,
           3,
           3,
           3,
           3,
           3,
           3,
           3
          ],
          "coloraxis": "coloraxis",
          "symbol": "diamond"
         },
         "mode": "markers",
         "name": "3",
         "scene": "scene",
         "showlegend": true,
         "type": "scatter3d",
         "x": [
          -0.15180303044948007,
          -0.15593150471845735,
          -0.17527287857809726,
          -0.1519692439564091,
          -0.15437462676247843,
          -0.1653701152922938,
          0.16030201454249676,
          -0.1764181840276096,
          -0.22453717515417213,
          -0.1760350059711587,
          -0.09290406705887103,
          2.5435556440735843,
          -0.14889035830652508,
          -0.17329259459579896,
          -0.17583916043869974,
          -0.23755333006847426,
          -0.20067397591637284,
          -0.1758879596066067,
          -0.17640046586803035,
          -0.17648685494756236,
          -0.2246264405555501,
          0.18402391207815624,
          0.22573538770689788,
          0.07204013137699547,
          -0.17623336538460405,
          -0.17184221548529857,
          -0.1761726980974294,
          -0.1765438096920925,
          -0.17038317514050405,
          -0.1557827345004518,
          -0.17533990921854903,
          -0.1756171062396872,
          1.5709300422562498,
          -0.15176443434644626,
          -0.17290864932872252,
          -0.17625978477561288,
          -0.17661430771535422,
          -0.17587416241680462,
          -0.16620269789428938,
          -0.17649566810553027,
          -0.04150064806025855,
          -0.15184197564374002,
          -0.17016478397077833,
          -0.17647511261963117,
          -0.17457083121081818,
          -0.175962271751437,
          -0.13900431821061007,
          -0.1513061861333679,
          -0.15159314175554608,
          -0.15157608923669988,
          -0.15216637900591137,
          -0.22480020472068418,
          -0.17619185221407338,
          -0.20238797967223737,
          -0.17329728299593689,
          -0.15137342365865952,
          3.853635896086713,
          0.455397299627469,
          -0.1750603430364586,
          -0.15967080277315,
          -0.17378021899037488,
          -0.17661651328613906,
          -0.17364538761908047,
          -0.15988015351721047,
          -0.12320982346933583,
          -0.12688308238837254,
          -0.18161366061613665,
          -0.1764897031187198,
          -0.049527203624284574,
          -0.13099183712987775,
          -0.1766254006769718,
          -0.1518697284009223,
          0.47507663123665417,
          0.1545305136432955,
          -0.22418789167932743,
          -0.15704187397062241,
          -0.1516097773589764,
          -0.22447255304725308,
          -0.1747505666611582,
          -0.17394347377103878,
          -0.15699798802761042,
          0.35248075632609294,
          -0.22450792514390386,
          -0.15176555569724795,
          -0.17258657698557436,
          -0.16087174427873138,
          -0.17518991913892673,
          0.26637493874700363,
          -0.22366930165187504,
          -0.16496007089892267,
          -0.1754370086654129,
          -0.15967469008075175,
          -0.17641547293059448,
          -0.22447118899982266,
          -0.17662545912384006,
          -0.22462102646880305,
          -0.30240201124427313,
          0.30042648963001656,
          -0.15202542441830538,
          -0.10697166402485044,
          -0.17379442146131754,
          -0.1519840897082461,
          -0.1762891188978216,
          -0.15301548975580234,
          -0.15674036190538815,
          -0.16539171310619333,
          -0.10340306426592921,
          -0.21121564158999612,
          -0.22245083414612427,
          0.3004208734637659,
          -0.17660721038885527,
          0.300551478495154,
          -0.15758191319803286,
          0.49012281799961244,
          -0.15073479721782598,
          -0.17657552487738912,
          -0.21736023217764483,
          -0.16540408230983053,
          -0.17471032177578197,
          -0.1573005290654946,
          -0.15633653155378338,
          -0.1475196781763851,
          -0.1874765958521015,
          -0.1761382482122316,
          -0.11837716683077244,
          -0.17596042227050604,
          -0.15059276754755546,
          -0.1456097687486591,
          -0.04746559833248958,
          -0.16139060852741857,
          0.3365134048997909,
          -0.22367766617112908,
          -0.17627947055353085,
          -0.17604298675366575,
          -0.22407204883056225,
          -0.22464904232464977,
          0.30081555397184484,
          -0.14562127667069277,
          3.2303085354949346,
          -0.10066506722990597,
          -0.21552783740630566,
          -0.15180219541043619,
          -0.10225115057149124,
          1.5688390728354753,
          -0.1763772300522497,
          -0.17582927503823165,
          -0.17553049482121924,
          -0.17551743737541525,
          0.3009990473059846,
          0.04676148773998373,
          -0.17907417015213298,
          -0.1750681555141988,
          -0.16525026518239053,
          -0.16372010130714187,
          -0.17470853252402355,
          -0.220196990442746,
          -0.17491368082912204,
          -0.15510667825610022,
          -0.1750138144982375,
          -0.1171227038514479,
          1.1377316466466658,
          0.3004036470693628,
          -0.08004971607965283,
          -0.2199385266121634,
          -0.1397133244717929,
          -0.09283287605182104,
          1.1050381385025247,
          -0.22462306285788614,
          -0.17506572437547485,
          -0.1681091473228234,
          -0.1756288384672499,
          -0.22454853238128608,
          -0.15178161225679113,
          -0.20736212793041092,
          8.032697516372865,
          -0.14889511138932873,
          0.30427506368175133,
          0.016256604610759614,
          -0.16322383414577207,
          -0.1879575169782075,
          -0.12427982101400556,
          -0.17620208498163373,
          0.13062561430775388,
          -0.21869401674665884,
          -0.108178668895522,
          0.30832105386970454,
          -0.17643891026203964,
          -0.16590673245414023,
          -0.16424218814154137,
          -0.15080060205521684,
          -0.2237184023947087,
          0.3005860114706108,
          -0.18753604070870528,
          -0.15742726760400752,
          -0.16784211530537813,
          -0.15309980575717205,
          0.3045115082521283,
          0.5863609735492661,
          2.1077087062147863,
          -0.1446005488596038,
          0.3141801724641834,
          -0.20649096027330224,
          -0.13531647831398644,
          -0.22460523732698515,
          -0.1764634688116418,
          -0.1395923156240482,
          -0.16752303813363453,
          -0.12413969694393338,
          3.106921247861257,
          -0.11166287173051627,
          -0.22457662307802373,
          -0.20591908802680273,
          -0.060079931550267786,
          -0.1524979957611331,
          -0.15180223294253153,
          0.3802860177605175,
          -0.14925964839490458,
          -0.1496514302640661,
          -0.1720104290281064,
          -0.17535662000627647,
          -0.16331177194930271,
          -0.16508321938864295,
          -0.18082520238461894,
          -0.15107896117008857,
          -0.11091061429714205,
          -0.14994776754093467,
          0.5189651565041574,
          -0.10029250271694902,
          -0.10015163091505816,
          -0.16003060595722027,
          -0.1515925127654034,
          0.5386435891951309,
          -0.20023533797628945,
          -0.17654026158136463,
          -0.17449755412555257,
          -0.1276173117485001,
          -0.12016008026096266,
          -0.15677349327342133,
          0.3221432865728861,
          -0.1653711713020485
         ],
         "y": [
          -1.3017266129941767,
          -2.055248789160096,
          -1.1007981077298858,
          -2.249666580274918,
          -2.0553274210262535,
          -2.079137772085028,
          -1.8428342919118659,
          -1.1008032448199438,
          -0.9224279502303362,
          -1.1008166184724575,
          -1.8404783336508403,
          -1.2499470883585497,
          -1.3017056851121995,
          -1.100828514981032,
          -1.1008331074211841,
          -0.43152944507111174,
          -1.2226492192212992,
          -1.100799489601019,
          -1.1008024943749395,
          -1.100800742195245,
          -0.922430354144463,
          -1.838769437753748,
          -1.300178954944294,
          -1.0995594059600085,
          -1.100795416906068,
          -1.1008013640048362,
          -1.1008004202281654,
          -1.1008018435671094,
          -1.6805922636358863,
          -1.100892788902694,
          -1.100791308599727,
          -1.1008045951935057,
          -1.0891534267981802,
          -1.301724978272889,
          -1.1008228694669195,
          -1.1007958474462596,
          -1.1007980236744064,
          -1.1007946602953829,
          -2.1915497644482547,
          -1.1007989537657623,
          -1.1054010392529057,
          -1.3017282625010762,
          -1.1007559323408842,
          -1.1008056560058943,
          -1.1008826541413008,
          -1.1008047257920115,
          -1.301781408027026,
          -1.3017234770914234,
          -1.3017321805251327,
          -1.3017576190582323,
          -1.3017277172999104,
          -0.9224253218998244,
          -1.1007950355170744,
          -1.2023337058148282,
          -1.1008393298781987,
          -1.3017249397850934,
          -2.257537901098605,
          -2.281358166364282,
          -1.1008036457677548,
          -1.1012360415189202,
          -1.1007916047362805,
          -1.100798996918918,
          -1.100781497622936,
          -1.100776768113021,
          -2.274194816203312,
          -1.8405406167527665,
          -1.5979505101795966,
          -1.1007941376731951,
          -1.102298791974408,
          -2.1114013150277846,
          -1.1007979905901908,
          -1.3017294379571314,
          -1.1365316435614228,
          -0.7506464700209067,
          -0.922422106221773,
          -2.2705181197346036,
          -1.3017409811935086,
          -0.9224259016305971,
          -1.100862894316149,
          -1.100856082687644,
          -2.0553055986694138,
          -2.1026045909278888,
          -0.9224239575919116,
          -1.301725025767218,
          -1.1007710742411911,
          -2.146458156163304,
          -1.1007945940186374,
          -1.2988888415733826,
          -0.9224352520924067,
          -2.1905716127725428,
          -1.1008631303425636,
          -2.2342274386523413,
          -1.1008024415508846,
          -0.9224285976238175,
          -1.100797990979704,
          -0.9224349439251612,
          -1.6316620451496686,
          -2.281044355416936,
          -1.3017282777872845,
          -1.8405234072780015,
          -1.1008153475556228,
          -1.3017271482530592,
          -1.1008039742975,
          -2.217960671400245,
          -2.055301088943441,
          -2.079138686851117,
          -1.1045806808044014,
          -0.92219417444777,
          -0.9224827800339573,
          -2.2810521661461025,
          -1.1007986623015995,
          -2.2810493881932143,
          -2.2705025853186727,
          -0.9609892372813655,
          -2.249741657533279,
          -1.1007977648118874,
          -0.9227986467883081,
          -2.079136456976538,
          -1.1007852959467115,
          -2.270498240274711,
          -2.1960362181067468,
          -1.1023185706590843,
          -0.6153435454080207,
          -1.100801384708357,
          -1.302017521975853,
          -1.100818967045721,
          -2.249680566590666,
          -2.3357240867450115,
          -2.119778410778619,
          -2.1895625139937804,
          -2.2808859087054487,
          -0.9224466214354535,
          -1.1007961833478406,
          -1.1008245293539236,
          -0.9224357876742095,
          -0.9224319310301842,
          -2.2810581682000897,
          -2.246070041466062,
          -1.0941866903821,
          -1.354562903160126,
          -0.9227898806699669,
          -1.30172657762646,
          -1.1048761128545204,
          -1.0268691695096048,
          -1.1008008217902734,
          -1.1008216736618703,
          -1.1008200340221457,
          -1.1008194809796632,
          -2.2810744153849947,
          -2.0845958483165314,
          -0.9217278105238399,
          -1.6805779654680475,
          -2.079132695885339,
          -2.190606049219237,
          -1.1007852201637254,
          -0.9224713093456898,
          -1.6805838147102903,
          -2.055406617671448,
          -1.6805789683979975,
          -1.8405815916634722,
          -2.304091318163371,
          -2.281047044008024,
          -2.0589192658972517,
          -0.9225980505647106,
          -2.249835570862762,
          -1.1006907764670053,
          -1.3171372405529556,
          -0.9224314502786232,
          -1.6805737318479244,
          -1.6806088526102048,
          -1.1007994154230911,
          -0.9224304965859353,
          -1.3017251316754785,
          -1.2370560432873412,
          -2.6419821833333237,
          -2.1697473085515857,
          -2.2811057827227907,
          -1.0995125471623872,
          -2.190546266134114,
          -1.2024219665768134,
          -0.9837799313530654,
          -1.1008071724306867,
          -1.1004562127276143,
          -0.9225109178006048,
          -2.0577011095529354,
          -2.2813915418531145,
          -1.1008041226706593,
          -2.161365018635974,
          -2.0791237328613046,
          -2.218058660649265,
          -0.9224483468006254,
          -2.28104338184862,
          -0.6153273017556494,
          -2.2705072432030784,
          -2.246427951960274,
          -2.217956738553405,
          -2.2812775171844613,
          -2.182604622196779,
          -2.3311640881550857,
          -2.1462025854256415,
          -2.2811433814132602,
          -1.2529167793543694,
          -2.2353830517187334,
          -0.9224315214160118,
          -1.1008059237465866,
          -2.250347133817637,
          -2.285518575584882,
          -0.6701233396391024,
          -2.202740956346043,
          -1.301457764218031,
          -0.9224330632387049,
          -1.2529462042908792,
          -2.0798959515448647,
          -2.217981849616771,
          -1.301726579216116,
          -2.283217664204006,
          -2.15628368146343,
          -2.1562452747796974,
          -2.038013296776448,
          -1.1008264384636894,
          -2.079217057047645,
          -2.0791324266676217,
          -1.5979859595429395,
          -1.3017255483460395,
          -0.33214296787605246,
          -1.301749235066368,
          -1.1388722584743105,
          -1.6801460538940298,
          -2.158950455585459,
          -1.1007831404611979,
          -1.3017321538845266,
          -1.1049247404483478,
          -1.2226450981766381,
          -1.1007974002946135,
          -1.100832736485341,
          -1.8405736423572967,
          -2.162918950335112,
          -2.055301309744191,
          -2.2810816370913627,
          -2.079137816811865
         ],
         "z": [
          0.17220982588363581,
          0.31514974505327764,
          -0.020946756357165704,
          0.32799955426666283,
          0.31512299230521523,
          0.42097085084004965,
          0.26704711943410603,
          -0.020920847872797424,
          0.01244192139554566,
          -0.02092802350282719,
          0.2724297342482178,
          -0.06649601596218001,
          0.1721431593870136,
          -0.02098766810250457,
          -0.020930736427495607,
          0.08696665546789985,
          0.11849977096564392,
          -0.02093297848842093,
          -0.020921315033181846,
          -0.020919572368302445,
          0.012444138829964254,
          0.2661190605753406,
          0.16368376551156869,
          -0.026554135920910753,
          -0.02092572083648867,
          -0.02102251934870916,
          -0.020926571553533533,
          -0.02091820032016985,
          0.18285387407645143,
          -0.02136964469885822,
          -0.020945942094072384,
          -0.02093848058361988,
          -0.06082540852072255,
          0.17220880825141177,
          -0.020996741473294948,
          -0.02092509233488607,
          -0.02091701455342184,
          -0.02093376203125027,
          0.3705014653489501,
          -0.02091955376103134,
          -0.023458382342852326,
          0.1722108527200873,
          -0.021064213846785144,
          -0.020919346882651655,
          -0.020953965871428254,
          -0.02093081261423351,
          0.17193139544650252,
          0.17219849681108523,
          0.17220572153758856,
          0.17220785885794193,
          0.17221799340106939,
          0.012447494941128132,
          -0.020926679226455303,
          0.21325882573593366,
          -0.0209864946836923,
          0.17220013263956294,
          0.2536175584996006,
          0.3313389274769657,
          -0.020950922321262458,
          -0.021249472598277853,
          -0.020980503504249296,
          -0.02091686939836907,
          -0.02098449323442265,
          -0.021290245253944805,
          0.2729058550454653,
          0.2731894772377391,
          0.21191493681893267,
          -0.0209201622952603,
          -0.02358713821294945,
          0.4365377936993939,
          -0.020916771806103397,
          0.17221158445459148,
          -0.031836619925612694,
          -1.242052304302476,
          0.01243359712312181,
          0.36772614173775797,
          0.1722069607419496,
          0.012440285633828638,
          -0.020951933678214376,
          -0.020970506897678386,
          0.3151790150948979,
          0.3957960978947763,
          0.012440877875725058,
          0.1722088378171616,
          -0.02100900618240826,
          0.3462267772405579,
          -0.020948943681605877,
          0.16265489067070416,
          0.012423395812075765,
          0.3920311159475053,
          -0.020936686478835696,
          0.3533489876236246,
          -0.020920987431213855,
          0.012440521977548507,
          -0.02091677047135573,
          0.012444472620914675,
          0.7550263175186631,
          0.3347448271266932,
          0.1722149227449547,
          0.27274618150940183,
          -0.020977840695078485,
          0.17221389433192685,
          -0.020923638134670637,
          0.3789142140259533,
          0.3151728555340326,
          0.4209714202921412,
          -0.022166636966589524,
          0.012123360308275155,
          0.012401072569162515,
          0.33474572405185926,
          -0.020917108806236484,
          0.3347425528030766,
          0.36773658255433844,
          0.00040540916908915725,
          0.3279796008739096,
          -0.020917900274146625,
          0.012319408315898853,
          0.42097147411247454,
          -0.02096049960359196,
          0.367729912374801,
          0.30218113686418274,
          -0.02141191256934517,
          -0.006157131887077951,
          -0.020927240207124227,
          0.1714972763354723,
          -0.020929445374033014,
          0.32797040992334875,
          0.37737074002117005,
          0.406364325419748,
          0.381950637548675,
          0.333928826073036,
          0.012424705586411941,
          -0.02092462252926887,
          -0.020927064231736688,
          0.012432380870488464,
          0.012444796021933876,
          0.33473756437485136,
          0.31892975622003794,
          -0.09712926300144425,
          -0.0502203684036152,
          0.01227790275626713,
          0.1722098038668474,
          -0.022162969986448972,
          -0.0669380641370229,
          -0.020921995750258823,
          -0.02093208630167702,
          -0.020938874764203773,
          -0.020939219039317145,
          0.3347351014893082,
          0.41680593819242306,
          0.011364412372758582,
          0.18295636333688345,
          0.4209676908491278,
          0.3920070212699069,
          -0.020960546779345945,
          0.012349952702884383,
          0.18295351581584027,
          0.3151470591128849,
          0.1829552573414096,
          0.2729770641255443,
          0.31845415311503167,
          0.3347455995908009,
          0.3138298024389571,
          0.012356753418864113,
          0.3277444541663461,
          -0.022785718140155228,
          0.03647831810589894,
          0.012444172311746573,
          0.18295589077433175,
          0.18280508127073725,
          -0.020938732592921745,
          0.012442425073709785,
          0.17220920439116866,
          0.12321941923244256,
          0.19895072339794392,
          0.25217396848886264,
          0.3346655480262587,
          -0.025321606683156153,
          0.39199010339515683,
          0.21294751574415416,
          4.651155310533139,
          -0.020925252116412874,
          -0.027764758944050713,
          0.012320536578023277,
          0.3143331858905245,
          0.3346040738787031,
          -0.02092030140093611,
          0.35917468755874277,
          0.42094444747563614,
          0.37887478215712656,
          0.012425779645474378,
          0.33474119299108895,
          -0.00615741979012591,
          0.36773361343450955,
          0.4119678213494844,
          0.3789156950772311,
          0.3346772862768157,
          0.21737024179957304,
          0.29961918671014154,
          0.37353654085142957,
          0.33444959123718415,
          0.19540789107845255,
          0.2770038084090527,
          0.0124437840129261,
          -0.020919578642405134,
          0.3277923567562129,
          0.38334050656530383,
          0.06393809726823199,
          0.16346064113389838,
          0.17129301510108957,
          0.012443301872620475,
          0.19539811784686495,
          0.4187107061629205,
          0.3789048313076381,
          0.17220980485642587,
          0.33318861784237386,
          0.3404772107151583,
          0.34048210174843835,
          0.36141377982029377,
          -0.02094209763855381,
          0.4209330412119061,
          0.420963959498127,
          0.21190095588978056,
          0.17219366225043148,
          -0.09016330146148566,
          0.17217091700268686,
          -0.03257852278268493,
          0.1812552845464827,
          0.33965180286426716,
          -0.02128627839613492,
          0.17220570495351412,
          -0.036371877279660306,
          0.11848963537320992,
          -0.020918718386487654,
          -0.02096052715281652,
          0.27320902668540115,
          0.3030644090154221,
          0.31517361215310874,
          0.3342668802477033,
          0.4209708786830038
         ]
        },
        {
         "customdata": [
          [
           "Proof-of-BibleHash"
          ],
          [
           "Proof-of-Authority"
          ],
          [
           "ECC 256K1"
          ],
          [
           "Leased POS"
          ]
         ],
         "hovertemplate": "<b>%{hovertext}</b><br><br>Class=%{marker.color}<br>PC 1=%{x}<br>PC 2=%{y}<br>PC 3=%{z}<br>Algorithm=%{customdata[0]}<extra></extra>",
         "hovertext": [
          "BiblePay",
          "Poa Network",
          "Acute Angle Cloud",
          "Waves"
         ],
         "legendgroup": "1",
         "marker": {
          "color": [
           1,
           1,
           1,
           1
          ],
          "coloraxis": "coloraxis",
          "symbol": "square"
         },
         "mode": "markers",
         "name": "1",
         "scene": "scene",
         "showlegend": true,
         "type": "scatter3d",
         "x": [
          -0.20939651270257945,
          -0.3107509445881901,
          -0.34940509659350966,
          -0.43376297163129524
         ],
         "y": [
          3.766203244079108,
          1.1936538004847392,
          4.570205242267348,
          3.5767332629704023
         ],
         "z": [
          17.653480485221333,
          14.364834707573074,
          9.730505327295289,
          18.57994719845603
         ]
        },
        {
         "customdata": [
          [
           "TRC10"
          ]
         ],
         "hovertemplate": "<b>%{hovertext}</b><br><br>Class=%{marker.color}<br>PC 1=%{x}<br>PC 2=%{y}<br>PC 3=%{z}<br>Algorithm=%{customdata[0]}<extra></extra>",
         "hovertext": [
          "BitTorrent"
         ],
         "legendgroup": "2",
         "marker": {
          "color": [
           2
          ],
          "coloraxis": "coloraxis",
          "symbol": "x"
         },
         "mode": "markers",
         "name": "2",
         "scene": "scene",
         "showlegend": true,
         "type": "scatter3d",
         "x": [
          34.0430036671286
         ],
         "y": [
          1.9244940454375652
         ],
         "z": [
          -0.8308798046541686
         ]
        }
       ],
       "layout": {
        "coloraxis": {
         "colorbar": {
          "title": {
           "text": "Class"
          }
         },
         "colorscale": [
          [
           0,
           "#0d0887"
          ],
          [
           0.1111111111111111,
           "#46039f"
          ],
          [
           0.2222222222222222,
           "#7201a8"
          ],
          [
           0.3333333333333333,
           "#9c179e"
          ],
          [
           0.4444444444444444,
           "#bd3786"
          ],
          [
           0.5555555555555556,
           "#d8576b"
          ],
          [
           0.6666666666666666,
           "#ed7953"
          ],
          [
           0.7777777777777778,
           "#fb9f3a"
          ],
          [
           0.8888888888888888,
           "#fdca26"
          ],
          [
           1,
           "#f0f921"
          ]
         ]
        },
        "legend": {
         "title": {
          "text": "Class"
         },
         "tracegroupgap": 0,
         "x": 0,
         "y": 1
        },
        "margin": {
         "t": 60
        },
        "scene": {
         "domain": {
          "x": [
           0,
           1
          ],
          "y": [
           0,
           1
          ]
         },
         "xaxis": {
          "title": {
           "text": "PC 1"
          }
         },
         "yaxis": {
          "title": {
           "text": "PC 2"
          }
         },
         "zaxis": {
          "title": {
           "text": "PC 3"
          }
         }
        },
        "template": {
         "data": {
          "bar": [
           {
            "error_x": {
             "color": "#2a3f5f"
            },
            "error_y": {
             "color": "#2a3f5f"
            },
            "marker": {
             "line": {
              "color": "#E5ECF6",
              "width": 0.5
             },
             "pattern": {
              "fillmode": "overlay",
              "size": 10,
              "solidity": 0.2
             }
            },
            "type": "bar"
           }
          ],
          "barpolar": [
           {
            "marker": {
             "line": {
              "color": "#E5ECF6",
              "width": 0.5
             },
             "pattern": {
              "fillmode": "overlay",
              "size": 10,
              "solidity": 0.2
             }
            },
            "type": "barpolar"
           }
          ],
          "carpet": [
           {
            "aaxis": {
             "endlinecolor": "#2a3f5f",
             "gridcolor": "white",
             "linecolor": "white",
             "minorgridcolor": "white",
             "startlinecolor": "#2a3f5f"
            },
            "baxis": {
             "endlinecolor": "#2a3f5f",
             "gridcolor": "white",
             "linecolor": "white",
             "minorgridcolor": "white",
             "startlinecolor": "#2a3f5f"
            },
            "type": "carpet"
           }
          ],
          "choropleth": [
           {
            "colorbar": {
             "outlinewidth": 0,
             "ticks": ""
            },
            "type": "choropleth"
           }
          ],
          "contour": [
           {
            "colorbar": {
             "outlinewidth": 0,
             "ticks": ""
            },
            "colorscale": [
             [
              0,
              "#0d0887"
             ],
             [
              0.1111111111111111,
              "#46039f"
             ],
             [
              0.2222222222222222,
              "#7201a8"
             ],
             [
              0.3333333333333333,
              "#9c179e"
             ],
             [
              0.4444444444444444,
              "#bd3786"
             ],
             [
              0.5555555555555556,
              "#d8576b"
             ],
             [
              0.6666666666666666,
              "#ed7953"
             ],
             [
              0.7777777777777778,
              "#fb9f3a"
             ],
             [
              0.8888888888888888,
              "#fdca26"
             ],
             [
              1,
              "#f0f921"
             ]
            ],
            "type": "contour"
           }
          ],
          "contourcarpet": [
           {
            "colorbar": {
             "outlinewidth": 0,
             "ticks": ""
            },
            "type": "contourcarpet"
           }
          ],
          "heatmap": [
           {
            "colorbar": {
             "outlinewidth": 0,
             "ticks": ""
            },
            "colorscale": [
             [
              0,
              "#0d0887"
             ],
             [
              0.1111111111111111,
              "#46039f"
             ],
             [
              0.2222222222222222,
              "#7201a8"
             ],
             [
              0.3333333333333333,
              "#9c179e"
             ],
             [
              0.4444444444444444,
              "#bd3786"
             ],
             [
              0.5555555555555556,
              "#d8576b"
             ],
             [
              0.6666666666666666,
              "#ed7953"
             ],
             [
              0.7777777777777778,
              "#fb9f3a"
             ],
             [
              0.8888888888888888,
              "#fdca26"
             ],
             [
              1,
              "#f0f921"
             ]
            ],
            "type": "heatmap"
           }
          ],
          "heatmapgl": [
           {
            "colorbar": {
             "outlinewidth": 0,
             "ticks": ""
            },
            "colorscale": [
             [
              0,
              "#0d0887"
             ],
             [
              0.1111111111111111,
              "#46039f"
             ],
             [
              0.2222222222222222,
              "#7201a8"
             ],
             [
              0.3333333333333333,
              "#9c179e"
             ],
             [
              0.4444444444444444,
              "#bd3786"
             ],
             [
              0.5555555555555556,
              "#d8576b"
             ],
             [
              0.6666666666666666,
              "#ed7953"
             ],
             [
              0.7777777777777778,
              "#fb9f3a"
             ],
             [
              0.8888888888888888,
              "#fdca26"
             ],
             [
              1,
              "#f0f921"
             ]
            ],
            "type": "heatmapgl"
           }
          ],
          "histogram": [
           {
            "marker": {
             "pattern": {
              "fillmode": "overlay",
              "size": 10,
              "solidity": 0.2
             }
            },
            "type": "histogram"
           }
          ],
          "histogram2d": [
           {
            "colorbar": {
             "outlinewidth": 0,
             "ticks": ""
            },
            "colorscale": [
             [
              0,
              "#0d0887"
             ],
             [
              0.1111111111111111,
              "#46039f"
             ],
             [
              0.2222222222222222,
              "#7201a8"
             ],
             [
              0.3333333333333333,
              "#9c179e"
             ],
             [
              0.4444444444444444,
              "#bd3786"
             ],
             [
              0.5555555555555556,
              "#d8576b"
             ],
             [
              0.6666666666666666,
              "#ed7953"
             ],
             [
              0.7777777777777778,
              "#fb9f3a"
             ],
             [
              0.8888888888888888,
              "#fdca26"
             ],
             [
              1,
              "#f0f921"
             ]
            ],
            "type": "histogram2d"
           }
          ],
          "histogram2dcontour": [
           {
            "colorbar": {
             "outlinewidth": 0,
             "ticks": ""
            },
            "colorscale": [
             [
              0,
              "#0d0887"
             ],
             [
              0.1111111111111111,
              "#46039f"
             ],
             [
              0.2222222222222222,
              "#7201a8"
             ],
             [
              0.3333333333333333,
              "#9c179e"
             ],
             [
              0.4444444444444444,
              "#bd3786"
             ],
             [
              0.5555555555555556,
              "#d8576b"
             ],
             [
              0.6666666666666666,
              "#ed7953"
             ],
             [
              0.7777777777777778,
              "#fb9f3a"
             ],
             [
              0.8888888888888888,
              "#fdca26"
             ],
             [
              1,
              "#f0f921"
             ]
            ],
            "type": "histogram2dcontour"
           }
          ],
          "mesh3d": [
           {
            "colorbar": {
             "outlinewidth": 0,
             "ticks": ""
            },
            "type": "mesh3d"
           }
          ],
          "parcoords": [
           {
            "line": {
             "colorbar": {
              "outlinewidth": 0,
              "ticks": ""
             }
            },
            "type": "parcoords"
           }
          ],
          "pie": [
           {
            "automargin": true,
            "type": "pie"
           }
          ],
          "scatter": [
           {
            "marker": {
             "colorbar": {
              "outlinewidth": 0,
              "ticks": ""
             }
            },
            "type": "scatter"
           }
          ],
          "scatter3d": [
           {
            "line": {
             "colorbar": {
              "outlinewidth": 0,
              "ticks": ""
             }
            },
            "marker": {
             "colorbar": {
              "outlinewidth": 0,
              "ticks": ""
             }
            },
            "type": "scatter3d"
           }
          ],
          "scattercarpet": [
           {
            "marker": {
             "colorbar": {
              "outlinewidth": 0,
              "ticks": ""
             }
            },
            "type": "scattercarpet"
           }
          ],
          "scattergeo": [
           {
            "marker": {
             "colorbar": {
              "outlinewidth": 0,
              "ticks": ""
             }
            },
            "type": "scattergeo"
           }
          ],
          "scattergl": [
           {
            "marker": {
             "colorbar": {
              "outlinewidth": 0,
              "ticks": ""
             }
            },
            "type": "scattergl"
           }
          ],
          "scattermapbox": [
           {
            "marker": {
             "colorbar": {
              "outlinewidth": 0,
              "ticks": ""
             }
            },
            "type": "scattermapbox"
           }
          ],
          "scatterpolar": [
           {
            "marker": {
             "colorbar": {
              "outlinewidth": 0,
              "ticks": ""
             }
            },
            "type": "scatterpolar"
           }
          ],
          "scatterpolargl": [
           {
            "marker": {
             "colorbar": {
              "outlinewidth": 0,
              "ticks": ""
             }
            },
            "type": "scatterpolargl"
           }
          ],
          "scatterternary": [
           {
            "marker": {
             "colorbar": {
              "outlinewidth": 0,
              "ticks": ""
             }
            },
            "type": "scatterternary"
           }
          ],
          "surface": [
           {
            "colorbar": {
             "outlinewidth": 0,
             "ticks": ""
            },
            "colorscale": [
             [
              0,
              "#0d0887"
             ],
             [
              0.1111111111111111,
              "#46039f"
             ],
             [
              0.2222222222222222,
              "#7201a8"
             ],
             [
              0.3333333333333333,
              "#9c179e"
             ],
             [
              0.4444444444444444,
              "#bd3786"
             ],
             [
              0.5555555555555556,
              "#d8576b"
             ],
             [
              0.6666666666666666,
              "#ed7953"
             ],
             [
              0.7777777777777778,
              "#fb9f3a"
             ],
             [
              0.8888888888888888,
              "#fdca26"
             ],
             [
              1,
              "#f0f921"
             ]
            ],
            "type": "surface"
           }
          ],
          "table": [
           {
            "cells": {
             "fill": {
              "color": "#EBF0F8"
             },
             "line": {
              "color": "white"
             }
            },
            "header": {
             "fill": {
              "color": "#C8D4E3"
             },
             "line": {
              "color": "white"
             }
            },
            "type": "table"
           }
          ]
         },
         "layout": {
          "annotationdefaults": {
           "arrowcolor": "#2a3f5f",
           "arrowhead": 0,
           "arrowwidth": 1
          },
          "autotypenumbers": "strict",
          "coloraxis": {
           "colorbar": {
            "outlinewidth": 0,
            "ticks": ""
           }
          },
          "colorscale": {
           "diverging": [
            [
             0,
             "#8e0152"
            ],
            [
             0.1,
             "#c51b7d"
            ],
            [
             0.2,
             "#de77ae"
            ],
            [
             0.3,
             "#f1b6da"
            ],
            [
             0.4,
             "#fde0ef"
            ],
            [
             0.5,
             "#f7f7f7"
            ],
            [
             0.6,
             "#e6f5d0"
            ],
            [
             0.7,
             "#b8e186"
            ],
            [
             0.8,
             "#7fbc41"
            ],
            [
             0.9,
             "#4d9221"
            ],
            [
             1,
             "#276419"
            ]
           ],
           "sequential": [
            [
             0,
             "#0d0887"
            ],
            [
             0.1111111111111111,
             "#46039f"
            ],
            [
             0.2222222222222222,
             "#7201a8"
            ],
            [
             0.3333333333333333,
             "#9c179e"
            ],
            [
             0.4444444444444444,
             "#bd3786"
            ],
            [
             0.5555555555555556,
             "#d8576b"
            ],
            [
             0.6666666666666666,
             "#ed7953"
            ],
            [
             0.7777777777777778,
             "#fb9f3a"
            ],
            [
             0.8888888888888888,
             "#fdca26"
            ],
            [
             1,
             "#f0f921"
            ]
           ],
           "sequentialminus": [
            [
             0,
             "#0d0887"
            ],
            [
             0.1111111111111111,
             "#46039f"
            ],
            [
             0.2222222222222222,
             "#7201a8"
            ],
            [
             0.3333333333333333,
             "#9c179e"
            ],
            [
             0.4444444444444444,
             "#bd3786"
            ],
            [
             0.5555555555555556,
             "#d8576b"
            ],
            [
             0.6666666666666666,
             "#ed7953"
            ],
            [
             0.7777777777777778,
             "#fb9f3a"
            ],
            [
             0.8888888888888888,
             "#fdca26"
            ],
            [
             1,
             "#f0f921"
            ]
           ]
          },
          "colorway": [
           "#636efa",
           "#EF553B",
           "#00cc96",
           "#ab63fa",
           "#FFA15A",
           "#19d3f3",
           "#FF6692",
           "#B6E880",
           "#FF97FF",
           "#FECB52"
          ],
          "font": {
           "color": "#2a3f5f"
          },
          "geo": {
           "bgcolor": "white",
           "lakecolor": "white",
           "landcolor": "#E5ECF6",
           "showlakes": true,
           "showland": true,
           "subunitcolor": "white"
          },
          "hoverlabel": {
           "align": "left"
          },
          "hovermode": "closest",
          "mapbox": {
           "style": "light"
          },
          "paper_bgcolor": "white",
          "plot_bgcolor": "#E5ECF6",
          "polar": {
           "angularaxis": {
            "gridcolor": "white",
            "linecolor": "white",
            "ticks": ""
           },
           "bgcolor": "#E5ECF6",
           "radialaxis": {
            "gridcolor": "white",
            "linecolor": "white",
            "ticks": ""
           }
          },
          "scene": {
           "xaxis": {
            "backgroundcolor": "#E5ECF6",
            "gridcolor": "white",
            "gridwidth": 2,
            "linecolor": "white",
            "showbackground": true,
            "ticks": "",
            "zerolinecolor": "white"
           },
           "yaxis": {
            "backgroundcolor": "#E5ECF6",
            "gridcolor": "white",
            "gridwidth": 2,
            "linecolor": "white",
            "showbackground": true,
            "ticks": "",
            "zerolinecolor": "white"
           },
           "zaxis": {
            "backgroundcolor": "#E5ECF6",
            "gridcolor": "white",
            "gridwidth": 2,
            "linecolor": "white",
            "showbackground": true,
            "ticks": "",
            "zerolinecolor": "white"
           }
          },
          "shapedefaults": {
           "line": {
            "color": "#2a3f5f"
           }
          },
          "ternary": {
           "aaxis": {
            "gridcolor": "white",
            "linecolor": "white",
            "ticks": ""
           },
           "baxis": {
            "gridcolor": "white",
            "linecolor": "white",
            "ticks": ""
           },
           "bgcolor": "#E5ECF6",
           "caxis": {
            "gridcolor": "white",
            "linecolor": "white",
            "ticks": ""
           }
          },
          "title": {
           "x": 0.05
          },
          "xaxis": {
           "automargin": true,
           "gridcolor": "white",
           "linecolor": "white",
           "ticks": "",
           "title": {
            "standoff": 15
           },
           "zerolinecolor": "white",
           "zerolinewidth": 2
          },
          "yaxis": {
           "automargin": true,
           "gridcolor": "white",
           "linecolor": "white",
           "ticks": "",
           "title": {
            "standoff": 15
           },
           "zerolinecolor": "white",
           "zerolinewidth": 2
          }
         }
        },
        "width": 800
       }
      },
      "text/html": [
       "<div>                            <div id=\"1c16d485-8c89-4bd2-abfe-2e36bd21b93e\" class=\"plotly-graph-div\" style=\"height:525px; width:800px;\"></div>            <script type=\"text/javascript\">                require([\"plotly\"], function(Plotly) {                    window.PLOTLYENV=window.PLOTLYENV || {};                                    if (document.getElementById(\"1c16d485-8c89-4bd2-abfe-2e36bd21b93e\")) {                    Plotly.newPlot(                        \"1c16d485-8c89-4bd2-abfe-2e36bd21b93e\",                        [{\"customdata\":[[\"Scrypt\"],[\"Scrypt\"],[\"X13\"],[\"X11\"],[\"SHA-512\"],[\"SHA-256\"],[\"SHA-256\"],[\"X15\"],[\"Scrypt\"],[\"Scrypt\"],[\"Scrypt\"],[\"Scrypt\"],[\"Scrypt\"],[\"Scrypt\"],[\"Groestl\"],[\"PoS\"],[\"Scrypt\"],[\"Scrypt\"],[\"X11\"],[\"X11\"],[\"SHA3\"],[\"Scrypt\"],[\"SHA-256\"],[\"Scrypt\"],[\"X13\"],[\"X13\"],[\"NeoScrypt\"],[\"Scrypt\"],[\"Scrypt\"],[\"Scrypt\"],[\"X11\"],[\"X11\"],[\"Multiple\"],[\"PHI1612\"],[\"X11\"],[\"Scrypt\"],[\"Scrypt\"],[\"Scrypt\"],[\"X11\"],[\"Multiple\"],[\"X13\"],[\"Scrypt\"],[\"Shabal256\"],[\"Counterparty\"],[\"SHA-256\"],[\"Groestl\"],[\"Scrypt\"],[\"X13\"],[\"Scrypt\"],[\"Scrypt\"],[\"X13\"],[\"X11\"],[\"Scrypt\"],[\"X11\"],[\"QUAIT\"],[\"X11\"],[\"Scrypt\"],[\"X13\"],[\"SHA-256\"],[\"X15\"],[\"BLAKE256\"],[\"SHA-256\"],[\"X11\"],[\"SHA-256\"],[\"NIST5\"],[\"Scrypt\"],[\"Scrypt\"],[\"X11\"],[\"Scrypt\"],[\"SHA-256\"],[\"Scrypt\"],[\"PoS\"],[\"X11\"],[\"SHA-256\"],[\"SHA-256\"],[\"NIST5\"],[\"X11\"],[\"POS 3.0\"],[\"Scrypt\"],[\"Scrypt\"],[\"Scrypt\"],[\"X13\"],[\"X11\"],[\"X11\"],[\"Scrypt\"],[\"SHA-256\"],[\"X11\"],[\"Scrypt\"],[\"Scrypt\"],[\"Scrypt\"],[\"Scrypt\"],[\"SHA-256D\"],[\"PoS\"],[\"Scrypt\"],[\"X11\"],[\"PoS\"],[\"X13\"],[\"X14\"],[\"PoS\"],[\"SHA-256D\"],[\"DPoS\"],[\"X11\"],[\"X13\"],[\"X11\"],[\"PoS\"],[\"Scrypt\"],[\"Scrypt\"],[\"PoS\"],[\"X11\"],[\"SHA-256\"],[\"Scrypt\"],[\"X11\"],[\"Scrypt\"],[\"Scrypt\"],[\"X11\"],[\"Scrypt\"],[\"Scrypt\"],[\"Scrypt\"],[\"Scrypt\"],[\"Quark\"],[\"QuBit\"],[\"Scrypt\"],[\"SHA-256\"],[\"X11\"],[\"Scrypt\"],[\"Scrypt\"],[\"Scrypt\"],[\"Scrypt\"],[\"X13\"],[\"Scrypt\"],[\"Scrypt\"],[\"X11\"],[\"Blake2S\"],[\"X11\"],[\"PoS\"],[\"X11\"],[\"PoS\"],[\"X11\"],[\"Scrypt\"],[\"Scrypt\"],[\"Scrypt\"],[\"SHA-256\"],[\"X11\"],[\"Scrypt\"],[\"PoS\"],[\"Scrypt\"],[\"X15\"],[\"SHA-256\"],[\"POS 3.0\"],[\"536\"],[\"NIST5\"],[\"NIST5\"],[\"Skein\"],[\"X13\"],[\"Scrypt\"],[\"X13\"],[\"SkunkHash v2 Raptor\"],[\"Skein\"],[\"X11\"],[\"Scrypt\"],[\"VeChainThor Authority\"],[\"PoS\"],[\"Scrypt\"],[\"Scrypt\"],[\"SHA-512\"],[\"Ouroboros\"],[\"X11\"],[\"NeoScrypt\"],[\"Scrypt\"],[\"Lyra2REv2\"],[\"Scrypt\"],[\"SHA-256\"],[\"NIST5\"],[\"PHI1612\"],[\"Scrypt\"],[\"Quark\"],[\"POS 2.0\"],[\"Scrypt\"],[\"SHA-256\"],[\"X11\"],[\"DPoS\"],[\"NIST5\"],[\"X13\"],[\"Scrypt\"],[\"NIST5\"],[\"Quark\"],[\"Scrypt\"],[\"Scrypt\"],[\"X11\"],[\"Quark\"],[\"Scrypt\"],[\"Scrypt\"],[\"X11\"],[\"POS 3.0\"],[\"Ethash\"],[\"Scrypt\"],[\"Scrypt\"],[\"X13\"],[\"C11\"],[\"X11\"],[\"XEVAN\"],[\"Scrypt\"],[\"VBFT\"],[\"NIST5\"],[\"Scrypt\"],[\"Scrypt\"],[\"Scrypt\"],[\"Green Protocol\"],[\"PoS\"],[\"Scrypt\"],[\"Semux BFT consensus\"],[\"Quark\"],[\"PoS\"],[\"X16R\"],[\"Scrypt\"],[\"XEVAN\"],[\"Scrypt\"],[\"Scrypt\"],[\"Scrypt\"],[\"SHA-256D\"],[\"Scrypt\"],[\"X15\"],[\"Scrypt\"],[\"Quark\"],[\"SHA-256\"],[\"DPoS\"],[\"X16R\"],[\"Quark\"],[\"Quark\"],[\"Scrypt\"],[\"Lyra2REv2\"],[\"Quark\"],[\"Scrypt\"],[\"X11\"],[\"X11\"],[\"Scrypt\"],[\"PoS\"],[\"Keccak\"],[\"X11\"],[\"Scrypt\"],[\"SHA-512\"],[\"XEVAN\"],[\"XEVAN\"],[\"X11\"],[\"Quark\"],[\"Equihash\"],[\"Scrypt\"],[\"Quark\"],[\"Quark\"],[\"Scrypt\"],[\"X11\"],[\"Scrypt\"],[\"XEVAN\"],[\"SHA-256D\"],[\"X11\"],[\"X11\"],[\"DPoS\"],[\"Scrypt\"],[\"X11\"],[\"Scrypt\"],[\"Scrypt\"],[\"SHA-256\"],[\"Scrypt\"],[\"X11\"],[\"Scrypt\"],[\"SHA-256\"],[\"X11\"],[\"Scrypt\"],[\"Scrypt\"],[\"X11\"],[\"Scrypt\"],[\"PoS\"],[\"X11\"],[\"SHA-256\"],[\"DPoS\"],[\"Scrypt\"],[\"Scrypt\"],[\"NeoScrypt\"],[\"X13\"],[\"DPoS\"],[\"DPoS\"],[\"SHA-256\"],[\"PoS\"],[\"PoS\"],[\"SHA-256\"],[\"Scrypt\"],[\"Scrypt\"]],\"hovertemplate\":\"<b>%{hovertext}</b><br><br>Class=%{marker.color}<br>PC 1=%{x}<br>PC 2=%{y}<br>PC 3=%{z}<br>Algorithm=%{customdata[0]}<extra></extra>\",\"hovertext\":[\"42 Coin\",\"404Coin\",\"EliteCoin\",\"Dash\",\"Bitshares\",\"BitcoinDark\",\"PayCoin\",\"KoboCoin\",\"Aurora Coin\",\"BlueCoin\",\"EnergyCoin\",\"BitBar\",\"CryptoBullion\",\"CasinoCoin\",\"Diamond\",\"Exclusive Coin\",\"FlutterCoin\",\"HoboNickels\",\"HyperStake\",\"IOCoin\",\"MaxCoin\",\"MintCoin\",\"MazaCoin\",\"Nautilus Coin\",\"NavCoin\",\"OpalCoin\",\"Orbitcoin\",\"PotCoin\",\"PhoenixCoin\",\"Reddcoin\",\"SuperCoin\",\"SyncCoin\",\"TeslaCoin\",\"TittieCoin\",\"TorCoin\",\"UnitaryStatus Dollar\",\"UltraCoin\",\"VeriCoin\",\"X11 Coin\",\"Crypti\",\"StealthCoin\",\"ZCC Coin\",\"BurstCoin\",\"StorjCoin\",\"Neutron\",\"FairCoin\",\"RubyCoin\",\"Kore\",\"Dnotes\",\"8BIT Coin\",\"Sativa Coin\",\"Ucoin\",\"Vtorrent\",\"IslaCoin\",\"Droidz\",\"Squall Coin\",\"Diggits\",\"Paycon\",\"Emercoin\",\"EverGreenCoin\",\"Decred\",\"EDRCoin\",\"Hitcoin\",\"DubaiCoin\",\"PWR Coin\",\"BillaryCoin\",\"GPU Coin\",\"EuropeCoin\",\"ZeitCoin\",\"SwingCoin\",\"SafeExchangeCoin\",\"Nebuchadnezzar\",\"Ratecoin\",\"Revenu\",\"Clockcoin\",\"VIP Tokens\",\"BitSend\",\"Let it Ride\",\"PutinCoin\",\"iBankCoin\",\"Frankywillcoin\",\"MudraCoin\",\"Lutetium Coin\",\"GoldBlocks\",\"CarterCoin\",\"BitTokens\",\"MustangCoin\",\"ZoneCoin\",\"RootCoin\",\"BitCurrency\",\"Swiscoin\",\"BuzzCoin\",\"Opair\",\"PesoBit\",\"Halloween Coin\",\"CoffeeCoin\",\"RoyalCoin\",\"GanjaCoin V2\",\"TeamUP\",\"LanaCoin\",\"ARK\",\"InsaneCoin\",\"EmberCoin\",\"XenixCoin\",\"FreeCoin\",\"PLNCoin\",\"AquariusCoin\",\"Creatio\",\"Eternity\",\"Eurocoin\",\"BitcoinFast\",\"Stakenet\",\"BitConnect Coin\",\"MoneyCoin\",\"Enigma\",\"Russiacoin\",\"PandaCoin\",\"GameUnits\",\"GAKHcoin\",\"Allsafe\",\"LiteCreed\",\"Klingon Empire Darsek\",\"Internet of People\",\"KushCoin\",\"Printerium\",\"Impeach\",\"Zilbercoin\",\"FirstCoin\",\"FindCoin\",\"OpenChat\",\"RenosCoin\",\"VirtacoinPlus\",\"TajCoin\",\"Impact\",\"Atmos\",\"HappyCoin\",\"MacronCoin\",\"Condensate\",\"Independent Money System\",\"ArgusCoin\",\"LomoCoin\",\"ProCurrency\",\"GoldReserve\",\"GrowthCoin\",\"Phreak\",\"Degas Coin\",\"HTML5 Coin\",\"Ultimate Secure Cash\",\"QTUM\",\"Espers\",\"Denarius\",\"Virta Unique Coin\",\"Bitcoin Planet\",\"BritCoin\",\"Linda\",\"DeepOnion\",\"Signatum\",\"Cream\",\"Monoeci\",\"Draftcoin\",\"Vechain\",\"Stakecoin\",\"CoinonatX\",\"Ethereum Dark\",\"Obsidian\",\"Cardano\",\"Regalcoin\",\"TrezarCoin\",\"TerraNovaCoin\",\"Rupee\",\"WomenCoin\",\"Theresa May Coin\",\"NamoCoin\",\"LUXCoin\",\"Xios\",\"Bitcloud 2.0\",\"KekCoin\",\"BlackholeCoin\",\"Infinity Economics\",\"Magnet\",\"Lamden Tau\",\"Electra\",\"Bitcoin Diamond\",\"Cash & Back Coin\",\"Bulwark\",\"Kalkulus\",\"GermanCoin\",\"LiteCoin Ultra\",\"PhantomX\",\"Digiwage\",\"Trollcoin\",\"Litecoin Plus\",\"Monkey Project\",\"TokenPay\",\"1717 Masonic Commemorative Token\",\"My Big Coin\",\"Unified Society USDEX\",\"Tokyo Coin\",\"Stipend\",\"Pushi\",\"Ellerium\",\"Velox\",\"Ontology\",\"Bitspace\",\"Briacoin\",\"Ignition\",\"MedicCoin\",\"Bitcoin Green\",\"Deviant Coin\",\"Abjcoin\",\"Semux\",\"Carebit\",\"Zealium\",\"Proton\",\"iDealCash\",\"Bitcoin Incognito\",\"HollyWoodCoin\",\"Swisscoin\",\"Xt3ch\",\"TheVig\",\"EmaratCoin\",\"Dekado\",\"Lynx\",\"Poseidon Quark\",\"BitcoinWSpectrum\",\"Muse\",\"Trivechain\",\"Dystem\",\"Giant\",\"Peony Coin\",\"Absolute Coin\",\"Vitae\",\"TPCash\",\"ARENON\",\"EUNO\",\"MMOCoin\",\"Ketan\",\"XDNA\",\"PAXEX\",\"ThunderStake\",\"Kcash\",\"Bettex coin\",\"BitMoney\",\"Junson Ming Chan Coin\",\"HerbCoin\",\"PirateCash\",\"Oduwa\",\"Galilel\",\"Crypto Sports\",\"Credit\",\"Dash Platinum\",\"Nasdacoin\",\"Beetle Coin\",\"Titan Coin\",\"Award\",\"Insane Coin\",\"ALAX\",\"LiteDoge\",\"TruckCoin\",\"OrangeCoin\",\"BitstarCoin\",\"NeosCoin\",\"HyperCoin\",\"PinkCoin\",\"AudioCoin\",\"IncaKoin\",\"Piggy Coin\",\"Genstake\",\"XiaoMiCoin\",\"CapriCoin\",\" ClubCoin\",\"Radium\",\"Creditbit \",\"OKCash\",\"Lisk\",\"HiCoin\",\"WhiteCoin\",\"FriendshipCoin\",\"Triangles Coin\",\"EOS\",\"Oxycoin\",\"TigerCash\",\"Particl\",\"Nxt\",\"ZEPHYR\",\"Gapcoin\",\"BitcoinPlus\"],\"legendgroup\":\"0\",\"marker\":{\"color\":[0,0,0,0,0,0,0,0,0,0,0,0,0,0,0,0,0,0,0,0,0,0,0,0,0,0,0,0,0,0,0,0,0,0,0,0,0,0,0,0,0,0,0,0,0,0,0,0,0,0,0,0,0,0,0,0,0,0,0,0,0,0,0,0,0,0,0,0,0,0,0,0,0,0,0,0,0,0,0,0,0,0,0,0,0,0,0,0,0,0,0,0,0,0,0,0,0,0,0,0,0,0,0,0,0,0,0,0,0,0,0,0,0,0,0,0,0,0,0,0,0,0,0,0,0,0,0,0,0,0,0,0,0,0,0,0,0,0,0,0,0,0,0,0,0,0,0,0,0,0,0,0,0,0,0,0,0,0,0,0,0,0,0,0,0,0,0,0,0,0,0,0,0,0,0,0,0,0,0,0,0,0,0,0,0,0,0,0,0,0,0,0,0,0,0,0,0,0,0,0,0,0,0,0,0,0,0,0,0,0,0,0,0,0,0,0,0,0,0,0,0,0,0,0,0,0,0,0,0,0,0,0,0,0,0,0,0,0,0,0,0,0,0,0,0,0,0,0,0,0,0,0,0,0,0,0,0,0,0,0,0,0,0,0,0,0,0,0,0,0,0,0,0,0,0,0,0,0,0,0,0,0,0,0,0,0,0],\"coloraxis\":\"coloraxis\",\"symbol\":\"circle\"},\"mode\":\"markers\",\"name\":\"0\",\"scene\":\"scene\",\"showlegend\":true,\"type\":\"scatter3d\",\"x\":[-0.33207784917804595,-0.3154301271262345,2.3164441746401843,-0.37998936417838447,-0.23444185473967982,-0.30743952648871525,-0.28349714605027443,-0.22599573329882186,-0.33173771504772165,-0.3243221457404119,-0.3305757996412415,-0.33207378836389645,-0.332058083152114,0.6040711268673196,-0.3572429259717214,-0.38171624223317724,-0.2946487130907698,-0.33013823680338333,-0.33588916526707935,-0.37988415689811605,-0.1685938322301008,-0.04829457662839666,-0.27077611369025345,-0.3078867491822205,-0.2655736443945468,-0.2661952824751442,-0.3306847515192385,-0.326384738760629,-0.33048091973775734,0.025735050690436766,-0.3557575267976463,-0.3802554191201005,-0.25755132077970355,-0.32786548378845926,-0.3801671256680459,-0.30733038121108364,-0.3307563175354111,-0.31724629318710096,-0.38013164068948113,-0.25801877228634273,-0.2659763469463807,-0.32318771040711347,-0.13755557457139683,-0.3846329689267954,-0.3066518991526918,-0.3566650258233155,-0.3078670496846554,-0.2662705830358302,-0.3025252800982188,-0.33205993416746865,-0.2662228151933064,-0.3562019348035992,-0.33179453114443513,-0.3802369649655745,-0.4052709585602106,-0.3218880409021325,-0.30626991205439563,-0.2657448347113057,-0.3000016973519852,-0.22843539808060356,-0.05493359999899866,-0.3074104671282762,-0.05796338157755259,-0.3074741193978899,-0.22047920463356446,-0.331670494183123,-0.3061389060798668,-0.37740822102574656,0.8443555274380394,-0.3072743239938345,-0.12608099743105755,-0.38139977830146493,-0.3780818345296295,-0.3060187627541138,-0.30368870926146746,-0.3417263602827547,-0.37897312155352386,-0.37159548875081655,-0.3079859311953925,-0.3317085536143645,-0.33014891044175815,-0.24102348101350912,-0.343703309362416,-0.3797112829952596,-0.33091344567491376,-0.30745507406240663,-0.380226162242548,-0.33189757504531175,-0.33205417255749664,-0.3061288055944915,-0.24458465768222545,0.07154954303965938,-0.3803577383155393,-0.3316686835404078,-0.366399138007918,-0.37968704154349464,-0.2424530501145594,-0.4117877029695137,-0.379435844612843,-0.24270535060096984,3.739951305076432,-0.37981904119600446,0.8649059735189363,-0.3801811122258234,-0.3808210964375335,-0.33159625082146416,-0.331750430416581,-0.38139977830146493,-0.37975632898981765,-0.30731787445324926,-0.3315969937668801,-0.36585188258132895,-0.33174425616568093,-0.32733546591311113,-0.38021007787488303,-0.3309555209880474,0.33483982495813164,-0.3319433704204398,-0.33201389042289914,-0.3737979466997609,-0.33620445021231987,-0.32824342125355416,-0.3074315094052759,-0.38012010592380713,-0.3317918824647805,-0.3319187163589252,-0.3077735684865016,-0.3243777148915306,-0.24222110039079403,-0.3127884545238112,-0.3075149655923841,-0.37938639826020143,-0.38934314403121945,-0.37812591283235225,-0.3796478146599566,-0.3792843772006646,-0.374052459030456,-0.37522852769558984,-0.3318620559599009,-0.33186123634394415,-0.3249879112890687,0.24878280725581026,-0.37976250080763435,-0.2904288862535927,-0.3814340270518118,-0.3310733515508542,0.9050244855849215,-0.28218849664900664,-0.3703748679151783,0.5824926986980142,-0.34326071196779023,-0.34176416082374717,-0.39835066359413657,-0.26590817034157227,0.13251238918801658,-0.26597889325333296,-0.3790281392702992,-0.39785600350618155,-0.3800346777397559,-0.3078477551364643,4.502843663367425,-0.38130037992787486,-0.3314975491325967,-0.33199683452724627,-0.2924575779868546,0.6071197299486311,-0.37997553531948586,-0.32568802877027114,-0.33195247433080816,-0.3347061818992416,0.4364930245537233,-0.3057791870483242,-0.32803987351467984,-0.3873123005807997,-0.331902851289003,-0.3961199590847851,-0.379726004284635,-0.3317733782503384,-0.11012754471605087,-0.37876913297370723,3.7448033831429397,0.21576013209429007,-0.2626525333700719,-0.3292357083406503,-0.31914544030688996,-0.3736839482234694,0.08206155497330213,-0.33091251108393105,-0.37934987221371885,-0.37284931135987726,-0.31848863431759555,-0.33201894598873727,-0.3561738886514949,-0.37187715838322516,-0.2887761415998438,-0.3053255308826956,-0.32756796997397425,-0.23402328001737696,-0.3628366702157064,-0.3800518851291436,-0.2808176398459987,-0.3070083596289501,-0.34621349011846986,-0.3428599841017447,-0.33204627699775285,-0.3320280019636644,-0.3013944159366759,-0.37427935257271844,-0.38089517266637285,-0.33174473785058245,3.940765813480847,-0.39478921077753076,-0.3810836796638959,-0.33793549974751896,-0.278656259622344,-0.2226025441637647,-0.3075422335991888,-0.1353260162514647,-0.3077940344008658,-0.30797094927457463,-0.33121917574446136,-0.2039006576274875,2.2208729532735303,-0.36939493265879486,-0.2823162471492577,1.0155469060442872,-0.3611516079319715,-0.3737973744253964,-0.397802838403701,-0.1886109829370766,-0.3585134923298089,-0.3725179714115251,-0.3249280576357077,-0.3557516360559766,-0.37952566996354353,-0.30504173595512984,-0.3801841178075956,-0.3162278028011428,-0.3556130769510384,-0.1916314707960549,-0.17134853922804155,-0.2569317532303634,0.5915693351549345,-0.14631969335100578,-0.3970980458019574,-0.29626220783150603,-0.33174872117483134,-0.39755379535150037,-0.37391425453725924,0.5740381157027913,-0.35622815559096793,-0.33123202589750894,-0.2752777181652934,-0.26272525429044985,-0.3770920168928873,-0.37975272659286424,3.75703455407174,0.10283199562016432,-0.3772946878844882,-0.33061790990938095,-0.3314423604570234,-0.2835297332495935,-0.33196029580319103,-0.371387582463796,-0.24572718355475204,-0.08730079107386342,-0.3671391207717374,-0.33123925887670475,-0.32430940680314785,-0.37632423840999274,-0.32967967326137515,-0.3816751712450446,-0.37059649588215904,-0.30595583623197314,3.7403428096343365,-0.11523932034015667,-0.326876830292959,-0.3303108708117781,-0.26637770605090655,3.7502014755520663,3.7514444623993137,-0.26444270830907907,-0.3816110974914851,-0.3913686042691996,2.4773951075826712,-0.33012464923544754,-0.30819020146211973],\"y\":[1.024716886252845,1.0250557423732705,1.6864862708206807,1.2030851342737094,1.402459083443666,0.8237793537074923,0.7275737751808774,1.8154766924059507,1.0247197483233457,1.0250453757542621,1.0247805049417498,1.0247167140549274,1.0247170350215382,0.5619968295924862,0.9028727559639529,1.8126776250546055,0.3694752917435676,1.0247164247211158,1.1077419369718378,1.2030895902826715,0.7551327167988114,0.9395102164226301,0.8236818842566235,0.9285041629814227,1.7934063637248503,1.793380034512184,0.4449455250337441,1.0246688699965223,1.0247170562510326,1.0398718972590872,1.106900421092427,1.2030890106607512,0.1887285260827312,1.6947711868044868,1.2030858665631041,1.0246635478646369,1.024704015012717,0.37024732023808204,1.2030904675017782,0.1887775715473922,1.7933893074320342,1.0244049825581047,1.0445719468246957,1.9143503790425642,0.8237810450045493,0.9029002480500867,0.9285161363320938,1.7933685838888458,0.9283981638203543,1.0247176450642965,1.793371983958635,1.1068678295487935,1.024715117260512,1.203089792966945,1.9141788824243013,0.8217972648831239,0.928514938235738,1.7933646909470935,0.8234210837536937,1.8155962114169273,0.8277765258585287,0.8237805845041648,1.1984614239917244,0.8237858056194761,1.515390433803174,1.0247052250747521,0.9284371492556578,1.2029452415772786,0.9091622965972946,0.8237739588370051,0.5571308027114282,1.812677259913575,1.2031294394579792,0.8237013420791294,0.8235919317699314,1.5101931030895448,1.2030476291109011,1.7583629415782798,1.0243604056418463,1.0247020067201922,1.0247297414780718,1.697082299043178,1.1069586660636115,1.2030776359142061,1.0247042443353211,0.8237793836384327,1.203088185186472,1.0247100644388387,1.0247178890948014,0.9285897589104788,0.31564146968985896,1.7870375698805845,1.8126842192149182,1.0247342163157809,1.2026432255839175,1.8127360333758291,1.6971577174141463,1.9141513755962405,1.812566989355549,1.7823288302512856,1.6074026044895924,1.2030868406964148,1.8407021646806676,1.203089505794741,1.8126811164827643,1.0247107516286336,1.0247018394100766,1.812677259913575,1.2030688435933918,0.8237858831103924,1.0247145341286032,0.7457323120060296,1.0247117391018217,1.0244698065071625,1.2030874895494932,1.0246652864009689,0.9333530835204876,1.0247136323292074,1.0247173124997637,1.5977320753196875,0.5275461619686569,1.0245350709643422,0.8237803817093174,1.2030883027974304,1.0247152294441957,1.0247085264622517,0.9284822313935694,0.45590091796028775,1.6971592632205965,1.0248454385537533,0.9285073481161996,1.2030569741812114,1.9356755423048977,1.2031034770804556,1.8126893041545202,1.2030612952391662,1.8127268445991525,1.2029577023087752,1.0247114228014294,1.0247063713918196,1.024328735826538,0.698493739806119,1.2030823510230153,0.9278778387892543,1.8126689249053813,1.0246871449652175,1.801661765973797,0.7275000616731941,1.7583688590730144,1.8716804374101659,1.5101831916232147,1.5101708488124872,1.856135502999023,1.7933715417712566,1.0099723195971746,1.7933761892836015,1.6066133958484252,1.8561564541136018,1.2030918155531534,0.9285049706027668,1.0999183045672518,1.8126528307375425,1.0247082459501382,1.0247174261671272,1.4024177194886933,1.7520527710388825,1.2030822777804882,0.4448843778088768,1.0247113649965534,0.8269757041888006,1.0400583311198932,0.8237959782142676,1.5100086180270154,1.791021639887848,1.024709840965814,1.693885462314999,1.7690490958745222,1.02471960115043,0.7287293999209828,1.2030528267506027,1.6073499465192271,1.5132139112169318,1.7933855133616405,1.024692691170346,1.4139661991167023,1.597733461467384,1.007835496283592,1.0246629774166078,1.2030929433119095,1.5976999679800756,1.0246728540697396,1.0247166273340595,1.1068683289897487,1.7583568633371185,-0.026004096493420337,0.25715239855611466,1.0247481817915014,1.6969657245066623,0.888459990625153,1.2030804209006754,1.4554424717290722,0.9284671390061944,1.6613982665841294,1.5101726266104596,1.0247161581826818,1.0247155553304346,0.9284460610839476,1.759205801661679,1.8126518182308797,1.0247103418168353,1.6358353254434734,1.6939418255853345,1.8126493416320606,0.7763725457108446,1.023453369772909,1.0741711246288044,0.9285119942926404,1.0260281197718324,0.9284889374274643,1.784663133324322,1.0246954259204395,1.7193653267326945,0.5051768523403457,1.5974814025903428,0.7275633724813316,1.6237967264289328,0.8725895767607652,1.59772796890783,1.6939483268673732,0.9219462794276919,0.9231739231547276,1.597727770574919,1.024331270902199,1.1068628062979133,1.2030854974740721,0.9284568064300331,1.8125979447633498,0.7715958408742967,1.1068376950318308,1.018273481161977,0.9740138287014684,1.3592348446518268,1.182010262083167,1.1157710701554413,1.693944548364556,-0.04986709542792801,1.0247163690802925,1.6939493159658603,1.5977282713114127,1.011599596688259,1.1068669255111738,1.024694881657752,1.455374198366694,1.783206130807389,1.2029338503651361,1.2030896494228163,1.6075237716285606,1.019041845062563,1.2032144118431194,1.0246410330364757,1.0247064499566951,0.7275665432095321,1.0247218652042218,1.2031203838866964,1.0211455934543507,0.8329875766477693,1.2029561047908537,1.0247420777863872,1.0247705386203774,1.203112318935102,1.0247083093134595,1.8126731686231496,0.6235333548285875,0.8237850541057422,1.6073951472130203,0.9297843007178317,1.0247306406778307,0.44492253375410123,1.7933722254273425,1.6079228012515288,1.6079754474230938,0.7277009814756488,1.81267613431262,2.192290219398922,0.7114304096145345,1.0246275027937177,0.9285017609362843],\"z\":[-0.5408949903252562,-0.541297710327321,-0.6568533543227024,-0.5075361256413777,0.009562188416359496,-0.3477634297563826,-0.005393104232244012,-0.6738458928378721,-0.5409028168128482,-0.5410994786883624,-0.5409345936534942,-0.5408950633577597,-0.5408954434058205,-0.1976884562146768,-0.40145438779036813,-0.017158196561597002,-0.22498148469738802,-0.5409379612653049,-0.16569813597854832,-0.5075388995566534,-0.9414327631491665,-0.20537503273182509,-0.34856690985338085,-0.19852947437111343,-0.610162434729782,-0.6101460445012501,-0.33701906649972224,-0.5410165035784622,-0.540930423718018,-0.5503291536839001,-0.16517428295826836,-0.5075306084143265,0.09556688501398136,-0.20988725902144378,-0.5075322556733091,-0.5414385634197277,-0.540923026372783,-0.2568569854235773,-0.5075334976240535,0.09557240221842712,-0.6101518169972769,-0.5410613123134771,0.08845803922126673,-0.009196228903648759,-0.3477810649421336,-0.4014699229939729,-0.19853109525953633,-0.6101432421868979,-0.1986378988212262,-0.5408954626787092,-0.6101446377971984,-0.16516120406950555,-0.5409010988033003,-0.5075310950481713,-0.6981559468553855,-0.2028164114552288,-0.1985663979843896,-0.6101545172374543,-0.3478929575646559,-0.6738036048675196,-0.46314002114041647,-0.3477641959410378,-0.5142207746150688,-0.34776330055993215,-0.5293671289883918,-0.5409028714890415,-0.1985616111991589,-0.507579536640211,-0.22217118183785173,-0.3477665601289108,-0.1810140157170713,-0.017165178967872893,-0.5075828118459111,-0.3477872251060741,-0.34782808173253116,-0.5261641763516992,-0.5075549550664783,0.023914208099323802,-0.5413940482179112,-0.5409017091602216,-0.5409390413843912,-0.2677938719716029,-0.16544738009693338,-0.5075415514238529,-0.5409195642733419,-0.34776308790319455,-0.5075311756434913,-0.5408983138509871,-0.54089561459042,-0.1985769261356867,-0.35131961507333914,-0.7622811997726789,-0.017188977429300898,-0.5409057784675757,-0.5077938301696642,-0.017208975777490306,-0.2677696249008011,-0.6658597362967532,-0.017197830750147403,-0.7548460506009157,0.027807275137574056,-0.5075400717927988,-0.6399110110125207,-0.5075323053488247,-0.017178394291164016,-0.5409050645505291,-0.540900763875021,-0.017165178967872893,-0.5075396829614061,-0.3477667734114452,-0.5409054221090993,-0.3265494548892699,-0.5409018797460953,-0.5409757338688023,-0.5075314635727777,-0.5409147787434401,-0.21326330594517157,-0.5408976510182784,-0.5408964509475401,-0.09053151050240767,-0.30808059132141036,-0.54096205103124,-0.3477637092134517,-0.5075335393826949,-0.5409011686388949,-0.5408976928964523,-0.1985298157614243,-0.22959545236907541,-0.26777492192284036,-0.5413355010831322,-0.19853803472453702,-0.5075467135412245,-0.7586934819296783,-0.5075792669699658,-0.017205224891684776,-0.5075494034479934,-0.017333030489804974,-0.5076291099062498,-0.5408992359134012,-0.5408987545780723,-0.541013847872704,-0.01432236671298515,-0.5075408817763545,-0.1988547189841819,-0.01716359518763199,-0.5409143270077243,-0.6975634749981631,-0.0054148381417172264,0.023886552104978434,-0.5439780462248277,-0.5261291675108097,-0.5261611373819898,-0.6600902251844961,-0.6101515722412628,-0.5497406097205779,-0.6101504633267901,-0.0031258202421545612,-0.6601032674869876,-0.5075357813642879,-0.1985304190404475,4.777054279934025,-0.017164967718848123,-0.5409070057732066,-0.5408968404520144,0.010852947119642952,0.08164513759116153,-0.5075361498701487,-0.33712383685260444,-0.5408972249054144,0.03566884443603328,-0.5594573491407132,-0.347801896568755,-0.5264494712832135,-0.5514746072534775,-0.5408981747365367,-0.4329326114270824,0.02143100364600034,-0.5409020113236807,-0.00935235724008847,-0.5075599930828208,0.027704873236928555,-0.5388267853629248,-0.6102251571078546,-0.5409556305631298,-0.18376154767474284,-0.09053417582246849,-0.5484104133760853,-0.5409155042881149,-0.5075510804496453,-0.09054937430626625,-0.5411920167638185,-0.5408962710724141,-0.16516187546260247,0.023921055999258225,0.13757783860800718,-0.25502384756047924,-0.5409981047753839,-0.2679375943416574,-0.39675842371015196,-0.5075342729706918,-0.45601797902880953,-0.19854529408366567,0.07958957314168899,-0.5261370100938176,-0.5408956185349165,-0.5408959642237334,-0.19866771540200648,-0.05399560513829797,-0.017173854252819473,-0.5409017308916713,-0.02557270243355574,-0.43296769819148007,-0.01716942865817856,0.017800519866322338,-0.5419548265197307,-0.15130242189861282,-0.19853788941761208,-0.5453882002258167,-0.19853002500146444,-0.7536294244483913,-0.5409119117985355,-0.33144391423993824,-0.32737833562913066,-0.09060437224546065,-0.005418265440912807,0.015857369832522707,-0.32458704536184607,-0.09053111712841973,-0.4329015050666397,-0.2005262818431649,-0.30670374890460395,-0.09055947202099619,-0.5410154259855768,-0.16517069403342746,-0.507546445332549,-0.19858788797211446,-0.01718429665333554,-0.5689291347729768,-0.16517128383916627,-0.5433726383537794,0.08770823315891965,-0.1136461980162908,-0.1798427959064882,-0.1706963609335001,-0.4329167622642458,0.24335307156374839,-0.540902238560607,-0.4329071261327301,-0.09052855487341406,-0.559693649051433,-0.16516053315034457,-0.5409115729889425,-0.45613409173334896,-0.7544888032384298,-0.5075854229627587,-0.507541820256309,0.027416422401729406,-0.5499792074948275,-0.507608671688452,-0.5409198679433374,-0.5409080521452899,-0.0053916663764461805,-0.5408980897628796,-0.507730381002878,-0.5424569187984226,-0.3535562128045099,-0.5078083581995104,-0.5409160796036859,-0.5410725837200732,-0.5076200987052284,-0.5409473287548071,-0.017158666753101022,-0.2638469053677424,-0.3477968986170224,0.02779932979741216,-0.20292858217163098,-0.5410116982526635,-0.33702508488702726,-0.6101412265171061,0.027528507543059067,0.02749573471410253,-0.0058282710322768525,-0.017160381040635758,-0.03743677787355952,0.0057227799012126174,-0.5409294694929179,-0.19852250690084977]},{\"customdata\":[[\"SHA-256\"],[\"Ethash\"],[\"Scrypt\"],[\"CryptoNight-V7\"],[\"Ethash\"],[\"Equihash\"],[\"Multiple\"],[\"Scrypt\"],[\"X11\"],[\"Scrypt\"],[\"Multiple\"],[\"Scrypt\"],[\"SHA-256\"],[\"Scrypt\"],[\"Scrypt\"],[\"Quark\"],[\"Groestl\"],[\"Scrypt\"],[\"Scrypt\"],[\"Scrypt\"],[\"X11\"],[\"Multiple\"],[\"SHA-256\"],[\"Scrypt\"],[\"Scrypt\"],[\"Scrypt\"],[\"Scrypt\"],[\"Scrypt\"],[\"NeoScrypt\"],[\"Scrypt\"],[\"Scrypt\"],[\"Scrypt\"],[\"Scrypt\"],[\"SHA-256\"],[\"Scrypt\"],[\"Scrypt\"],[\"Scrypt\"],[\"Scrypt\"],[\"HybridScryptHash256\"],[\"Scrypt\"],[\"Scrypt\"],[\"SHA-256\"],[\"Scrypt\"],[\"Scrypt\"],[\"Scrypt\"],[\"Scrypt\"],[\"SHA-256\"],[\"SHA-256\"],[\"SHA-256\"],[\"SHA-256\"],[\"SHA-256\"],[\"X11\"],[\"Scrypt\"],[\"Lyra2REv2\"],[\"Scrypt\"],[\"SHA-256\"],[\"CryptoNight\"],[\"CryptoNight\"],[\"Scrypt\"],[\"Scrypt\"],[\"Scrypt\"],[\"Scrypt\"],[\"Scrypt\"],[\"Scrypt\"],[\"Stanford Folding\"],[\"Multiple\"],[\"QuBit\"],[\"Scrypt\"],[\"Scrypt\"],[\"M7 POW\"],[\"Scrypt\"],[\"SHA-256\"],[\"Scrypt\"],[\"SHA3\"],[\"X11\"],[\"Lyra2RE\"],[\"SHA-256\"],[\"X11\"],[\"Scrypt\"],[\"Scrypt\"],[\"Ethash\"],[\"Blake2b\"],[\"X11\"],[\"SHA-256\"],[\"Scrypt\"],[\"1GB AES Pattern Search\"],[\"Scrypt\"],[\"SHA-256\"],[\"X11\"],[\"Dagger\"],[\"Scrypt\"],[\"X11GOST\"],[\"Scrypt\"],[\"X11\"],[\"Scrypt\"],[\"X11\"],[\"Equihash\"],[\"CryptoNight\"],[\"SHA-256\"],[\"Multiple\"],[\"Scrypt\"],[\"SHA-256\"],[\"Scrypt\"],[\"Lyra2Z\"],[\"Ethash\"],[\"Equihash\"],[\"Scrypt\"],[\"X11\"],[\"X11\"],[\"CryptoNight\"],[\"Scrypt\"],[\"CryptoNight\"],[\"Lyra2RE\"],[\"X11\"],[\"CryptoNight-V7\"],[\"Scrypt\"],[\"X11\"],[\"Equihash\"],[\"Scrypt\"],[\"Lyra2RE\"],[\"Dagger-Hashimoto\"],[\"Scrypt\"],[\"NIST5\"],[\"Scrypt\"],[\"SHA-256\"],[\"Scrypt\"],[\"CryptoNight-V7\"],[\"Argon2d\"],[\"Blake2b\"],[\"Cloverhash\"],[\"CryptoNight\"],[\"X11\"],[\"Scrypt\"],[\"Scrypt\"],[\"X11\"],[\"X11\"],[\"CryptoNight\"],[\"Time Travel\"],[\"Scrypt\"],[\"Keccak\"],[\"X11\"],[\"SHA-256\"],[\"Scrypt\"],[\"Scrypt\"],[\"Scrypt\"],[\"Scrypt\"],[\"Scrypt\"],[\"Scrypt\"],[\"CryptoNight\"],[\"Equihash\"],[\"X11\"],[\"NeoScrypt\"],[\"Equihash\"],[\"Dagger\"],[\"Scrypt\"],[\"X11\"],[\"NeoScrypt\"],[\"Ethash\"],[\"NeoScrypt\"],[\"Multiple\"],[\"CryptoNight\"],[\"CryptoNight\"],[\"Ethash\"],[\"X11\"],[\"CryptoNight-V7\"],[\"Scrypt\"],[\"BLAKE256\"],[\"X11\"],[\"NeoScrypt\"],[\"NeoScrypt\"],[\"Scrypt\"],[\"X11\"],[\"SHA-256\"],[\"C11\"],[\"CryptoNight\"],[\"SkunkHash\"],[\"CryptoNight\"],[\"Scrypt\"],[\"Dagger\"],[\"Lyra2REv2\"],[\"SHA-256 + Hive\"],[\"Scrypt\"],[\"Scrypt\"],[\"X11\"],[\"Ethash\"],[\"CryptoNight\"],[\"Scrypt\"],[\"IMesh\"],[\"Equihash\"],[\"Lyra2Z\"],[\"X11\"],[\"CryptoNight\"],[\"NIST5\"],[\"Lyra2RE\"],[\"Tribus\"],[\"Lyra2Z\"],[\"CryptoNight\"],[\"CryptoNight Heavy\"],[\"CryptoNight\"],[\"Jump Consistent Hash\"],[\"CryptoNight\"],[\"X16R\"],[\"HMQ1725\"],[\"X11\"],[\"Scrypt\"],[\"CryptoNight-V7\"],[\"Cryptonight-GPU\"],[\"XEVAN\"],[\"CryptoNight Heavy\"],[\"SHA-256\"],[\"X11\"],[\"X16R\"],[\"Equihash\"],[\"Lyra2Z\"],[\"SHA-256\"],[\"CryptoNight\"],[\"Blake\"],[\"Blake\"],[\"Exosis\"],[\"Scrypt\"],[\"Equihash\"],[\"Equihash\"],[\"QuBit\"],[\"SHA-256\"],[\"X13\"],[\"SHA-256\"],[\"Scrypt\"],[\"NeoScrypt\"],[\"Blake\"],[\"Scrypt\"],[\"SHA-256\"],[\"Scrypt\"],[\"Groestl\"],[\"Scrypt\"],[\"Scrypt\"],[\"Multiple\"],[\"Equihash+Scrypt\"],[\"Ethash\"],[\"CryptoNight\"],[\"Equihash\"]],\"hovertemplate\":\"<b>%{hovertext}</b><br><br>Class=%{marker.color}<br>PC 1=%{x}<br>PC 2=%{y}<br>PC 3=%{z}<br>Algorithm=%{customdata[0]}<extra></extra>\",\"hovertext\":[\"Bitcoin\",\"Ethereum\",\"Litecoin\",\"Monero\",\"Ethereum Classic\",\"ZCash\",\"DigiByte\",\"ProsperCoin\",\"Spreadcoin\",\"Argentum\",\"MyriadCoin\",\"MoonCoin\",\"ZetaCoin\",\"SexCoin\",\"Quatloo\",\"QuarkCoin\",\"Riecoin\",\"Digitalcoin \",\"Catcoin\",\"CannaCoin\",\"CryptCoin\",\"Verge\",\"DevCoin\",\"EarthCoin\",\"E-Gulden\",\"Einsteinium\",\"Emerald\",\"Franko\",\"FeatherCoin\",\"GrandCoin\",\"GlobalCoin\",\"GoldCoin\",\"Infinite Coin\",\"IXcoin\",\"KrugerCoin\",\"LuckyCoin\",\"Litebar \",\"MegaCoin\",\"MediterraneanCoin\",\"MinCoin\",\"NobleCoin\",\"Namecoin\",\"NyanCoin\",\"RonPaulCoin\",\"StableCoin\",\"SmartCoin\",\"SysCoin\",\"TigerCoin\",\"TerraCoin\",\"UnbreakableCoin\",\"Unobtanium\",\"UroCoin\",\"ViaCoin\",\"Vertcoin\",\"WorldCoin\",\"JouleCoin\",\"ByteCoin\",\"DigitalNote \",\"MonaCoin\",\"Gulden\",\"PesetaCoin\",\"Wild Beast Coin\",\"Flo\",\"ArtByte\",\"Folding Coin\",\"Unitus\",\"CypherPunkCoin\",\"OmniCron\",\"GreenCoin\",\"Cryptonite\",\"MasterCoin\",\"SoonCoin\",\"1Credit\",\"Nexus\",\"MarsCoin \",\"Crypto\",\"Anarchists Prime\",\"BowsCoin\",\"Song Coin\",\"BitZeny\",\"Expanse\",\"Siacoin\",\"MindCoin\",\"I0coin\",\"Revolution VR\",\"HOdlcoin\",\"Gamecredits\",\"CarpeDiemCoin\",\"Adzcoin\",\"SoilCoin\",\"YoCoin\",\"SibCoin\",\"Francs\",\"BolivarCoin\",\"Omni\",\"PizzaCoin\",\"Komodo\",\"Karbo\",\"ZayedCoin\",\"Circuits of Value\",\"DopeCoin\",\"DollarCoin\",\"Shilling\",\"ZCoin\",\"Elementrem\",\"ZClassic\",\"KiloCoin\",\"ArtexCoin\",\"Kurrent\",\"Cannabis Industry Coin\",\"OsmiumCoin\",\"Bikercoins\",\"HexxCoin\",\"PacCoin\",\"Citadel\",\"BeaverCoin\",\"VaultCoin\",\"Zero\",\"Canada eCoin\",\"Zoin\",\"DubaiCoin\",\"EB3coin\",\"Coinonat\",\"BenjiRolls\",\"ILCoin\",\"EquiTrader\",\"Quantum Resistant Ledger\",\"Dynamic\",\"Nano\",\"ChanCoin\",\"Dinastycoin\",\"DigitalPrice\",\"Unify\",\"SocialCoin\",\"ArcticCoin\",\"DAS\",\"LeviarCoin\",\"Bitcore\",\"gCn Coin\",\"SmartCash\",\"Onix\",\"Bitcoin Cash\",\"Sojourn Coin\",\"NewYorkCoin\",\"FrazCoin\",\"Kronecoin\",\"AdCoin\",\"Linx\",\"Sumokoin\",\"BitcoinZ\",\"Elements\",\"VIVO Coin\",\"Bitcoin Gold\",\"Pirl\",\"eBoost\",\"Pura\",\"Innova\",\"Ellaism\",\"GoByte\",\"SHIELD\",\"UltraNote\",\"BitCoal\",\"DaxxCoin\",\"AC3\",\"Lethean\",\"PopularCoin\",\"Photon\",\"Sucre\",\"SparksPay\",\"GunCoin\",\"IrishCoin\",\"Pioneer Coin\",\"UnitedBitcoin\",\"Interzone\",\"TurtleCoin\",\"MUNcoin\",\"Niobio Cash\",\"ShareChain\",\"Travelflex\",\"KREDS\",\"LitecoinCash\",\"BitFlip\",\"LottoCoin\",\"Crypto Improvement Fund\",\"Callisto Network\",\"BitTube\",\"Poseidon\",\"Aidos Kuneen\",\"Bitrolium\",\"Alpenschillling\",\"FuturoCoin\",\"Monero Classic\",\"Jumpcoin\",\"Infinex\",\"KEYCO\",\"GINcoin\",\"PlatinCoin\",\"Loki\",\"Newton Coin\",\"MassGrid\",\"PluraCoin\",\"Motion\",\"PlusOneCoin\",\"Axe\",\"HexCoin\",\"Webchain\",\"Ryo\",\"Urals Coin\",\"Qwertycoin\",\"Project Pai\",\"Azart\",\"Xchange\",\"CrypticCoin\",\"Actinium\",\"Bitcoin SV\",\"FREDEnergy\",\"Universal Molecule\",\"Lithium\",\"Exosis\",\"Block-Logic\",\"Beam\",\"Bithereum\",\"SLICE\",\"BLAST\",\"Bitcoin Rhodium\",\"GlobalToken\",\"SolarCoin\",\"UFO Coin\",\"BlakeCoin\",\"Crypto Escudo\",\"Crown Coin\",\"SmileyCoin\",\"Groestlcoin\",\"Bata\",\"Pakcoin\",\"JoinCoin\",\"Vollar\",\"Reality Clash\",\"Beldex\",\"Horizen\"],\"legendgroup\":\"3\",\"marker\":{\"color\":[3,3,3,3,3,3,3,3,3,3,3,3,3,3,3,3,3,3,3,3,3,3,3,3,3,3,3,3,3,3,3,3,3,3,3,3,3,3,3,3,3,3,3,3,3,3,3,3,3,3,3,3,3,3,3,3,3,3,3,3,3,3,3,3,3,3,3,3,3,3,3,3,3,3,3,3,3,3,3,3,3,3,3,3,3,3,3,3,3,3,3,3,3,3,3,3,3,3,3,3,3,3,3,3,3,3,3,3,3,3,3,3,3,3,3,3,3,3,3,3,3,3,3,3,3,3,3,3,3,3,3,3,3,3,3,3,3,3,3,3,3,3,3,3,3,3,3,3,3,3,3,3,3,3,3,3,3,3,3,3,3,3,3,3,3,3,3,3,3,3,3,3,3,3,3,3,3,3,3,3,3,3,3,3,3,3,3,3,3,3,3,3,3,3,3,3,3,3,3,3,3,3,3,3,3,3,3,3,3,3,3,3,3,3,3,3,3,3,3,3,3,3,3,3,3,3,3,3,3,3,3,3,3,3,3,3,3,3,3,3],\"coloraxis\":\"coloraxis\",\"symbol\":\"diamond\"},\"mode\":\"markers\",\"name\":\"3\",\"scene\":\"scene\",\"showlegend\":true,\"type\":\"scatter3d\",\"x\":[-0.15180303044948007,-0.15593150471845735,-0.17527287857809726,-0.1519692439564091,-0.15437462676247843,-0.1653701152922938,0.16030201454249676,-0.1764181840276096,-0.22453717515417213,-0.1760350059711587,-0.09290406705887103,2.5435556440735843,-0.14889035830652508,-0.17329259459579896,-0.17583916043869974,-0.23755333006847426,-0.20067397591637284,-0.1758879596066067,-0.17640046586803035,-0.17648685494756236,-0.2246264405555501,0.18402391207815624,0.22573538770689788,0.07204013137699547,-0.17623336538460405,-0.17184221548529857,-0.1761726980974294,-0.1765438096920925,-0.17038317514050405,-0.1557827345004518,-0.17533990921854903,-0.1756171062396872,1.5709300422562498,-0.15176443434644626,-0.17290864932872252,-0.17625978477561288,-0.17661430771535422,-0.17587416241680462,-0.16620269789428938,-0.17649566810553027,-0.04150064806025855,-0.15184197564374002,-0.17016478397077833,-0.17647511261963117,-0.17457083121081818,-0.175962271751437,-0.13900431821061007,-0.1513061861333679,-0.15159314175554608,-0.15157608923669988,-0.15216637900591137,-0.22480020472068418,-0.17619185221407338,-0.20238797967223737,-0.17329728299593689,-0.15137342365865952,3.853635896086713,0.455397299627469,-0.1750603430364586,-0.15967080277315,-0.17378021899037488,-0.17661651328613906,-0.17364538761908047,-0.15988015351721047,-0.12320982346933583,-0.12688308238837254,-0.18161366061613665,-0.1764897031187198,-0.049527203624284574,-0.13099183712987775,-0.1766254006769718,-0.1518697284009223,0.47507663123665417,0.1545305136432955,-0.22418789167932743,-0.15704187397062241,-0.1516097773589764,-0.22447255304725308,-0.1747505666611582,-0.17394347377103878,-0.15699798802761042,0.35248075632609294,-0.22450792514390386,-0.15176555569724795,-0.17258657698557436,-0.16087174427873138,-0.17518991913892673,0.26637493874700363,-0.22366930165187504,-0.16496007089892267,-0.1754370086654129,-0.15967469008075175,-0.17641547293059448,-0.22447118899982266,-0.17662545912384006,-0.22462102646880305,-0.30240201124427313,0.30042648963001656,-0.15202542441830538,-0.10697166402485044,-0.17379442146131754,-0.1519840897082461,-0.1762891188978216,-0.15301548975580234,-0.15674036190538815,-0.16539171310619333,-0.10340306426592921,-0.21121564158999612,-0.22245083414612427,0.3004208734637659,-0.17660721038885527,0.300551478495154,-0.15758191319803286,0.49012281799961244,-0.15073479721782598,-0.17657552487738912,-0.21736023217764483,-0.16540408230983053,-0.17471032177578197,-0.1573005290654946,-0.15633653155378338,-0.1475196781763851,-0.1874765958521015,-0.1761382482122316,-0.11837716683077244,-0.17596042227050604,-0.15059276754755546,-0.1456097687486591,-0.04746559833248958,-0.16139060852741857,0.3365134048997909,-0.22367766617112908,-0.17627947055353085,-0.17604298675366575,-0.22407204883056225,-0.22464904232464977,0.30081555397184484,-0.14562127667069277,3.2303085354949346,-0.10066506722990597,-0.21552783740630566,-0.15180219541043619,-0.10225115057149124,1.5688390728354753,-0.1763772300522497,-0.17582927503823165,-0.17553049482121924,-0.17551743737541525,0.3009990473059846,0.04676148773998373,-0.17907417015213298,-0.1750681555141988,-0.16525026518239053,-0.16372010130714187,-0.17470853252402355,-0.220196990442746,-0.17491368082912204,-0.15510667825610022,-0.1750138144982375,-0.1171227038514479,1.1377316466466658,0.3004036470693628,-0.08004971607965283,-0.2199385266121634,-0.1397133244717929,-0.09283287605182104,1.1050381385025247,-0.22462306285788614,-0.17506572437547485,-0.1681091473228234,-0.1756288384672499,-0.22454853238128608,-0.15178161225679113,-0.20736212793041092,8.032697516372865,-0.14889511138932873,0.30427506368175133,0.016256604610759614,-0.16322383414577207,-0.1879575169782075,-0.12427982101400556,-0.17620208498163373,0.13062561430775388,-0.21869401674665884,-0.108178668895522,0.30832105386970454,-0.17643891026203964,-0.16590673245414023,-0.16424218814154137,-0.15080060205521684,-0.2237184023947087,0.3005860114706108,-0.18753604070870528,-0.15742726760400752,-0.16784211530537813,-0.15309980575717205,0.3045115082521283,0.5863609735492661,2.1077087062147863,-0.1446005488596038,0.3141801724641834,-0.20649096027330224,-0.13531647831398644,-0.22460523732698515,-0.1764634688116418,-0.1395923156240482,-0.16752303813363453,-0.12413969694393338,3.106921247861257,-0.11166287173051627,-0.22457662307802373,-0.20591908802680273,-0.060079931550267786,-0.1524979957611331,-0.15180223294253153,0.3802860177605175,-0.14925964839490458,-0.1496514302640661,-0.1720104290281064,-0.17535662000627647,-0.16331177194930271,-0.16508321938864295,-0.18082520238461894,-0.15107896117008857,-0.11091061429714205,-0.14994776754093467,0.5189651565041574,-0.10029250271694902,-0.10015163091505816,-0.16003060595722027,-0.1515925127654034,0.5386435891951309,-0.20023533797628945,-0.17654026158136463,-0.17449755412555257,-0.1276173117485001,-0.12016008026096266,-0.15677349327342133,0.3221432865728861,-0.1653711713020485],\"y\":[-1.3017266129941767,-2.055248789160096,-1.1007981077298858,-2.249666580274918,-2.0553274210262535,-2.079137772085028,-1.8428342919118659,-1.1008032448199438,-0.9224279502303362,-1.1008166184724575,-1.8404783336508403,-1.2499470883585497,-1.3017056851121995,-1.100828514981032,-1.1008331074211841,-0.43152944507111174,-1.2226492192212992,-1.100799489601019,-1.1008024943749395,-1.100800742195245,-0.922430354144463,-1.838769437753748,-1.300178954944294,-1.0995594059600085,-1.100795416906068,-1.1008013640048362,-1.1008004202281654,-1.1008018435671094,-1.6805922636358863,-1.100892788902694,-1.100791308599727,-1.1008045951935057,-1.0891534267981802,-1.301724978272889,-1.1008228694669195,-1.1007958474462596,-1.1007980236744064,-1.1007946602953829,-2.1915497644482547,-1.1007989537657623,-1.1054010392529057,-1.3017282625010762,-1.1007559323408842,-1.1008056560058943,-1.1008826541413008,-1.1008047257920115,-1.301781408027026,-1.3017234770914234,-1.3017321805251327,-1.3017576190582323,-1.3017277172999104,-0.9224253218998244,-1.1007950355170744,-1.2023337058148282,-1.1008393298781987,-1.3017249397850934,-2.257537901098605,-2.281358166364282,-1.1008036457677548,-1.1012360415189202,-1.1007916047362805,-1.100798996918918,-1.100781497622936,-1.100776768113021,-2.274194816203312,-1.8405406167527665,-1.5979505101795966,-1.1007941376731951,-1.102298791974408,-2.1114013150277846,-1.1007979905901908,-1.3017294379571314,-1.1365316435614228,-0.7506464700209067,-0.922422106221773,-2.2705181197346036,-1.3017409811935086,-0.9224259016305971,-1.100862894316149,-1.100856082687644,-2.0553055986694138,-2.1026045909278888,-0.9224239575919116,-1.301725025767218,-1.1007710742411911,-2.146458156163304,-1.1007945940186374,-1.2988888415733826,-0.9224352520924067,-2.1905716127725428,-1.1008631303425636,-2.2342274386523413,-1.1008024415508846,-0.9224285976238175,-1.100797990979704,-0.9224349439251612,-1.6316620451496686,-2.281044355416936,-1.3017282777872845,-1.8405234072780015,-1.1008153475556228,-1.3017271482530592,-1.1008039742975,-2.217960671400245,-2.055301088943441,-2.079138686851117,-1.1045806808044014,-0.92219417444777,-0.9224827800339573,-2.2810521661461025,-1.1007986623015995,-2.2810493881932143,-2.2705025853186727,-0.9609892372813655,-2.249741657533279,-1.1007977648118874,-0.9227986467883081,-2.079136456976538,-1.1007852959467115,-2.270498240274711,-2.1960362181067468,-1.1023185706590843,-0.6153435454080207,-1.100801384708357,-1.302017521975853,-1.100818967045721,-2.249680566590666,-2.3357240867450115,-2.119778410778619,-2.1895625139937804,-2.2808859087054487,-0.9224466214354535,-1.1007961833478406,-1.1008245293539236,-0.9224357876742095,-0.9224319310301842,-2.2810581682000897,-2.246070041466062,-1.0941866903821,-1.354562903160126,-0.9227898806699669,-1.30172657762646,-1.1048761128545204,-1.0268691695096048,-1.1008008217902734,-1.1008216736618703,-1.1008200340221457,-1.1008194809796632,-2.2810744153849947,-2.0845958483165314,-0.9217278105238399,-1.6805779654680475,-2.079132695885339,-2.190606049219237,-1.1007852201637254,-0.9224713093456898,-1.6805838147102903,-2.055406617671448,-1.6805789683979975,-1.8405815916634722,-2.304091318163371,-2.281047044008024,-2.0589192658972517,-0.9225980505647106,-2.249835570862762,-1.1006907764670053,-1.3171372405529556,-0.9224314502786232,-1.6805737318479244,-1.6806088526102048,-1.1007994154230911,-0.9224304965859353,-1.3017251316754785,-1.2370560432873412,-2.6419821833333237,-2.1697473085515857,-2.2811057827227907,-1.0995125471623872,-2.190546266134114,-1.2024219665768134,-0.9837799313530654,-1.1008071724306867,-1.1004562127276143,-0.9225109178006048,-2.0577011095529354,-2.2813915418531145,-1.1008041226706593,-2.161365018635974,-2.0791237328613046,-2.218058660649265,-0.9224483468006254,-2.28104338184862,-0.6153273017556494,-2.2705072432030784,-2.246427951960274,-2.217956738553405,-2.2812775171844613,-2.182604622196779,-2.3311640881550857,-2.1462025854256415,-2.2811433814132602,-1.2529167793543694,-2.2353830517187334,-0.9224315214160118,-1.1008059237465866,-2.250347133817637,-2.285518575584882,-0.6701233396391024,-2.202740956346043,-1.301457764218031,-0.9224330632387049,-1.2529462042908792,-2.0798959515448647,-2.217981849616771,-1.301726579216116,-2.283217664204006,-2.15628368146343,-2.1562452747796974,-2.038013296776448,-1.1008264384636894,-2.079217057047645,-2.0791324266676217,-1.5979859595429395,-1.3017255483460395,-0.33214296787605246,-1.301749235066368,-1.1388722584743105,-1.6801460538940298,-2.158950455585459,-1.1007831404611979,-1.3017321538845266,-1.1049247404483478,-1.2226450981766381,-1.1007974002946135,-1.100832736485341,-1.8405736423572967,-2.162918950335112,-2.055301309744191,-2.2810816370913627,-2.079137816811865],\"z\":[0.17220982588363581,0.31514974505327764,-0.020946756357165704,0.32799955426666283,0.31512299230521523,0.42097085084004965,0.26704711943410603,-0.020920847872797424,0.01244192139554566,-0.02092802350282719,0.2724297342482178,-0.06649601596218001,0.1721431593870136,-0.02098766810250457,-0.020930736427495607,0.08696665546789985,0.11849977096564392,-0.02093297848842093,-0.020921315033181846,-0.020919572368302445,0.012444138829964254,0.2661190605753406,0.16368376551156869,-0.026554135920910753,-0.02092572083648867,-0.02102251934870916,-0.020926571553533533,-0.02091820032016985,0.18285387407645143,-0.02136964469885822,-0.020945942094072384,-0.02093848058361988,-0.06082540852072255,0.17220880825141177,-0.020996741473294948,-0.02092509233488607,-0.02091701455342184,-0.02093376203125027,0.3705014653489501,-0.02091955376103134,-0.023458382342852326,0.1722108527200873,-0.021064213846785144,-0.020919346882651655,-0.020953965871428254,-0.02093081261423351,0.17193139544650252,0.17219849681108523,0.17220572153758856,0.17220785885794193,0.17221799340106939,0.012447494941128132,-0.020926679226455303,0.21325882573593366,-0.0209864946836923,0.17220013263956294,0.2536175584996006,0.3313389274769657,-0.020950922321262458,-0.021249472598277853,-0.020980503504249296,-0.02091686939836907,-0.02098449323442265,-0.021290245253944805,0.2729058550454653,0.2731894772377391,0.21191493681893267,-0.0209201622952603,-0.02358713821294945,0.4365377936993939,-0.020916771806103397,0.17221158445459148,-0.031836619925612694,-1.242052304302476,0.01243359712312181,0.36772614173775797,0.1722069607419496,0.012440285633828638,-0.020951933678214376,-0.020970506897678386,0.3151790150948979,0.3957960978947763,0.012440877875725058,0.1722088378171616,-0.02100900618240826,0.3462267772405579,-0.020948943681605877,0.16265489067070416,0.012423395812075765,0.3920311159475053,-0.020936686478835696,0.3533489876236246,-0.020920987431213855,0.012440521977548507,-0.02091677047135573,0.012444472620914675,0.7550263175186631,0.3347448271266932,0.1722149227449547,0.27274618150940183,-0.020977840695078485,0.17221389433192685,-0.020923638134670637,0.3789142140259533,0.3151728555340326,0.4209714202921412,-0.022166636966589524,0.012123360308275155,0.012401072569162515,0.33474572405185926,-0.020917108806236484,0.3347425528030766,0.36773658255433844,0.00040540916908915725,0.3279796008739096,-0.020917900274146625,0.012319408315898853,0.42097147411247454,-0.02096049960359196,0.367729912374801,0.30218113686418274,-0.02141191256934517,-0.006157131887077951,-0.020927240207124227,0.1714972763354723,-0.020929445374033014,0.32797040992334875,0.37737074002117005,0.406364325419748,0.381950637548675,0.333928826073036,0.012424705586411941,-0.02092462252926887,-0.020927064231736688,0.012432380870488464,0.012444796021933876,0.33473756437485136,0.31892975622003794,-0.09712926300144425,-0.0502203684036152,0.01227790275626713,0.1722098038668474,-0.022162969986448972,-0.0669380641370229,-0.020921995750258823,-0.02093208630167702,-0.020938874764203773,-0.020939219039317145,0.3347351014893082,0.41680593819242306,0.011364412372758582,0.18295636333688345,0.4209676908491278,0.3920070212699069,-0.020960546779345945,0.012349952702884383,0.18295351581584027,0.3151470591128849,0.1829552573414096,0.2729770641255443,0.31845415311503167,0.3347455995908009,0.3138298024389571,0.012356753418864113,0.3277444541663461,-0.022785718140155228,0.03647831810589894,0.012444172311746573,0.18295589077433175,0.18280508127073725,-0.020938732592921745,0.012442425073709785,0.17220920439116866,0.12321941923244256,0.19895072339794392,0.25217396848886264,0.3346655480262587,-0.025321606683156153,0.39199010339515683,0.21294751574415416,4.651155310533139,-0.020925252116412874,-0.027764758944050713,0.012320536578023277,0.3143331858905245,0.3346040738787031,-0.02092030140093611,0.35917468755874277,0.42094444747563614,0.37887478215712656,0.012425779645474378,0.33474119299108895,-0.00615741979012591,0.36773361343450955,0.4119678213494844,0.3789156950772311,0.3346772862768157,0.21737024179957304,0.29961918671014154,0.37353654085142957,0.33444959123718415,0.19540789107845255,0.2770038084090527,0.0124437840129261,-0.020919578642405134,0.3277923567562129,0.38334050656530383,0.06393809726823199,0.16346064113389838,0.17129301510108957,0.012443301872620475,0.19539811784686495,0.4187107061629205,0.3789048313076381,0.17220980485642587,0.33318861784237386,0.3404772107151583,0.34048210174843835,0.36141377982029377,-0.02094209763855381,0.4209330412119061,0.420963959498127,0.21190095588978056,0.17219366225043148,-0.09016330146148566,0.17217091700268686,-0.03257852278268493,0.1812552845464827,0.33965180286426716,-0.02128627839613492,0.17220570495351412,-0.036371877279660306,0.11848963537320992,-0.020918718386487654,-0.02096052715281652,0.27320902668540115,0.3030644090154221,0.31517361215310874,0.3342668802477033,0.4209708786830038]},{\"customdata\":[[\"Proof-of-BibleHash\"],[\"Proof-of-Authority\"],[\"ECC 256K1\"],[\"Leased POS\"]],\"hovertemplate\":\"<b>%{hovertext}</b><br><br>Class=%{marker.color}<br>PC 1=%{x}<br>PC 2=%{y}<br>PC 3=%{z}<br>Algorithm=%{customdata[0]}<extra></extra>\",\"hovertext\":[\"BiblePay\",\"Poa Network\",\"Acute Angle Cloud\",\"Waves\"],\"legendgroup\":\"1\",\"marker\":{\"color\":[1,1,1,1],\"coloraxis\":\"coloraxis\",\"symbol\":\"square\"},\"mode\":\"markers\",\"name\":\"1\",\"scene\":\"scene\",\"showlegend\":true,\"type\":\"scatter3d\",\"x\":[-0.20939651270257945,-0.3107509445881901,-0.34940509659350966,-0.43376297163129524],\"y\":[3.766203244079108,1.1936538004847392,4.570205242267348,3.5767332629704023],\"z\":[17.653480485221333,14.364834707573074,9.730505327295289,18.57994719845603]},{\"customdata\":[[\"TRC10\"]],\"hovertemplate\":\"<b>%{hovertext}</b><br><br>Class=%{marker.color}<br>PC 1=%{x}<br>PC 2=%{y}<br>PC 3=%{z}<br>Algorithm=%{customdata[0]}<extra></extra>\",\"hovertext\":[\"BitTorrent\"],\"legendgroup\":\"2\",\"marker\":{\"color\":[2],\"coloraxis\":\"coloraxis\",\"symbol\":\"x\"},\"mode\":\"markers\",\"name\":\"2\",\"scene\":\"scene\",\"showlegend\":true,\"type\":\"scatter3d\",\"x\":[34.0430036671286],\"y\":[1.9244940454375652],\"z\":[-0.8308798046541686]}],                        {\"coloraxis\":{\"colorbar\":{\"title\":{\"text\":\"Class\"}},\"colorscale\":[[0.0,\"#0d0887\"],[0.1111111111111111,\"#46039f\"],[0.2222222222222222,\"#7201a8\"],[0.3333333333333333,\"#9c179e\"],[0.4444444444444444,\"#bd3786\"],[0.5555555555555556,\"#d8576b\"],[0.6666666666666666,\"#ed7953\"],[0.7777777777777778,\"#fb9f3a\"],[0.8888888888888888,\"#fdca26\"],[1.0,\"#f0f921\"]]},\"legend\":{\"title\":{\"text\":\"Class\"},\"tracegroupgap\":0,\"x\":0,\"y\":1},\"margin\":{\"t\":60},\"scene\":{\"domain\":{\"x\":[0.0,1.0],\"y\":[0.0,1.0]},\"xaxis\":{\"title\":{\"text\":\"PC 1\"}},\"yaxis\":{\"title\":{\"text\":\"PC 2\"}},\"zaxis\":{\"title\":{\"text\":\"PC 3\"}}},\"template\":{\"data\":{\"bar\":[{\"error_x\":{\"color\":\"#2a3f5f\"},\"error_y\":{\"color\":\"#2a3f5f\"},\"marker\":{\"line\":{\"color\":\"#E5ECF6\",\"width\":0.5},\"pattern\":{\"fillmode\":\"overlay\",\"size\":10,\"solidity\":0.2}},\"type\":\"bar\"}],\"barpolar\":[{\"marker\":{\"line\":{\"color\":\"#E5ECF6\",\"width\":0.5},\"pattern\":{\"fillmode\":\"overlay\",\"size\":10,\"solidity\":0.2}},\"type\":\"barpolar\"}],\"carpet\":[{\"aaxis\":{\"endlinecolor\":\"#2a3f5f\",\"gridcolor\":\"white\",\"linecolor\":\"white\",\"minorgridcolor\":\"white\",\"startlinecolor\":\"#2a3f5f\"},\"baxis\":{\"endlinecolor\":\"#2a3f5f\",\"gridcolor\":\"white\",\"linecolor\":\"white\",\"minorgridcolor\":\"white\",\"startlinecolor\":\"#2a3f5f\"},\"type\":\"carpet\"}],\"choropleth\":[{\"colorbar\":{\"outlinewidth\":0,\"ticks\":\"\"},\"type\":\"choropleth\"}],\"contour\":[{\"colorbar\":{\"outlinewidth\":0,\"ticks\":\"\"},\"colorscale\":[[0.0,\"#0d0887\"],[0.1111111111111111,\"#46039f\"],[0.2222222222222222,\"#7201a8\"],[0.3333333333333333,\"#9c179e\"],[0.4444444444444444,\"#bd3786\"],[0.5555555555555556,\"#d8576b\"],[0.6666666666666666,\"#ed7953\"],[0.7777777777777778,\"#fb9f3a\"],[0.8888888888888888,\"#fdca26\"],[1.0,\"#f0f921\"]],\"type\":\"contour\"}],\"contourcarpet\":[{\"colorbar\":{\"outlinewidth\":0,\"ticks\":\"\"},\"type\":\"contourcarpet\"}],\"heatmap\":[{\"colorbar\":{\"outlinewidth\":0,\"ticks\":\"\"},\"colorscale\":[[0.0,\"#0d0887\"],[0.1111111111111111,\"#46039f\"],[0.2222222222222222,\"#7201a8\"],[0.3333333333333333,\"#9c179e\"],[0.4444444444444444,\"#bd3786\"],[0.5555555555555556,\"#d8576b\"],[0.6666666666666666,\"#ed7953\"],[0.7777777777777778,\"#fb9f3a\"],[0.8888888888888888,\"#fdca26\"],[1.0,\"#f0f921\"]],\"type\":\"heatmap\"}],\"heatmapgl\":[{\"colorbar\":{\"outlinewidth\":0,\"ticks\":\"\"},\"colorscale\":[[0.0,\"#0d0887\"],[0.1111111111111111,\"#46039f\"],[0.2222222222222222,\"#7201a8\"],[0.3333333333333333,\"#9c179e\"],[0.4444444444444444,\"#bd3786\"],[0.5555555555555556,\"#d8576b\"],[0.6666666666666666,\"#ed7953\"],[0.7777777777777778,\"#fb9f3a\"],[0.8888888888888888,\"#fdca26\"],[1.0,\"#f0f921\"]],\"type\":\"heatmapgl\"}],\"histogram\":[{\"marker\":{\"pattern\":{\"fillmode\":\"overlay\",\"size\":10,\"solidity\":0.2}},\"type\":\"histogram\"}],\"histogram2d\":[{\"colorbar\":{\"outlinewidth\":0,\"ticks\":\"\"},\"colorscale\":[[0.0,\"#0d0887\"],[0.1111111111111111,\"#46039f\"],[0.2222222222222222,\"#7201a8\"],[0.3333333333333333,\"#9c179e\"],[0.4444444444444444,\"#bd3786\"],[0.5555555555555556,\"#d8576b\"],[0.6666666666666666,\"#ed7953\"],[0.7777777777777778,\"#fb9f3a\"],[0.8888888888888888,\"#fdca26\"],[1.0,\"#f0f921\"]],\"type\":\"histogram2d\"}],\"histogram2dcontour\":[{\"colorbar\":{\"outlinewidth\":0,\"ticks\":\"\"},\"colorscale\":[[0.0,\"#0d0887\"],[0.1111111111111111,\"#46039f\"],[0.2222222222222222,\"#7201a8\"],[0.3333333333333333,\"#9c179e\"],[0.4444444444444444,\"#bd3786\"],[0.5555555555555556,\"#d8576b\"],[0.6666666666666666,\"#ed7953\"],[0.7777777777777778,\"#fb9f3a\"],[0.8888888888888888,\"#fdca26\"],[1.0,\"#f0f921\"]],\"type\":\"histogram2dcontour\"}],\"mesh3d\":[{\"colorbar\":{\"outlinewidth\":0,\"ticks\":\"\"},\"type\":\"mesh3d\"}],\"parcoords\":[{\"line\":{\"colorbar\":{\"outlinewidth\":0,\"ticks\":\"\"}},\"type\":\"parcoords\"}],\"pie\":[{\"automargin\":true,\"type\":\"pie\"}],\"scatter\":[{\"marker\":{\"colorbar\":{\"outlinewidth\":0,\"ticks\":\"\"}},\"type\":\"scatter\"}],\"scatter3d\":[{\"line\":{\"colorbar\":{\"outlinewidth\":0,\"ticks\":\"\"}},\"marker\":{\"colorbar\":{\"outlinewidth\":0,\"ticks\":\"\"}},\"type\":\"scatter3d\"}],\"scattercarpet\":[{\"marker\":{\"colorbar\":{\"outlinewidth\":0,\"ticks\":\"\"}},\"type\":\"scattercarpet\"}],\"scattergeo\":[{\"marker\":{\"colorbar\":{\"outlinewidth\":0,\"ticks\":\"\"}},\"type\":\"scattergeo\"}],\"scattergl\":[{\"marker\":{\"colorbar\":{\"outlinewidth\":0,\"ticks\":\"\"}},\"type\":\"scattergl\"}],\"scattermapbox\":[{\"marker\":{\"colorbar\":{\"outlinewidth\":0,\"ticks\":\"\"}},\"type\":\"scattermapbox\"}],\"scatterpolar\":[{\"marker\":{\"colorbar\":{\"outlinewidth\":0,\"ticks\":\"\"}},\"type\":\"scatterpolar\"}],\"scatterpolargl\":[{\"marker\":{\"colorbar\":{\"outlinewidth\":0,\"ticks\":\"\"}},\"type\":\"scatterpolargl\"}],\"scatterternary\":[{\"marker\":{\"colorbar\":{\"outlinewidth\":0,\"ticks\":\"\"}},\"type\":\"scatterternary\"}],\"surface\":[{\"colorbar\":{\"outlinewidth\":0,\"ticks\":\"\"},\"colorscale\":[[0.0,\"#0d0887\"],[0.1111111111111111,\"#46039f\"],[0.2222222222222222,\"#7201a8\"],[0.3333333333333333,\"#9c179e\"],[0.4444444444444444,\"#bd3786\"],[0.5555555555555556,\"#d8576b\"],[0.6666666666666666,\"#ed7953\"],[0.7777777777777778,\"#fb9f3a\"],[0.8888888888888888,\"#fdca26\"],[1.0,\"#f0f921\"]],\"type\":\"surface\"}],\"table\":[{\"cells\":{\"fill\":{\"color\":\"#EBF0F8\"},\"line\":{\"color\":\"white\"}},\"header\":{\"fill\":{\"color\":\"#C8D4E3\"},\"line\":{\"color\":\"white\"}},\"type\":\"table\"}]},\"layout\":{\"annotationdefaults\":{\"arrowcolor\":\"#2a3f5f\",\"arrowhead\":0,\"arrowwidth\":1},\"autotypenumbers\":\"strict\",\"coloraxis\":{\"colorbar\":{\"outlinewidth\":0,\"ticks\":\"\"}},\"colorscale\":{\"diverging\":[[0,\"#8e0152\"],[0.1,\"#c51b7d\"],[0.2,\"#de77ae\"],[0.3,\"#f1b6da\"],[0.4,\"#fde0ef\"],[0.5,\"#f7f7f7\"],[0.6,\"#e6f5d0\"],[0.7,\"#b8e186\"],[0.8,\"#7fbc41\"],[0.9,\"#4d9221\"],[1,\"#276419\"]],\"sequential\":[[0.0,\"#0d0887\"],[0.1111111111111111,\"#46039f\"],[0.2222222222222222,\"#7201a8\"],[0.3333333333333333,\"#9c179e\"],[0.4444444444444444,\"#bd3786\"],[0.5555555555555556,\"#d8576b\"],[0.6666666666666666,\"#ed7953\"],[0.7777777777777778,\"#fb9f3a\"],[0.8888888888888888,\"#fdca26\"],[1.0,\"#f0f921\"]],\"sequentialminus\":[[0.0,\"#0d0887\"],[0.1111111111111111,\"#46039f\"],[0.2222222222222222,\"#7201a8\"],[0.3333333333333333,\"#9c179e\"],[0.4444444444444444,\"#bd3786\"],[0.5555555555555556,\"#d8576b\"],[0.6666666666666666,\"#ed7953\"],[0.7777777777777778,\"#fb9f3a\"],[0.8888888888888888,\"#fdca26\"],[1.0,\"#f0f921\"]]},\"colorway\":[\"#636efa\",\"#EF553B\",\"#00cc96\",\"#ab63fa\",\"#FFA15A\",\"#19d3f3\",\"#FF6692\",\"#B6E880\",\"#FF97FF\",\"#FECB52\"],\"font\":{\"color\":\"#2a3f5f\"},\"geo\":{\"bgcolor\":\"white\",\"lakecolor\":\"white\",\"landcolor\":\"#E5ECF6\",\"showlakes\":true,\"showland\":true,\"subunitcolor\":\"white\"},\"hoverlabel\":{\"align\":\"left\"},\"hovermode\":\"closest\",\"mapbox\":{\"style\":\"light\"},\"paper_bgcolor\":\"white\",\"plot_bgcolor\":\"#E5ECF6\",\"polar\":{\"angularaxis\":{\"gridcolor\":\"white\",\"linecolor\":\"white\",\"ticks\":\"\"},\"bgcolor\":\"#E5ECF6\",\"radialaxis\":{\"gridcolor\":\"white\",\"linecolor\":\"white\",\"ticks\":\"\"}},\"scene\":{\"xaxis\":{\"backgroundcolor\":\"#E5ECF6\",\"gridcolor\":\"white\",\"gridwidth\":2,\"linecolor\":\"white\",\"showbackground\":true,\"ticks\":\"\",\"zerolinecolor\":\"white\"},\"yaxis\":{\"backgroundcolor\":\"#E5ECF6\",\"gridcolor\":\"white\",\"gridwidth\":2,\"linecolor\":\"white\",\"showbackground\":true,\"ticks\":\"\",\"zerolinecolor\":\"white\"},\"zaxis\":{\"backgroundcolor\":\"#E5ECF6\",\"gridcolor\":\"white\",\"gridwidth\":2,\"linecolor\":\"white\",\"showbackground\":true,\"ticks\":\"\",\"zerolinecolor\":\"white\"}},\"shapedefaults\":{\"line\":{\"color\":\"#2a3f5f\"}},\"ternary\":{\"aaxis\":{\"gridcolor\":\"white\",\"linecolor\":\"white\",\"ticks\":\"\"},\"baxis\":{\"gridcolor\":\"white\",\"linecolor\":\"white\",\"ticks\":\"\"},\"bgcolor\":\"#E5ECF6\",\"caxis\":{\"gridcolor\":\"white\",\"linecolor\":\"white\",\"ticks\":\"\"}},\"title\":{\"x\":0.05},\"xaxis\":{\"automargin\":true,\"gridcolor\":\"white\",\"linecolor\":\"white\",\"ticks\":\"\",\"title\":{\"standoff\":15},\"zerolinecolor\":\"white\",\"zerolinewidth\":2},\"yaxis\":{\"automargin\":true,\"gridcolor\":\"white\",\"linecolor\":\"white\",\"ticks\":\"\",\"title\":{\"standoff\":15},\"zerolinecolor\":\"white\",\"zerolinewidth\":2}}},\"width\":800},                        {\"responsive\": true}                    ).then(function(){\n",
       "                            \n",
       "var gd = document.getElementById('1c16d485-8c89-4bd2-abfe-2e36bd21b93e');\n",
       "var x = new MutationObserver(function (mutations, observer) {{\n",
       "        var display = window.getComputedStyle(gd).display;\n",
       "        if (!display || display === 'none') {{\n",
       "            console.log([gd, 'removed!']);\n",
       "            Plotly.purge(gd);\n",
       "            observer.disconnect();\n",
       "        }}\n",
       "}});\n",
       "\n",
       "// Listen for the removal of the full notebook cells\n",
       "var notebookContainer = gd.closest('#notebook-container');\n",
       "if (notebookContainer) {{\n",
       "    x.observe(notebookContainer, {childList: true});\n",
       "}}\n",
       "\n",
       "// Listen for the clearing of the current output cell\n",
       "var outputEl = gd.closest('.output');\n",
       "if (outputEl) {{\n",
       "    x.observe(outputEl, {childList: true});\n",
       "}}\n",
       "\n",
       "                        })                };                });            </script>        </div>"
      ]
     },
     "metadata": {},
     "output_type": "display_data"
    }
   ],
   "source": [
    "# #plot the 3 principal components\n",
    "import plotly.express as px\n",
    "fig = px.scatter_3d(\n",
    "    clustered_df,\n",
    "    x=\"PC 1\",\n",
    "    y=\"PC 2\",\n",
    "    z=\"PC 3\",\n",
    "    color=\"Class\",\n",
    "    symbol=\"Class\",\n",
    "    hover_name=\"CoinName\",\n",
    "    hover_data=[\"Algorithm\"],\n",
    "    width=800,\n",
    ")\n",
    "fig.update_layout(legend=dict(x=0, y=1))\n",
    "fig.show()"
   ]
  },
  {
   "cell_type": "code",
   "execution_count": 44,
   "metadata": {},
   "outputs": [
    {
     "name": "stdout",
     "output_type": "stream",
     "text": [
      "The total number of tradable Cryptocurrancies are CoinName    532\n",
      "dtype: int64\n"
     ]
    }
   ],
   "source": [
    "# print the number of tradable cryptocurrancies\n",
    "print(f\"The total number of tradable Cryptocurrancies are {coins_name.count()}\")"
   ]
  },
  {
   "cell_type": "code",
   "execution_count": 49,
   "metadata": {},
   "outputs": [
    {
     "name": "stdout",
     "output_type": "stream",
     "text": [
      "(532, 4)\n"
     ]
    },
    {
     "data": {
      "text/html": [
       "<div>\n",
       "<style scoped>\n",
       "    .dataframe tbody tr th:only-of-type {\n",
       "        vertical-align: middle;\n",
       "    }\n",
       "\n",
       "    .dataframe tbody tr th {\n",
       "        vertical-align: top;\n",
       "    }\n",
       "\n",
       "    .dataframe thead th {\n",
       "        text-align: right;\n",
       "    }\n",
       "</style>\n",
       "<table border=\"1\" class=\"dataframe\">\n",
       "  <thead>\n",
       "    <tr style=\"text-align: right;\">\n",
       "      <th></th>\n",
       "      <th>TotalCoinSupply</th>\n",
       "      <th>TotalCoinsMined</th>\n",
       "      <th>CoinName</th>\n",
       "      <th>Class</th>\n",
       "    </tr>\n",
       "  </thead>\n",
       "  <tbody>\n",
       "    <tr>\n",
       "      <th>42</th>\n",
       "      <td>4.200000e-11</td>\n",
       "      <td>0.000000</td>\n",
       "      <td>42 Coin</td>\n",
       "      <td>0</td>\n",
       "    </tr>\n",
       "    <tr>\n",
       "      <th>404</th>\n",
       "      <td>5.320000e-04</td>\n",
       "      <td>0.001066</td>\n",
       "      <td>404Coin</td>\n",
       "      <td>0</td>\n",
       "    </tr>\n",
       "    <tr>\n",
       "      <th>1337</th>\n",
       "      <td>3.141593e-01</td>\n",
       "      <td>0.029576</td>\n",
       "      <td>EliteCoin</td>\n",
       "      <td>0</td>\n",
       "    </tr>\n",
       "    <tr>\n",
       "      <th>BTC</th>\n",
       "      <td>2.100000e-05</td>\n",
       "      <td>0.000018</td>\n",
       "      <td>Bitcoin</td>\n",
       "      <td>3</td>\n",
       "    </tr>\n",
       "    <tr>\n",
       "      <th>ETH</th>\n",
       "      <td>0.000000e+00</td>\n",
       "      <td>0.000109</td>\n",
       "      <td>Ethereum</td>\n",
       "      <td>3</td>\n",
       "    </tr>\n",
       "    <tr>\n",
       "      <th>LTC</th>\n",
       "      <td>8.400000e-05</td>\n",
       "      <td>0.000064</td>\n",
       "      <td>Litecoin</td>\n",
       "      <td>3</td>\n",
       "    </tr>\n",
       "    <tr>\n",
       "      <th>DASH</th>\n",
       "      <td>2.200000e-05</td>\n",
       "      <td>0.000009</td>\n",
       "      <td>Dash</td>\n",
       "      <td>0</td>\n",
       "    </tr>\n",
       "    <tr>\n",
       "      <th>XMR</th>\n",
       "      <td>0.000000e+00</td>\n",
       "      <td>0.000017</td>\n",
       "      <td>Monero</td>\n",
       "      <td>3</td>\n",
       "    </tr>\n",
       "    <tr>\n",
       "      <th>ETC</th>\n",
       "      <td>2.100000e-04</td>\n",
       "      <td>0.000115</td>\n",
       "      <td>Ethereum Classic</td>\n",
       "      <td>3</td>\n",
       "    </tr>\n",
       "    <tr>\n",
       "      <th>ZEC</th>\n",
       "      <td>2.100000e-05</td>\n",
       "      <td>0.000007</td>\n",
       "      <td>ZCash</td>\n",
       "      <td>3</td>\n",
       "    </tr>\n",
       "  </tbody>\n",
       "</table>\n",
       "</div>"
      ],
      "text/plain": [
       "      TotalCoinSupply  TotalCoinsMined          CoinName  Class\n",
       "42       4.200000e-11         0.000000           42 Coin      0\n",
       "404      5.320000e-04         0.001066           404Coin      0\n",
       "1337     3.141593e-01         0.029576         EliteCoin      0\n",
       "BTC      2.100000e-05         0.000018           Bitcoin      3\n",
       "ETH      0.000000e+00         0.000109          Ethereum      3\n",
       "LTC      8.400000e-05         0.000064          Litecoin      3\n",
       "DASH     2.200000e-05         0.000009              Dash      0\n",
       "XMR      0.000000e+00         0.000017            Monero      3\n",
       "ETC      2.100000e-04         0.000115  Ethereum Classic      3\n",
       "ZEC      2.100000e-05         0.000007             ZCash      3"
      ]
     },
     "execution_count": 49,
     "metadata": {},
     "output_type": "execute_result"
    }
   ],
   "source": [
    "# create scatter plot with tradable cryptocurrancies\n",
    "mm_scaler = MinMaxScaler()\n",
    "plot_data = mm_scaler.fit_transform(\n",
    "    clustered_df[[\"TotalCoinSupply\", \"TotalCoinsMined\"]]\n",
    ")\n",
    "plot_df = pd.DataFrame(\n",
    "    plot_data, columns=[\"TotalCoinSupply\", \"TotalCoinsMined\"], index=clustered_df.index\n",
    ")\n",
    "plot_df[\"CoinName\"] = clustered_df[\"CoinName\"]\n",
    "plot_df[\"Class\"] = clustered_df[\"Class\"]\n",
    "print(plot_df.shape)\n",
    "plot_df.head(10)"
   ]
  },
  {
   "cell_type": "markdown",
   "metadata": {},
   "source": [
    "# I could not ! pip install hvplot. i was getting error so i couldnt complete the plot."
   ]
  },
  {
   "cell_type": "code",
   "execution_count": null,
   "metadata": {},
   "outputs": [],
   "source": [
    "# Plot the scatter with x=\"TotalCoinsMined\" and y=\"TotalCoinSupply\"\n",
    "plot_df.hvplot.scatter(\n",
    "    x=\"TotalCoinsMined\", y=\"TotalCoinSupply\", hover_cols=[\"CoinName\"], by=\"Class\"\n",
    ")"
   ]
  },
  {
   "cell_type": "markdown",
   "metadata": {},
   "source": [
    "## Results and Observations"
   ]
  },
  {
   "cell_type": "markdown",
   "metadata": {},
   "source": [
    "#####  After cleaning and preparing dataset, we have total of 532 tradable cryptocurrencies.  "
   ]
  },
  {
   "cell_type": "markdown",
   "metadata": {},
   "source": [
    "#### Clustering Cryptocurrencies using K-means - elbow curve:\n",
    "###### Using unsupervised machine learning mode, i am unclear about the output. We generated elbow curve using the K-means method and found the best k value to be 4. We can conclude on an output of 4 clusters to categorize the Cryptocurrencies."
   ]
  },
  {
   "cell_type": "code",
   "execution_count": null,
   "metadata": {},
   "outputs": [],
   "source": []
  }
 ],
 "metadata": {
  "kernelspec": {
   "display_name": "Python 3",
   "language": "python",
   "name": "python3"
  },
  "language_info": {
   "codemirror_mode": {
    "name": "ipython",
    "version": 3
   },
   "file_extension": ".py",
   "mimetype": "text/x-python",
   "name": "python",
   "nbconvert_exporter": "python",
   "pygments_lexer": "ipython3",
   "version": "3.8.8"
  }
 },
 "nbformat": 4,
 "nbformat_minor": 4
}
